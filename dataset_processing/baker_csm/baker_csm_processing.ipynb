{
 "cells": [
  {
   "cell_type": "markdown",
   "id": "3ba16616-8326-450f-8b5d-7a1bfc416179",
   "metadata": {},
   "source": [
    "# Mount Baker CSM stereo run (with core 128 km^2 dataset)\n",
    "- Shashank Bhushan and Seth Vanderwilt\n",
    "- May 2023\n",
    "\n",
    "- Demonstration of the workflow to create a stack of inputs for elevation refinement models- this notebook shows execution with Mount Baker 20150911 stereo pair based on experiments with May 2019 South Cascade Glacier stereo processing.\n",
    "- Remaining issue\n",
    "  * Alignment with bare ground lidar brings stereo rasters close to lidar DEM but they do not align perfectly. Investigate and fix - previous Baker processing script (`pc_laz_prep_full.sh`) resulted in lidar DEM and stereo DEM lining up perfectly.\n",
    "- Next steps:\n",
    "  * Remove remaining hardcoding of filenames / ASP outputs / CRS\n",
    "  * Set reasonable bounds based on stereo pair & lidar intersection\n",
    "  * Pull these revised commands back into generic stereo script rather than having to execute in notebook\n",
    "  * (In script) final steps of copying stack of desired rasters into single folder"
   ]
  },
  {
   "cell_type": "code",
   "execution_count": null,
   "id": "4f773f37-cfd5-4ba4-b153-5798f97a48ab",
   "metadata": {},
   "outputs": [],
   "source": [
    "pair_dir = \"/mnt/1.0_TB_VOLUME/sethv/shashank_data/WV01_20150911_1020010042D39D00_1020010043455300\"\n"
   ]
  },
  {
   "cell_type": "markdown",
   "id": "e81058be-3f91-4ecc-a733-599707e20d65",
   "metadata": {},
   "source": [
    "## Find the left and right images based on XML metadata"
   ]
  },
  {
   "cell_type": "code",
   "execution_count": null,
   "id": "17d1858c-c9db-4ef0-8c1d-fee365283e60",
   "metadata": {},
   "outputs": [],
   "source": [
    "import os\n",
    "import xml.etree.ElementTree as ET\n",
    "import glob\n",
    "import rioxarray"
   ]
  },
  {
   "cell_type": "code",
   "execution_count": null,
   "id": "679fc559-5a91-40e8-8617-e9558a57fc5e",
   "metadata": {},
   "outputs": [],
   "source": [
    "xml_pattern = os.path.join(pair_dir, \"*.xml\")\n",
    "image_gsds = []\n",
    "for xml_fn in glob.glob(xml_pattern):\n",
    "    root = ET.parse(xml_fn)\n",
    "    # Extract mean GSD from the metadata fields\n",
    "    meanGSD = round(float(root.find(\"./IMD/IMAGE/MEANPRODUCTGSD\").text),3)\n",
    "\n",
    "    print(os.path.basename(xml_fn), meanGSD)\n",
    "    image_id = os.path.basename(xml_fn).split(\".\")[0]\n",
    "    \n",
    "    # Extract fields of interest and just keep all metadata around as 'xml_root'\n",
    "    image_dict = {\n",
    "        \"xml_fn\": xml_fn,\n",
    "        \"image_fn\": xml_fn.replace(\"xml\", \"tif\"),\n",
    "        \"meanGSD\": meanGSD,\n",
    "        \"image_id\": image_id,\n",
    "        \"xml_root\": root\n",
    "    }\n",
    "    \n",
    "    image_gsds.append(image_dict)\n",
    "    print(image_id)\n",
    "\n",
    "left_dict = min(image_gsds, key=lambda i: i[\"meanGSD\"])\n",
    "right_dict = max(image_gsds, key=lambda i: i[\"meanGSD\"])\n",
    "res = min(image_gsds, key=lambda i: i[\"meanGSD\"])[\"meanGSD\"]\n",
    "print(f\"Highest resolution to use for orthoimages & stereo: {res} meters\")\n",
    "\n",
    "left_image_id = left_dict[\"image_id\"]\n",
    "right_image_id = right_dict[\"image_id\"]"
   ]
  },
  {
   "cell_type": "markdown",
   "id": "58fabb85-912b-46c7-aa19-920e42b836bb",
   "metadata": {},
   "source": [
    "## TODO: Determine common intersection extent\n",
    "* Better way: extract URLON ULLAT etc. fields from the XML and find the shared bbox between the images and lidar point cloud to use for rest of dataset creation."
   ]
  },
  {
   "cell_type": "code",
   "execution_count": null,
   "id": "f7802f8d-c05b-46ef-94b9-1d94df3bef81",
   "metadata": {},
   "outputs": [],
   "source": [
    "xmin, ymin, xmax, ymax = (583000, 5395000, 591000, 5411000)  # bounds in reprojected CRS\n"
   ]
  },
  {
   "cell_type": "markdown",
   "id": "fe2aaa37-89b7-45d4-8d38-1fb09ef10bf1",
   "metadata": {},
   "source": [
    "## Bundle adjustment"
   ]
  },
  {
   "cell_type": "code",
   "execution_count": null,
   "id": "e703482a-4dd8-4184-b0df-4d75cda3ae02",
   "metadata": {
    "tags": []
   },
   "outputs": [],
   "source": [
    "!bundle_adjust --ip-per-image 10000 -t dg --dg-use-csm \\\n",
    "    --camera-weight 0 --tri-weight 0.1 --tri-robust-threshold 0.1 \\\n",
    "    $left_image_fn $right_image_fn $left_image_xml $right_image_xml \\\n",
    "    -o dg_csm_model_refined/run"
   ]
  },
  {
   "cell_type": "markdown",
   "id": "2f23632c-ceb3-4112-abb9-f4caa6603bb5",
   "metadata": {},
   "source": [
    "## Register camera models to reference DEM\n",
    "* Using Copernicus GLO-30 Digital Elevation Model from [OpenTopography](https://portal.opentopography.org/raster?opentopoID=OTSDEM.032021.4326.3)\n",
    "* Coordinate System:\n",
    "  - Horizontal: WGS84 [EPSG: 4326]\n",
    "  - Vertical: EGM2008 [EPSG: 3855] "
   ]
  },
  {
   "cell_type": "code",
   "execution_count": null,
   "id": "789f00ce-4632-45c1-a0fb-bb01c6a369f6",
   "metadata": {},
   "outputs": [],
   "source": [
    "refdem_from_opentopography = \"output_COP30.tif\"\n",
    "refdem = \"refdem_copernicus_30m_32610_wgs84.tif\" # reprojected & cropped to extent"
   ]
  },
  {
   "cell_type": "markdown",
   "id": "6f75580e-e4ce-43ec-810a-f2224657c6d8",
   "metadata": {},
   "source": [
    "## Adjust reference DEM to desired datum.\n",
    "* Call `dem_geoid` - but only in newer ASP versions with bugfix for .jp2 datum files"
   ]
  },
  {
   "cell_type": "code",
   "execution_count": null,
   "id": "838fef46-c9db-4a5e-8413-fed3fd02b448",
   "metadata": {},
   "outputs": [],
   "source": [
    "# Adjust the Copernicus 30m product to be in heights above ellipsoid instead of EGM2008 geoid\n",
    "# dem_geoid bug fixed in ASP 3.2.1+\n",
    "!/mnt/1.0_TB_VOLUME/sethv/dshean_tools/StereoPipeline-3.2.1-alpha-2023-05-11-x86_64-Linux/bin/dem_geoid --reverse-adjustment --geoid EGM2008 output_COP30.tif\n"
   ]
  },
  {
   "cell_type": "code",
   "execution_count": null,
   "id": "626e19a6-bc2b-46fd-886e-656b0995d280",
   "metadata": {},
   "outputs": [],
   "source": [
    "refdem_from_opentopography_ellipsoid = refdem_from_opentopography.replace(\".tif\", \"-adj.tif\")\n",
    "!gdalwarp -overwrite -r cubic -t_srs \"EPSG:32610\" -te $xmin $ymin $xmax $ymax $refdem_from_opentopography_ellipsoid $refdem\n"
   ]
  },
  {
   "cell_type": "code",
   "execution_count": null,
   "id": "d313569e-3bd7-42f3-8033-524379c6826e",
   "metadata": {},
   "outputs": [],
   "source": [
    "t_srs = \"EPSG:32610\"  # add vertical CRS if compatible with ASP?"
   ]
  },
  {
   "cell_type": "code",
   "execution_count": null,
   "id": "aecfbd79-abf7-40c4-a6d9-3b5d284ed46c",
   "metadata": {},
   "outputs": [],
   "source": [
    "refdem_rxr = rioxarray.open_rasterio(refdem)\n",
    "refdem_opentopography_rxr = rioxarray.open_rasterio(refdem_from_opentopography)\n",
    "diff = refdem_rxr - refdem_opentopography_rxr.rio.reproject_match(refdem_rxr)\n",
    "print(f\"Refdem in EGM2008 heights minimum elevation: {refdem_opentopography_rxr.min().item()}\")\n",
    "print(f\"Adjusted refdem minimum elevation: {refdem_rxr.min().item()}\")\n"
   ]
  },
  {
   "cell_type": "markdown",
   "id": "e8d1f67d-c413-48fd-996c-5c93df2c4d11",
   "metadata": {},
   "source": [
    "**Plot the difference after vertical datum adjustment - pixel shape artifacts expected since adjusted refdem is interpolated and raw refdem is not.**"
   ]
  },
  {
   "cell_type": "code",
   "execution_count": null,
   "id": "6478dbad-362f-4e4d-92d8-8259792d9f49",
   "metadata": {},
   "outputs": [],
   "source": [
    "import matplotlib.pyplot as plt\n",
    "\n",
    "diff.plot(vmin=-30, vmax=30, cmap=\"RdBu\")\n",
    "plt.title(f\"Mean difference after datum change (EGM2008 -> WGS84): {diff.mean().item():.2f} m\")\n"
   ]
  },
  {
   "cell_type": "markdown",
   "id": "48a1ae16-ad7f-4b8f-b9aa-cabe2efb0977",
   "metadata": {},
   "source": [
    "## Align sparse point cloud (which comes from initial bundle adjustment) to Copernicus DEM\n",
    "* Note: this should not result in much vertical translation, but some horizontal translation"
   ]
  },
  {
   "cell_type": "code",
   "execution_count": null,
   "id": "99809139-3d9a-4906-b5a2-a85e0c62e908",
   "metadata": {},
   "outputs": [],
   "source": [
    "sparse_cloud_fn = \"dg_csm_model_refined/run-final_residuals_pointmap.csv\""
   ]
  },
  {
   "cell_type": "code",
   "execution_count": null,
   "id": "25d4acad-b78f-4b86-a0f8-74638e69d050",
   "metadata": {},
   "outputs": [],
   "source": [
    "# TODO: should this alignment be translation only, or continue to allow rotation?\n",
    "!pc_align --max-displacement 20 --csv-format \"2:lat 1:lon 3:height_above_datum\" --save-transformed-source-points $refdem $sparse_cloud_fn -o align_sparse_ba_cloud_to_cop30/align_sparse_ba_cloud_to_cop30 \n"
   ]
  },
  {
   "cell_type": "markdown",
   "id": "7e29b9f9-77f0-43ca-b848-7dbdda297bdd",
   "metadata": {},
   "source": [
    "## Update camera models for mapproject"
   ]
  },
  {
   "cell_type": "code",
   "execution_count": null,
   "id": "5643aefc-7f01-4d99-84d0-2e2086159202",
   "metadata": {},
   "outputs": [],
   "source": [
    "left_adjust_fn = f\"dg_csm_model_refined/run-{left_image_id}.r100.adjusted_state.json\"\n",
    "right_adjust_fn = f\"dg_csm_model_refined/run-{right_image_id}.r100.adjusted_state.json\"\n",
    "!bundle_adjust -t csm --apply-initial-transform-only yes $left_image_fn $right_image_fn \\\n",
    "    $left_adjust_fn $right_adjust_fn \\\n",
    "    --initial-transform align_sparse_ba_cloud_to_cop30/align_sparse_ba_cloud_to_cop30-transform.txt \\\n",
    "    -o csm_cameras_aligned_to_copernicus/csm_cameras_aligned_to_copernicus"
   ]
  },
  {
   "cell_type": "markdown",
   "id": "98196c8f-3927-4c51-a4e6-1cbbf0e97899",
   "metadata": {},
   "source": [
    "## Orthorectification"
   ]
  },
  {
   "cell_type": "code",
   "execution_count": null,
   "id": "4b73656f-dde9-45d9-bd1d-fe2cadcb9ba5",
   "metadata": {
    "tags": []
   },
   "outputs": [],
   "source": [
    "# lowres = 1.0 # meters\n",
    "# left_orthoimage_lowres_fn = f\"ortho_left_{lowres}.tif\"\n",
    "# !mapproject -t csm --ot UInt16 --t_srs $t_srs --t_projwin $xmin $ymin $xmax $ymax \\\n",
    "#      --tr $lowres \\\n",
    "#     $refdem \\\n",
    "#     $left_image_fn $left_adjust_fn $left_orthoimage_lowres_fn"
   ]
  },
  {
   "cell_type": "code",
   "execution_count": null,
   "id": "06780e90-d8a7-4567-9676-45e9594b70f4",
   "metadata": {},
   "outputs": [],
   "source": [
    "left_bundle_adjusted_and_aligned_csm_fn = f\"csm_cameras_aligned_to_copernicus/csm_cameras_aligned_to_copernicus-run-{left_image_id}.r100.adjusted_state.json\"\n",
    "right_bundle_adjusted_and_aligned_csm_fn = f\"csm_cameras_aligned_to_copernicus/csm_cameras_aligned_to_copernicus-run-{right_image_id}.r100.adjusted_state.json\"\n"
   ]
  },
  {
   "cell_type": "markdown",
   "id": "bf6e3781-481d-44d1-9913-f5460861e2b8",
   "metadata": {},
   "source": [
    "## Mapprojection at full resolution"
   ]
  },
  {
   "cell_type": "code",
   "execution_count": null,
   "id": "3d2e8c89-6b42-40d3-b754-1f64ce7f7d69",
   "metadata": {
    "tags": []
   },
   "outputs": [],
   "source": [
    "left_orthoimage_fullres_fn = f\"ortho_left_{res}m.tif\"\n",
    "!mapproject -t csm --ot UInt16 --t_srs $t_srs \\\n",
    "     --t_projwin $xmin $ymin $xmax $ymax \\\n",
    "     --tr $res \\\n",
    "    $refdem \\\n",
    "    $left_image_fn $left_bundle_adjusted_and_aligned_csm_fn $left_orthoimage_fullres_fn"
   ]
  },
  {
   "cell_type": "code",
   "execution_count": null,
   "id": "c54c6db3-c715-40d0-8845-b84f3956a3d5",
   "metadata": {
    "tags": []
   },
   "outputs": [],
   "source": [
    "right_orthoimage_fullres_fn = f\"ortho_right_{res}m.tif\"\n",
    "!mapproject -t csm --ot UInt16 --t_srs $t_srs \\\n",
    "     --t_projwin $xmin $ymin $xmax $ymax \\\n",
    "     --tr $res \\\n",
    "    $refdem \\\n",
    "    $right_image_fn $right_bundle_adjusted_and_aligned_csm_fn $right_orthoimage_fullres_fn"
   ]
  },
  {
   "cell_type": "markdown",
   "id": "5d09bd56-4659-4470-bc66-70def6d748c6",
   "metadata": {},
   "source": [
    "## Best parallel_stereo command for run 2: same parameters, correctly reprojected and interpolated refdem\n",
    "* Explanations of stereo parameters go in the README"
   ]
  },
  {
   "cell_type": "code",
   "execution_count": null,
   "id": "666980e3-2b20-48f1-8c70-3d6beb78d1e0",
   "metadata": {},
   "outputs": [],
   "source": [
    "# Running this in Tmux\n",
    "!parallel_stereo \\\n",
    "    --corr-kernel 7 7 \\\n",
    "    --cost-mode 3  \\\n",
    "    --subpixel-kernel 15 15 \\\n",
    "    --subpixel-mode 9 \\\n",
    "    --stereo-algorithm asp_mgm \\\n",
    "    --alignment-method none \\\n",
    "    --num-matches-from-disparity 10000 \\\n",
    "    --corr-tile-size 1024 \\\n",
    "    --corr-memory-limit-mb 5000 \\\n",
    "    --erode-max-size 0 \\\n",
    "    ortho_left_0.541m.tif \\\n",
    "    ortho_right_0.541m.tif \\\n",
    "    csm_cameras_aligned_to_copernicus/csm_cameras_aligned_to_copernicus-run-1020010042D39D00.r100.adjusted_state.json \\\n",
    "    csm_cameras_aligned_to_copernicus/csm_cameras_aligned_to_copernicus-run-1020010043455300.r100.adjusted_state.json \\\n",
    "    stereo_processing/run_large_2 \\\n",
    "    refdem_copernicus_30m_32610_wgs84.tif"
   ]
  },
  {
   "cell_type": "markdown",
   "id": "6ebcd5ba-136d-4945-b9ae-b2f6f18c89bc",
   "metadata": {},
   "source": [
    "## DEM quality check before coregistration: create DEMs at different grid sizes"
   ]
  },
  {
   "cell_type": "code",
   "execution_count": null,
   "id": "650c3f87-a12f-4cde-9915-fff1479f5b7b",
   "metadata": {},
   "outputs": [],
   "source": [
    "# Can also try 2 or 3 meter grid and resample for smoother results if needed?\n",
    "# !point2dem --tr 2.0 stereo_processing/run_large_2-PC.tif -o \"stereo_processing/run_large_2-2.0m\"\n",
    "!point2dem --tr 1.0 --errorimage stereo_processing/run_large_2-PC.tif -o \"stereo_processing/run_large_2-1.0m\""
   ]
  },
  {
   "cell_type": "markdown",
   "id": "caaddb7e-7730-4df9-88cc-83b9ed26500e",
   "metadata": {},
   "source": [
    "## Align stereo point cloud to bare-ground filtered lidar point cloud"
   ]
  },
  {
   "cell_type": "code",
   "execution_count": null,
   "id": "e9c61192-19c8-4f7d-8057-b59523d4f95b",
   "metadata": {},
   "outputs": [],
   "source": [
    "lidar_reference_bareground_laz=\"/mnt/1.0_TB_VOLUME/sethv/resdepth_all/deep-elevation-refinement/ResDepth/torchgeo_experiments/usgs_all616_laz_filtered_dem_mask_nlcd_rock_exclude_glaciers/merged/merged_baker_bareground_all.laz\"\n"
   ]
  },
  {
   "cell_type": "markdown",
   "id": "78314f47-aaf0-4b5e-b43d-ed352c1f5b7c",
   "metadata": {},
   "source": [
    "### Update: because the first pc_align call introduced a slight rotation, need to run allowing rotation"
   ]
  },
  {
   "cell_type": "code",
   "execution_count": null,
   "id": "a01f78b2-438f-427b-9177-2be8ba7535f5",
   "metadata": {},
   "outputs": [],
   "source": [
    "# Run in shell/script, very slow for notebook use\n",
    "# Removed translation-only argument!\n",
    "!pc_align --max-displacement 20 --save-transformed-source-points \\\n",
    "$lidar_reference_bareground_laz \\\n",
    "stereo_processing/run_large_2-PC.tif \\\n",
    "-o stereo_processing/translation_alignment/run  \\\n",
    "--highest-accuracy\n"
   ]
  },
  {
   "cell_type": "code",
   "execution_count": null,
   "id": "faa57354-d173-4b1e-af5e-f74b29666224",
   "metadata": {},
   "outputs": [],
   "source": [
    "# TODO split out & fix exact extent\n",
    "aligned_stereo_pc = \"stereo_processing/translation_alignment/run-trans_source.tif\"\n",
    "aligned_stereo_dem_prefix = \"stereo_processing/translation_alignment/aligned_stereo_1.0m\"\n",
    "aligned_stereo_dem_fn = aligned_stereo_dem_prefix + \"-DEM.tif\"\n",
    "!point2dem --tr 1 --t_srs $t_srs --errorimage --nodata-value -9999 \\\n",
    "$aligned_stereo_pc -o stereo_processing/translation_alignment/aligned_stereo_1.0m"
   ]
  },
  {
   "cell_type": "markdown",
   "id": "f77dc637-3ae3-4aed-8878-3b32411277dd",
   "metadata": {},
   "source": [
    "## Align self-consistent CSM camera models to lidar\n"
   ]
  },
  {
   "cell_type": "code",
   "execution_count": null,
   "id": "47a0f87a-b83a-4424-ad81-c513fb51971c",
   "metadata": {},
   "outputs": [],
   "source": [
    "left_bundle_adjusted_and_aligned_csm_fn"
   ]
  },
  {
   "cell_type": "code",
   "execution_count": null,
   "id": "b94e7c9e-e0a2-49cf-b45b-0d8d8ed6f9e4",
   "metadata": {},
   "outputs": [],
   "source": [
    "right_bundle_adjusted_and_aligned_csm_fn"
   ]
  },
  {
   "cell_type": "code",
   "execution_count": null,
   "id": "ba207dcf-15dc-44b7-b162-3cd5912ab386",
   "metadata": {},
   "outputs": [],
   "source": [
    "!bundle_adjust -t csm --apply-initial-transform-only yes \\\n",
    "    $left_image_fn \\\n",
    "    $right_image_fn \\\n",
    "    \"$left_bundle_adjusted_and_aligned_csm_fn\" \\\n",
    "    \"$right_bundle_adjusted_and_aligned_csm_fn\" \\\n",
    "    --initial-transform try_pc_align_to_lidar_15m_maxdisp_rotationallowed/run-transform.txt \\\n",
    "    -o stereo_processing/translation_alignment/lidar_aligned_csm_cameras"
   ]
  },
  {
   "cell_type": "code",
   "execution_count": null,
   "id": "60422bb9-c2b7-4b74-9da8-f078eac6a360",
   "metadata": {},
   "outputs": [],
   "source": [
    "output_res = 1.0\n"
   ]
  },
  {
   "cell_type": "code",
   "execution_count": null,
   "id": "a7909a51-ac70-46d2-86e9-e2baebbd2a21",
   "metadata": {},
   "outputs": [],
   "source": [
    "left_final_aligned_csm_fn = f\"stereo_processing/translation_alignment/lidar_aligned_csm_cameras-csm_cameras_aligned_to_copernicus-run-{left_image_id}.r100.adjusted_state.json\"\n",
    "right_final_aligned_csm_fn = f\"stereo_processing/translation_alignment/lidar_aligned_csm_cameras-csm_cameras_aligned_to_copernicus-run-{right_image_id}.r100.adjusted_state.json\"\n"
   ]
  },
  {
   "cell_type": "markdown",
   "id": "c13f0ac6-4e1b-470f-aaf7-478d8597a51d",
   "metadata": {},
   "source": [
    "# Redefine aligned_stereo_dem_fn\n"
   ]
  },
  {
   "cell_type": "code",
   "execution_count": null,
   "id": "711fec50-4fde-422c-bbb1-c26a6dea2344",
   "metadata": {},
   "outputs": [],
   "source": [
    "aligned_stereo_dem_fn = \"try_pc_align_to_lidar_15m_maxdisp_rotationallowed/try_pc_align_to_lidar_15m_maxdisp_rotationallowed-1.0m-DEM.tif\""
   ]
  },
  {
   "cell_type": "code",
   "execution_count": null,
   "id": "2bf110c6-9959-4656-b76a-b45b2f1e782c",
   "metadata": {
    "tags": []
   },
   "outputs": [],
   "source": [
    "right_orthoimage_fullres_fn = f\"final_ortho_right_{output_res:.1f}m.tif\"\n",
    "\n",
    "!mapproject -t csm --ot UInt16 --t_srs $t_srs \\\n",
    " --t_projwin $xmin $ymin $xmax $ymax \\\n",
    " --tr $output_res \\\n",
    "$aligned_stereo_dem_fn $right_image_fn $right_final_aligned_csm_fn $right_orthoimage_fullres_fn"
   ]
  },
  {
   "cell_type": "code",
   "execution_count": null,
   "id": "943c91b7-9670-40b1-993c-c321dcd626ae",
   "metadata": {
    "tags": []
   },
   "outputs": [],
   "source": [
    "left_orthoimage_fullres_fn = f\"final_ortho_left_{output_res:.1f}m.tif\"\n",
    "\n",
    "!mapproject -t csm --ot UInt16 --t_srs $t_srs \\\n",
    " --t_projwin $xmin $ymin $xmax $ymax \\\n",
    " --tr $output_res \\\n",
    "$aligned_stereo_dem_fn $left_image_fn $left_final_aligned_csm_fn $left_orthoimage_fullres_fn"
   ]
  },
  {
   "cell_type": "markdown",
   "id": "82831c6c-4cb9-4de6-83ee-cad94c29b868",
   "metadata": {},
   "source": [
    "## QGIS observation: orthoimages are now self-consistent and match the aligned stereo DEM!"
   ]
  },
  {
   "cell_type": "markdown",
   "id": "512ff313-9fe6-4783-b6fb-e40bb88400fc",
   "metadata": {},
   "source": [
    "## Prepare raster stack"
   ]
  },
  {
   "cell_type": "code",
   "execution_count": null,
   "id": "c5f0908a-3341-4609-bc37-532ccbbadcdc",
   "metadata": {},
   "outputs": [],
   "source": [
    "# Define window"
   ]
  },
  {
   "cell_type": "code",
   "execution_count": null,
   "id": "8b199b1b-6ea9-43b3-9864-b231b7a64067",
   "metadata": {},
   "outputs": [],
   "source": [
    "!gdalinfo final_ortho_left_1.0m.tif"
   ]
  },
  {
   "cell_type": "code",
   "execution_count": null,
   "id": "0a1d8532-908d-411f-8751-295a0ec4a615",
   "metadata": {
    "tags": []
   },
   "outputs": [],
   "source": [
    "!gdalinfo final_ortho_right_1.0m.tif"
   ]
  },
  {
   "cell_type": "code",
   "execution_count": null,
   "id": "815f3f4c-f67b-4ca9-821f-9642ac1e9ee6",
   "metadata": {
    "tags": []
   },
   "outputs": [],
   "source": [
    "!gdalinfo try_pc_align_to_lidar_15m_maxdisp_rotationallowed/try_pc_align_to_lidar_15m_maxdisp_rotationallowed-1.0m-DEM.tif"
   ]
  },
  {
   "cell_type": "code",
   "execution_count": null,
   "id": "d20eea62-76f2-4902-8bde-edcd5e7e1808",
   "metadata": {},
   "outputs": [],
   "source": [
    "aligned_stereo_dem_fn"
   ]
  },
  {
   "cell_type": "code",
   "execution_count": null,
   "id": "dd45c890-ea35-426a-8f82-49c96eb2b9e0",
   "metadata": {},
   "outputs": [],
   "source": [
    "aligned_stereo_intersection_error_fn = aligned_stereo_dem_fn.replace(\"DEM\",\"IntersectionErr\")\n",
    "aligned_stereo_intersection_error_fn"
   ]
  },
  {
   "cell_type": "code",
   "execution_count": null,
   "id": "a9844490-af2a-4fd4-b79f-55ba3cdf3196",
   "metadata": {},
   "outputs": [],
   "source": [
    "outdir = \"baker_csm_stack\"\n",
    "!mkdir -p $outdir\n",
    "!cp $aligned_stereo_dem_fn $left_orthoimage_fullres_fn \\\n",
    "    $right_orthoimage_fullres_fn $aligned_stereo_intersection_error_fn \\\n",
    "    $outdir\n",
    "\n"
   ]
  },
  {
   "cell_type": "code",
   "execution_count": null,
   "id": "f0204a52-586d-4dff-8b04-35885bc73e86",
   "metadata": {},
   "outputs": [],
   "source": [
    "!echo $aligned_stereo_dem_fn $left_orthoimage_fullres_fn \\\n",
    "    $right_orthoimage_fullres_fn $aligned_stereo_intersection_error_fn"
   ]
  },
  {
   "cell_type": "code",
   "execution_count": null,
   "id": "4de4bab8-823b-42ba-83b3-281ca9a89b5c",
   "metadata": {},
   "outputs": [],
   "source": [
    "import glob\n",
    "for fn in glob.glob(os.path.join(outdir,\"*.tif\")):\n",
    "    print(fn)\n",
    "    new_fn = fn.replace(\".tif\",\"_holes_filled.tif\")\n",
    "    !gdal_fillnodata.py -md 500 $fn $new_fn"
   ]
  },
  {
   "cell_type": "code",
   "execution_count": null,
   "id": "bdf4d4ba-13b1-43a6-9ea5-f9331d7ea080",
   "metadata": {},
   "outputs": [],
   "source": [
    "gd_dir = \"sethv1_gdrive:resdepth-seth-all/baker20150911_csm_stereo_raster_stack\"\n",
    "validation_dem_fn = \"/mnt/1.0_TB_VOLUME/sethv/shashank_data/VALIDATION_baker_128-1.0m-DEM.tif\"\n",
    "output_v68_fn = \"/mnt/1.0_TB_VOLUME/sethv/resdepth_all/deep-elevation-refinement/ResDepth/torchgeo_experiments/output_baker_full_v68_11325.tif\"\n",
    "output_v93_fn = \"/mnt/1.0_TB_VOLUME/sethv/resdepth_all/deep-elevation-refinement/ResDepth/torchgeo_experiments/output_baker_full_v93_11504.tif\"\n",
    "# train_val_split_geojson_fn = \"\n",
    "lidar_dem_mosaic_fn = \"/mnt/1.0_TB_VOLUME/sethv/resdepth_all/deep-elevation-refinement/ResDepth/torchgeo_experiments/mosaic/mosaic_full128_USGS_LPC_WA_MtBaker_2015_*_LAS_2017_32610_first_filt_v1.3_1.0m-DEM_holes_filled.tif\"\n",
    "for fn in [\n",
    "    aligned_stereo_dem_fn,\n",
    "    left_orthoimage_fullres_fn,\n",
    "    right_orthoimage_fullres_fn,\n",
    "    aligned_stereo_intersection_error_fn,\n",
    "    lidar_reference_bareground_dem,\n",
    "    validation_dem_fn,\n",
    "    output_v68_fn,\n",
    "    output_v93_fn,\n",
    "    lidar_dem_mosaic_fn\n",
    "    # train_val_split_geojson_fn\n",
    "]:\n",
    "    print(fn)\n",
    "    !rclone copy -v $fn $gd_dir"
   ]
  },
  {
   "cell_type": "code",
   "execution_count": null,
   "id": "eb8798b5-fa33-42ec-8f69-790d9cec2aab",
   "metadata": {},
   "outputs": [],
   "source": [
    "!rclone ls $gd_dir"
   ]
  },
  {
   "cell_type": "code",
   "execution_count": null,
   "id": "c7741896-a4f6-4efc-8d63-08c3ec911432",
   "metadata": {},
   "outputs": [],
   "source": []
  }
 ],
 "metadata": {
  "kernelspec": {
   "display_name": "Python 3 (ipykernel)",
   "language": "python",
   "name": "python3"
  },
  "language_info": {
   "codemirror_mode": {
    "name": "ipython",
    "version": 3
   },
   "file_extension": ".py",
   "mimetype": "text/x-python",
   "name": "python",
   "nbconvert_exporter": "python",
   "pygments_lexer": "ipython3",
   "version": "3.10.9"
  }
 },
 "nbformat": 4,
 "nbformat_minor": 5
}
