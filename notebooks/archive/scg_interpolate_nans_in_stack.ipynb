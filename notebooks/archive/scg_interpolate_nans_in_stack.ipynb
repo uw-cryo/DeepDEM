{
 "cells": [
  {
   "cell_type": "markdown",
   "id": "83a85ed5-9cd4-488a-9be0-c77dcb5130c5",
   "metadata": {},
   "source": [
    "# Interpolate nodata gaps in South Cascade Glacier stereo processing outputs\n",
    "* Quick solution to get past NaN in loss functions - nodata at edges of scene and occluded cliff areas and elsewhere?"
   ]
  },
  {
   "cell_type": "code",
   "execution_count": 6,
   "id": "8caa4223-713c-42b8-9aa4-ae60c25a6bb7",
   "metadata": {},
   "outputs": [],
   "source": [
    "import rioxarray"
   ]
  },
  {
   "cell_type": "code",
   "execution_count": 8,
   "id": "8114d6af-03bf-496a-b2ee-5290fbf0dfa7",
   "metadata": {},
   "outputs": [
    {
     "name": "stdout",
     "output_type": "stream",
     "text": [
      "/mnt/1.0_TB_VOLUME/sethv/resdepth_all/data/SCG_ALIGNED_STACK\n"
     ]
    }
   ],
   "source": [
    "%cd \"/mnt/1.0_TB_VOLUME/sethv/resdepth_all/data/SCG_ALIGNED_STACK/\""
   ]
  },
  {
   "cell_type": "code",
   "execution_count": 9,
   "id": "c82dedda-a36c-44e4-9d56-d7028f7e05d2",
   "metadata": {},
   "outputs": [
    {
     "name": "stdout",
     "output_type": "stream",
     "text": [
      "aligned_hillshade_combined.tif\n",
      "run-IntersectionErr.tif\n",
      "run-trans_source-DEM.tif\n",
      "scg_aligned_asp_dsm_1.0m-DEM_holes_filled.tif\n",
      "scg_aligned_asp_dsm_1.0m-DEM.tif\n",
      "scg_aligned_asp_dsm_1.0m-IntersectionErr.tif\n",
      "scg_merged_lidar_dsm_1.0m-DEM_holes_filled.tif\n",
      "WV03_20190505191051_104001004CBC0600_19MAY05191051-P1BS-503126480010_01_P001_ortho_0_39m.tif\n",
      "WV03_20190505191051_104001004CBC0600_19MAY05191051-P1BS-503126480010_01_P001_ortho_1.0m.tif\n",
      "WV03_20190505191140_104001004C8CF300_19MAY05191140-P1BS-503126480010_01_P001_ortho_0.39m.tif\n",
      "WV03_20190505191140_104001004C8CF300_19MAY05191140-P1BS-503126480010_01_P001_ortho_1.0m.tif\n"
     ]
    }
   ],
   "source": [
    "%ls"
   ]
  },
  {
   "cell_type": "code",
   "execution_count": 44,
   "id": "20500e59-2b83-49f0-89ee-add7df5f3971",
   "metadata": {},
   "outputs": [],
   "source": [
    "files = {\n",
    "    \"initial_dem\": \"scg_aligned_asp_dsm_1.0m-DEM_holes_filled.tif\",\n",
    "    \"initial_dem_unfilled\": \"scg_aligned_asp_dsm_1.0m-DEM.tif\",\n",
    "    \"ortho1\": \"WV03_20190505191051_104001004CBC0600_19MAY05191051-P1BS-503126480010_01_P001_ortho_1.0m.tif\",\n",
    "    \"ortho2\": \"WV03_20190505191140_104001004C8CF300_19MAY05191140-P1BS-503126480010_01_P001_ortho_1.0m.tif\",\n",
    "    \"intersection_error\": \"scg_aligned_asp_dsm_1.0m-IntersectionErr.tif\" #\"run-IntersectionErr.tif\",\n",
    "    \"lidar_dem\": \"scg_merged_lidar_dsm_1.0m-DEM.tif\",\n",
    "}"
   ]
  },
  {
   "cell_type": "code",
   "execution_count": 45,
   "id": "ea15dd55-300c-4864-a5b1-514345b7d06d",
   "metadata": {},
   "outputs": [
    {
     "name": "stdout",
     "output_type": "stream",
     "text": [
      "lidar_dem 81018001 81018001\n"
     ]
    }
   ],
   "source": [
    "layers = dict()\n",
    "for layer_name, filepath in files.items():\n",
    "    raster = rioxarray.open_rasterio(filepath, masked=True)\n",
    "    raster = raster.rio.interpolate_na(\"nearest\")\n",
    "    layers[layer_name] = raster\n",
    "    print(layer_name, (raster >= 0).sum().item(), raster.size)\n",
    "    raster.rio.to_raster(filepath.replace(\".tif\",\"_interpolate_na.tif\"))"
   ]
  }
 ],
 "metadata": {
  "kernelspec": {
   "display_name": "Python 3 (ipykernel)",
   "language": "python",
   "name": "python3"
  },
  "language_info": {
   "codemirror_mode": {
    "name": "ipython",
    "version": 3
   },
   "file_extension": ".py",
   "mimetype": "text/x-python",
   "name": "python",
   "nbconvert_exporter": "python",
   "pygments_lexer": "ipython3",
   "version": "3.10.9"
  }
 },
 "nbformat": 4,
 "nbformat_minor": 5
}
