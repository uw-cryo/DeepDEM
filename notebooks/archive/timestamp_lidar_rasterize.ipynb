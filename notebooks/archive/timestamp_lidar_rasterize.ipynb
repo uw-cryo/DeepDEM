{
 "cells": [
  {
   "cell_type": "markdown",
   "id": "67d476e0-8815-40d3-a34a-eb7c8038d2ca",
   "metadata": {},
   "source": [
    "# Create time stamps for each USGS lidar tile"
   ]
  },
  {
   "cell_type": "code",
   "execution_count": 10,
   "id": "0ef76eee-38d4-423b-80fd-b771647bf700",
   "metadata": {},
   "outputs": [],
   "source": [
    "laz_fn = \"/mnt/1.0_TB_VOLUME/sethv/shashank_data/TRAIN_tile_stack_baker_128_global_coreg/pc_laz_prep_full_outputs_USGS_LPC_WA_MtBaker_2015_10UEU8395_LAS_2017/lower_easton3/USGS_LPC_WA_MtBaker_2015_10UEU8395_LAS_2017_32610_first_filt_v1.3.laz\"\n",
    "\n",
    "out_fn = \"USGS_LPC_WA_MtBaker_2015_10UEU8395_LAS_2017_32610_first_filt_v1.3_timestamps.tif\""
   ]
  },
  {
   "cell_type": "code",
   "execution_count": 11,
   "id": "f650c507-7c03-4248-909d-d3b8ea7a9e7b",
   "metadata": {},
   "outputs": [],
   "source": [
    "# pipeline = [\n",
    "#     laz_fn,\n",
    "#     # Crop in native CRS to remove as many points as possible\n",
    "#     {\"type\": \"filters.crop\", \"polygon\": polygon_list},\n",
    "#     {\"type\": \"filters.returns\", \"groups\": \"first,only\"},\n",
    "#     # Filter outliers to label as noise points (slow?)\n",
    "#     {\"type\": \"filters.outlier\"},\n",
    "#     {\"type\": \"filters.range\", \"limits\": \"Classification![7:7]\"},\n",
    "#     {\"type\": \"filters.reprojection\", \"out_srs\": out_crs},\n",
    "#     {\"type\": \"writers.las\", \"filename\": filtered_laz_fn, \"compression\": \"true\"},\n",
    "# ]\n",
    "res = 1\n",
    "!pdal translate -i $laz_fn -o $out_fn --writers.gdal.data_type=\"float64\"  --writers.gdal.dimension=\"GpsTime\" --writers.gdal.resolution=$res --writers.gdal.output_type=\"all\" --writers.gdal.gdalopts=\"COMPRESS=LZW,TILED=YES,BIGTIFF=IF_SAFER\" "
   ]
  },
  {
   "cell_type": "code",
   "execution_count": 19,
   "id": "845705c7-591f-4e58-8767-76eb92cd9031",
   "metadata": {},
   "outputs": [
    {
     "data": {
      "text/plain": [
       "128"
      ]
     },
     "execution_count": 19,
     "metadata": {},
     "output_type": "execute_result"
    }
   ],
   "source": [
    "import glob\n",
    "pattern = \"/mnt/1.0_TB_VOLUME/sethv/shashank_data/*tile_stack_baker_128_global_coreg/**/lower_easton3/USGS_LPC_WA_MtBaker_2015_*_LAS_2017_32610_first_filt_v1.3.laz\"\n",
    "laz_files = list(glob.glob(pattern))\n",
    "len(laz_files)"
   ]
  },
  {
   "cell_type": "code",
   "execution_count": 34,
   "id": "626c7ccb-931e-4130-8df9-69478bf9814e",
   "metadata": {},
   "outputs": [],
   "source": [
    "timestamps_out_fn = \"USGS_LPC_WA_MtBaker_2015_128_timestamps_10m.tif\"\n",
    "!gdal_merge.py -o $timestamps_out_fn USGS_LPC*timestamps.tif"
   ]
  },
  {
   "cell_type": "code",
   "execution_count": 35,
   "id": "ae878561-43b0-4549-9880-e5f7963b1439",
   "metadata": {
    "collapsed": true,
    "jupyter": {
     "outputs_hidden": true
    },
    "tags": []
   },
   "outputs": [
    {
     "name": "stdout",
     "output_type": "stream",
     "text": [
      "Driver: GTiff/GeoTIFF\n",
      "Files: USGS_LPC_WA_MtBaker_2015_128_timestamps_10m.tif\n",
      "Size is 801, 1602\n",
      "Coordinate System is:\n",
      "PROJCRS[\"WGS 84 / UTM zone 10N\",\n",
      "    BASEGEOGCRS[\"WGS 84\",\n",
      "        DATUM[\"World Geodetic System 1984\",\n",
      "            ELLIPSOID[\"WGS 84\",6378137,298.257223563,\n",
      "                LENGTHUNIT[\"metre\",1]]],\n",
      "        PRIMEM[\"Greenwich\",0,\n",
      "            ANGLEUNIT[\"degree\",0.0174532925199433]],\n",
      "        ID[\"EPSG\",4326]],\n",
      "    CONVERSION[\"UTM zone 10N\",\n",
      "        METHOD[\"Transverse Mercator\",\n",
      "            ID[\"EPSG\",9807]],\n",
      "        PARAMETER[\"Latitude of natural origin\",0,\n",
      "            ANGLEUNIT[\"degree\",0.0174532925199433],\n",
      "            ID[\"EPSG\",8801]],\n",
      "        PARAMETER[\"Longitude of natural origin\",-123,\n",
      "            ANGLEUNIT[\"degree\",0.0174532925199433],\n",
      "            ID[\"EPSG\",8802]],\n",
      "        PARAMETER[\"Scale factor at natural origin\",0.9996,\n",
      "            SCALEUNIT[\"unity\",1],\n",
      "            ID[\"EPSG\",8805]],\n",
      "        PARAMETER[\"False easting\",500000,\n",
      "            LENGTHUNIT[\"metre\",1],\n",
      "            ID[\"EPSG\",8806]],\n",
      "        PARAMETER[\"False northing\",0,\n",
      "            LENGTHUNIT[\"metre\",1],\n",
      "            ID[\"EPSG\",8807]]],\n",
      "    CS[Cartesian,2],\n",
      "        AXIS[\"(E)\",east,\n",
      "            ORDER[1],\n",
      "            LENGTHUNIT[\"metre\",1]],\n",
      "        AXIS[\"(N)\",north,\n",
      "            ORDER[2],\n",
      "            LENGTHUNIT[\"metre\",1]],\n",
      "    USAGE[\n",
      "        SCOPE[\"Engineering survey, topographic mapping.\"],\n",
      "        AREA[\"Between 126°W and 120°W, northern hemisphere between equator and 84°N, onshore and offshore. Canada - British Columbia (BC); Northwest Territories (NWT); Nunavut; Yukon. United States (USA) - Alaska (AK).\"],\n",
      "        BBOX[0,-126,84,-120]],\n",
      "    ID[\"EPSG\",32610]]\n",
      "Data axis to CRS axis mapping: 1,2\n",
      "Origin = (582990.239999999990687,5411009.610000000335276)\n",
      "Pixel Size = (10.000000000000000,-10.000000000000000)\n",
      "Metadata:\n",
      "  AREA_OR_POINT=Area\n",
      "Image Structure Metadata:\n",
      "  INTERLEAVE=PIXEL\n",
      "Corner Coordinates:\n",
      "Upper Left  (  582990.240, 5411009.610) (121d52' 7.77\"W, 48d50'47.42\"N)\n",
      "Lower Left  (  582990.240, 5394989.610) (121d52'19.41\"W, 48d42' 8.70\"N)\n",
      "Upper Right (  591000.240, 5411009.610) (121d45'34.82\"W, 48d50'43.38\"N)\n",
      "Lower Right (  591000.240, 5394989.610) (121d45'47.58\"W, 48d42' 4.68\"N)\n",
      "Center      (  586995.240, 5402999.610) (121d48'57.40\"W, 48d46'26.09\"N)\n",
      "Band 1 Block=801x1 Type=Float64, ColorInterp=Gray\n",
      "Band 2 Block=801x1 Type=Float64, ColorInterp=Undefined\n",
      "Band 3 Block=801x1 Type=Float64, ColorInterp=Undefined\n",
      "Band 4 Block=801x1 Type=Float64, ColorInterp=Undefined\n",
      "Band 5 Block=801x1 Type=Float64, ColorInterp=Undefined\n",
      "Band 6 Block=801x1 Type=Float64, ColorInterp=Undefined\n"
     ]
    }
   ],
   "source": [
    "ts = rioxarray.open_rasterio(timestamps_out_fn)\n",
    "!gdalinfo $timestamps_out_fn"
   ]
  },
  {
   "cell_type": "code",
   "execution_count": 54,
   "id": "2794c7a7-0577-4045-ac47-d30f21610631",
   "metadata": {},
   "outputs": [
    {
     "data": {
      "text/plain": [
       "126040971.99259782"
      ]
     },
     "execution_count": 54,
     "metadata": {},
     "output_type": "execute_result"
    }
   ],
   "source": [
    "float(ts[0][100][100])"
   ]
  },
  {
   "cell_type": "code",
   "execution_count": 61,
   "id": "ecf058a8-1fb8-4e7e-b955-d2fecdedaab1",
   "metadata": {},
   "outputs": [],
   "source": [
    "import astropy.time\n",
    "\n",
    "import numpy as np\n",
    "def convert_gpstime(ts):\n",
    "    return astropy.time.Time(10**9 + ts, format=\"gps\")\n",
    "\n",
    "ufunc = np.frompyfunc(convert_gpstime, 1, 1)\n",
    "\n"
   ]
  },
  {
   "cell_type": "code",
   "execution_count": 62,
   "id": "82e12de2-112b-400e-b212-5bf90cf9cdd9",
   "metadata": {},
   "outputs": [],
   "source": [
    "# ts_range = ts[1] - ts[0]\n",
    "ts_day_of_year_min = ufunc(ts[0])"
   ]
  },
  {
   "cell_type": "code",
   "execution_count": 47,
   "id": "a9c9a05d-450a-4a1c-bb13-30ee5c95a2aa",
   "metadata": {},
   "outputs": [],
   "source": [
    "ts_day_of_year_max = [astropy.time.Time(10**9 + x, format=\"gps\") for x in ts[1]]"
   ]
  },
  {
   "cell_type": "code",
   "execution_count": null,
   "id": "ef2444fc-9df6-4025-8617-1e4d3a5060c4",
   "metadata": {},
   "outputs": [],
   "source": [
    "import os\n",
    "for laz_fn in laz_files:\n",
    "    bn = os.path.basename(laz_fn)\n",
    "    prefix, _ = os.path.splitext(bn)\n",
    "    out_fn = prefix + \"_timestamps.tif\"\n",
    "    # print(out_fn)\n",
    "    res = 10\n",
    "    !pdal translate -i $laz_fn -o $out_fn --writers.gdal.data_type=\"float64\"  --writers.gdal.dimension=\"GpsTime\" --writers.gdal.resolution=$res --writers.gdal.output_type=\"all\" --writers.gdal.gdalopts=\"COMPRESS=LZW,TILED=YES,BIGTIFF=IF_SAFER\" "
   ]
  }
 ],
 "metadata": {
  "kernelspec": {
   "display_name": "Python 3 (ipykernel)",
   "language": "python",
   "name": "python3"
  },
  "language_info": {
   "codemirror_mode": {
    "name": "ipython",
    "version": 3
   },
   "file_extension": ".py",
   "mimetype": "text/x-python",
   "name": "python",
   "nbconvert_exporter": "python",
   "pygments_lexer": "ipython3",
   "version": "3.10.9"
  }
 },
 "nbformat": 4,
 "nbformat_minor": 5
}
