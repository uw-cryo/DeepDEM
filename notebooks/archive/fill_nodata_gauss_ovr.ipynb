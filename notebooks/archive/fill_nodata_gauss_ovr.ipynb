{
 "cells": [
  {
   "cell_type": "markdown",
   "id": "f8352c7d-b5d2-4ff3-9d44-dc0ec8c02157",
   "metadata": {},
   "source": [
    "## Hole filling using gaussian overviews\n",
    "David Shean  \n",
    "Updated June 2023"
   ]
  },
  {
   "cell_type": "code",
   "execution_count": null,
   "id": "3d706a3f-17b7-48c5-98c5-befe749eac2a",
   "metadata": {
    "tags": []
   },
   "outputs": [],
   "source": [
    "import os\n",
    "import sys"
   ]
  },
  {
   "cell_type": "code",
   "execution_count": null,
   "id": "93b19a41-f02e-4351-99d3-bc2b81fd70f8",
   "metadata": {
    "tags": []
   },
   "outputs": [],
   "source": [
    "#datadir = '/Users/dshean/Google Drive/My Drive/Chamoli_DEMs/DEM/WV_before/2015_mosaics/release'"
   ]
  },
  {
   "cell_type": "code",
   "execution_count": null,
   "id": "eb735e9d-d25c-49cc-8e11-66f99364f34c",
   "metadata": {
    "tags": []
   },
   "outputs": [],
   "source": [
    "#cd $datadir"
   ]
  },
  {
   "cell_type": "code",
   "execution_count": null,
   "id": "c55bb6cb-ccc5-4fe4-82a9-882f88eae05d",
   "metadata": {
    "tags": []
   },
   "outputs": [],
   "source": [
    "fn = 'Chamoli_Sept2015_Composite_DEM2m_wmean_crop3Dprint.tif'"
   ]
  },
  {
   "cell_type": "code",
   "execution_count": null,
   "id": "4c498522-6831-4932-8cff-425ae4aded2c",
   "metadata": {},
   "outputs": [],
   "source": [
    "fn = '/Users/dshean/Library/CloudStorage/GoogleDrive-dshean@uw.edu/My Drive/DSI_STV_2022/UW_fusion_deeplearning/baker20150911_csm_stereo_raster_stack/try_pc_align_to_lidar_15m_maxdisp_rotationallowed-1.0m-DEM.tif'"
   ]
  },
  {
   "cell_type": "code",
   "execution_count": null,
   "id": "b4db3ae2-b28e-4171-9cf1-fa25db0225e3",
   "metadata": {
    "tags": []
   },
   "outputs": [],
   "source": [
    "ovr_lvl = [2, 4, 8, 16, 32, 64, 128]\n",
    "ovr_lvl_str = ' '.join(map(str, ovr_lvl))"
   ]
  },
  {
   "cell_type": "code",
   "execution_count": null,
   "id": "d7edd37f-24d7-4c9e-be38-87ab6d1fbb94",
   "metadata": {
    "tags": []
   },
   "outputs": [],
   "source": [
    "!gdaladdo -r gauss \"$fn\" $ovr_lvl_str"
   ]
  },
  {
   "cell_type": "code",
   "execution_count": null,
   "id": "217a2559-9ad8-4f72-a2d8-133a71c5ee6f",
   "metadata": {
    "tags": []
   },
   "outputs": [],
   "source": [
    "out_fn_list = []\n",
    "\n",
    "for lvl in ovr_lvl:\n",
    "    p = 100./lvl\n",
    "    out_fn = os.path.splitext(fn)[0]+f'_{lvl}x.tif'\n",
    "    !gdal_translate -outsize $p% $p% \\\n",
    "    -co COMPRESS=LZW -co TILED=YES -co BIGTIFF=IF_SAFER \\\n",
    "    \"$fn\" \"$out_fn\"\n",
    "    out_fn_list.append(out_fn)"
   ]
  },
  {
   "cell_type": "code",
   "execution_count": null,
   "id": "a8ea3428-3fae-4dc0-ae6a-25955acdd648",
   "metadata": {
    "tags": []
   },
   "outputs": [],
   "source": [
    "out_fn_list_str = ' '.join(f\"'{w}'\" for w in out_fn_list)\n",
    "out_fn_list_str"
   ]
  },
  {
   "cell_type": "code",
   "execution_count": null,
   "id": "b4b2f451-4ab1-4dbb-9e8f-a0923db12355",
   "metadata": {},
   "outputs": [],
   "source": [
    "out_fn_list[i]"
   ]
  },
  {
   "cell_type": "code",
   "execution_count": null,
   "id": "b1af3887-3c2c-41e1-82d2-eb6e3195ff51",
   "metadata": {
    "tags": []
   },
   "outputs": [],
   "source": [
    "mos_fn = os.path.splitext(fn)[0]+f'_gaussfill_multistage.tif'"
   ]
  },
  {
   "cell_type": "code",
   "execution_count": null,
   "id": "1f5e0ef2-e8b3-486f-a58f-9c0a65bd5a74",
   "metadata": {},
   "outputs": [],
   "source": [
    "temp = fn\n",
    "for i in range(len(out_fn_list)):\n",
    "    #blending_px = 2**(i+1)\n",
    "    blending_px = 2**i\n",
    "    !dem_mosaic --priority-blending-length $blending_px \"$temp\" \"{out_fn_list[i]}\" -o '/tmp/temp.tif'\n",
    "    temp = '/tmp/temp.tif'\n",
    "!mv /tmp/temp.tif \"$mos_fn\""
   ]
  },
  {
   "cell_type": "code",
   "execution_count": null,
   "id": "05fe4fff-bcfd-4d26-adaa-d0ec1542d0da",
   "metadata": {},
   "outputs": [],
   "source": [
    "blending_px = 3"
   ]
  },
  {
   "cell_type": "code",
   "execution_count": null,
   "id": "6c1d632c-a0cc-4970-8c92-42e0ef0a664d",
   "metadata": {
    "tags": []
   },
   "outputs": [],
   "source": [
    "mos_fn = os.path.splitext(fn)[0]+f'_fill_{blending_px}px.tif'"
   ]
  },
  {
   "cell_type": "code",
   "execution_count": null,
   "id": "7c677b3b-3628-41a5-a430-ef705c048fb4",
   "metadata": {},
   "outputs": [],
   "source": [
    "mos_fn"
   ]
  },
  {
   "cell_type": "code",
   "execution_count": null,
   "id": "06582d15-581c-4caf-ac7b-fc97319f40fc",
   "metadata": {
    "tags": []
   },
   "outputs": [],
   "source": [
    "!dem_mosaic --priority-blending-length $blending_px \"$fn\" $out_fn_list_str -o \"$mos_fn\""
   ]
  },
  {
   "cell_type": "code",
   "execution_count": null,
   "id": "feb39723-50bd-4eb1-998d-dba664c7802b",
   "metadata": {},
   "outputs": [],
   "source": [
    "mos_fn = os.path.splitext(fn)[0]+'_fill_wavg.tif'"
   ]
  },
  {
   "cell_type": "code",
   "execution_count": null,
   "id": "3e0aa06a-5477-4d29-970e-66f34fcc4adf",
   "metadata": {},
   "outputs": [],
   "source": [
    "!dem_mosaic \"$fn\" $out_fn_list_str -o \"$mos_fn\""
   ]
  },
  {
   "cell_type": "code",
   "execution_count": null,
   "id": "104f394e-66dc-4360-bdcc-a3a70a0fd6ae",
   "metadata": {},
   "outputs": [],
   "source": [
    "mos_fn = os.path.splitext(fn)[0]+'_fill_first.tif'"
   ]
  },
  {
   "cell_type": "code",
   "execution_count": null,
   "id": "3e5bdf62-f470-4ef7-b3a0-b39fb94cf987",
   "metadata": {},
   "outputs": [],
   "source": [
    "!dem_mosaic --first \"$fn\" $out_fn_list_str -o \"$mos_fn\""
   ]
  },
  {
   "cell_type": "code",
   "execution_count": null,
   "id": "e89a7f2b-8d6f-45f1-b1e0-7c2cf059978f",
   "metadata": {},
   "outputs": [],
   "source": [
    "#This actually worked the best for filling DEM to create continuous orthoimages\n",
    "!gdal_fillnodata.py -si 3 \"$fn\" \"${fn}_gdalfill_si3.tif\""
   ]
  }
 ],
 "metadata": {
  "kernelspec": {
   "display_name": "Python 3 (ipykernel)",
   "language": "python",
   "name": "python3"
  },
  "language_info": {
   "codemirror_mode": {
    "name": "ipython",
    "version": 3
   },
   "file_extension": ".py",
   "mimetype": "text/x-python",
   "name": "python",
   "nbconvert_exporter": "python",
   "pygments_lexer": "ipython3",
   "version": "3.10.11"
  }
 },
 "nbformat": 4,
 "nbformat_minor": 5
}
