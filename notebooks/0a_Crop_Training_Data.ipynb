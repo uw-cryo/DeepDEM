{
 "cells": [
  {
   "cell_type": "markdown",
   "metadata": {},
   "source": [
    "The rasters we would like to use for training are of differing extents. This notebook outlines a workflow to crop them to be of consistent extents"
   ]
  },
  {
   "cell_type": "code",
   "execution_count": 90,
   "metadata": {},
   "outputs": [],
   "source": [
    "# GIS imports\n",
    "import rasterio\n",
    "from shapely.geometry import box\n",
    "import geopandas as gpd\n",
    "\n",
    "# misc imports\n",
    "import pathlib\n",
    "from pathlib import Path\n",
    "from functools import partial"
   ]
  },
  {
   "cell_type": "code",
   "execution_count": 5,
   "metadata": {},
   "outputs": [],
   "source": [
    "input_data_path = Path('../data/baker_csm_stack/original_rasters/')\n",
    "output_data_path = Path('../data/baker_csm_stack/cropped_rasters/')"
   ]
  },
  {
   "cell_type": "code",
   "execution_count": 79,
   "metadata": {},
   "outputs": [],
   "source": [
    "# files of interest\n",
    "left_ortho_image = input_data_path  / 'final_ortho_left_1.0m_holes_filled.tif'\n",
    "right_ortho_image = input_data_path  / 'final_ortho_right_1.0m_holes_filled.tif'\n",
    "stereo_dem_image = input_data_path / 'try_pc_align_to_lidar_15m_maxdisp_rotationallowed-1.0m-DEM.tif'\n",
    "intersection_error_image = input_data_path / 'try_pc_align_to_lidar_15m_maxdisp_rotationallowed-1.0m-IntersectionErr_holes_filled.tif'\n",
    "lidar_dem_image = input_data_path / 'mosaic_full128_USGS_LPC_WA_MtBaker_2015_*_LAS_2017_32610_first_filt_v1.3_1.0m-DEM_holes_filled.tif'"
   ]
  },
  {
   "cell_type": "code",
   "execution_count": 80,
   "metadata": {},
   "outputs": [],
   "source": [
    "# Open files, create shapely polygons from bounds, intersect them and find common overlap\n",
    "# Then perform a windowed read of the files, and write out the cropped rasters\n",
    "with rasterio.open(left_ortho_image) as ds:\n",
    "    left_ortho_shape = box(*ds.bounds)\n",
    "    left_ortho_crs = ds.crs\n",
    "\n",
    "with rasterio.open(right_ortho_image) as ds:\n",
    "    right_ortho_shape = box(*ds.bounds)\n",
    "\n",
    "with rasterio.open(stereo_dem_image) as ds:\n",
    "    stereo_dem_shape = box(*ds.bounds)\n",
    "\n",
    "with rasterio.open(intersection_error_image) as ds:\n",
    "    triangulation_error_shape = box(*ds.bounds)\n",
    "\n",
    "with rasterio.open(lidar_dem_image) as ds:\n",
    "    lidar_dem_shape = box(*ds.bounds)\n",
    "    lidar_crs = ds.crs"
   ]
  },
  {
   "cell_type": "code",
   "execution_count": 64,
   "metadata": {},
   "outputs": [
    {
     "name": "stdout",
     "output_type": "stream",
     "text": [
      "final bounds:  (583047.5, 5395041.5, 590976.5, 5410936.5)\n"
     ]
    }
   ],
   "source": [
    "raster_shape_list = [left_ortho_shape, right_ortho_shape, stereo_dem_shape, triangulation_error_shape, lidar_dem_shape]\n",
    "intersection_shape =  left_ortho_shape\n",
    "for s in raster_shape_list:\n",
    "    intersection_shape = intersection_shape.intersection(s)\n",
    "\n",
    "print(\"final bounds: \", intersection_shape.bounds)"
   ]
  },
  {
   "cell_type": "code",
   "execution_count": 65,
   "metadata": {},
   "outputs": [],
   "source": [
    "geometry_dict = {'geometry':[lidar_dem_shape, left_ortho_shape, intersection_shape]}\n",
    "df = gpd.GeoDataFrame(geometry_dict, crs=lidar_crs)"
   ]
  },
  {
   "cell_type": "code",
   "execution_count": 71,
   "metadata": {},
   "outputs": [
    {
     "data": {
      "text/plain": [
       "<Axes: >"
      ]
     },
     "execution_count": 71,
     "metadata": {},
     "output_type": "execute_result"
    },
    {
     "data": {
      "image/png": "[encoded data removed]",
      "text/plain": [
       "<Figure size 640x480 with 1 Axes>"
      ]
     },
     "metadata": {},
     "output_type": "display_data"
    }
   ],
   "source": [
    "ax = df.iloc[:2].geometry.plot(alpha=0.2)\n",
    "ax.set_ylim(5394999.5-50, 5394999.5+100)\n",
    "ax.set_xlim(582999.5-50, 582999.5+100)\n",
    "gpd.GeoSeries(df.iloc[2]).plot(ax=ax, color='red', alpha=0.4)"
   ]
  },
  {
   "cell_type": "markdown",
   "metadata": {},
   "source": [
    "The difference between the first two geometries is tiny (present only in the y-direction), whereas the final intersection geometry is significantly inset"
   ]
  },
  {
   "cell_type": "code",
   "execution_count": 88,
   "metadata": {},
   "outputs": [
    {
     "data": {
      "text/plain": [
       "shapely.geometry.polygon.Polygon"
      ]
     },
     "execution_count": 88,
     "metadata": {},
     "output_type": "execute_result"
    }
   ],
   "source": [
    "type(intersection_shape)"
   ]
  },
  {
   "cell_type": "code",
   "execution_count": 91,
   "metadata": {},
   "outputs": [],
   "source": [
    "def write_cropped_images(input_img_file:pathlib.Path, output_path:pathlib.Path, reference_shape:shapely.geometry.polygon.Polygon):\n",
    "    \"\"\"Perform windowed read of an input image and write out the resulting raster\n",
    "\n",
    "    Args:\n",
    "        input_img_file (pathlib.Path): Location of input image\n",
    "        output_path (pathlib.Path): Path to which output raster will be written\n",
    "        reference_shape (shapely.geometry.polygon.Polygon): Shapely polygon whose bounds describe the window to read\n",
    "    \"\"\"\n",
    "    with rasterio.open(input_img_file) as ds:\n",
    "        img = ds.read(1, window=rasterio.windows.from_bounds(*reference_shape.bounds, ds.transform))\n",
    "        profile = ds.profile\n",
    "\n",
    "    output_transform = rasterio.windows.transform(rasterio.windows.from_bounds(*intersection_shape.bounds, ds.transform), profile['transform'])\n",
    "\n",
    "    profile.update({\n",
    "        'width':img.shape[-1],\n",
    "        'height':img.shape[-2],\n",
    "        'transform':output_transform\n",
    "        })\n",
    "    \n",
    "    with rasterio.open(output_path / input_img_file.name, 'w', **profile) as ds:\n",
    "        ds.write(img.reshape(1, *img.shape))\n"
   ]
  },
  {
   "cell_type": "code",
   "execution_count": 83,
   "metadata": {},
   "outputs": [],
   "source": [
    "filenames = [left_ortho_image, right_ortho_image, stereo_dem_image, intersection_error_image, lidar_dem_image]\n",
    "partial_func = partial(write_cropped_images, output_path=output_data_path, reference_shape=intersection_shape)\n",
    "\n",
    "_ = list(map(partial_func, filenames))"
   ]
  },
  {
   "cell_type": "code",
   "execution_count": 85,
   "metadata": {},
   "outputs": [],
   "source": [
    "# sanity check to ensure the output rasters have the same bounds as the window\n",
    "for f in filenames:\n",
    "    with rasterio.open(output_data_path/f.name) as ds:\n",
    "        assert ds.bounds == intersection_shape.bounds, \"Bounds mismatch!\""
   ]
  }
 ],
 "metadata": {
  "kernelspec": {
   "display_name": "der",
   "language": "python",
   "name": "python3"
  },
  "language_info": {
   "codemirror_mode": {
    "name": "ipython",
    "version": 3
   },
   "file_extension": ".py",
   "mimetype": "text/x-python",
   "name": "python",
   "nbconvert_exporter": "python",
   "pygments_lexer": "ipython3",
   "version": "3.11.7"
  }
 },
 "nbformat": 4,
 "nbformat_minor": 2
}
