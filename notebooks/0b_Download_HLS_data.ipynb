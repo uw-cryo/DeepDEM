{
 "cells": [
  {
   "cell_type": "markdown",
   "metadata": {},
   "source": [
    "This notebook demonstrates downloading HLS data, which will be used in the subsequent notebook to create a NDVI layer as model input. Users are required to have a [NASA Earthdata account](https://urs.earthdata.nasa.gov/), with the credentials stored in a `.netrc` file in the user's home directory in the following format:\n",
    "\n",
    "`\n",
    "machine urs.earthdata.nasa.gov login {user_name} password {password}\n",
    "`\n",
    "\n",
    "with `{username}` and `{password}` replaced with user values"
   ]
  },
  {
   "cell_type": "code",
   "execution_count": 27,
   "metadata": {},
   "outputs": [],
   "source": [
    "# GIS imports\n",
    "from osgeo import gdal\n",
    "import rasterio\n",
    "from datetime import datetime\n",
    "from rasterio.warp import transform_bounds\n",
    "from rasterio.crs import CRS\n",
    "from rasterio.merge import merge\n",
    "\n",
    "# Earthaccess imports to query and retrieve data\n",
    "import earthaccess\n",
    "\n",
    "# Misc imports\n",
    "from pathlib import Path\n",
    "import shutil\n",
    "\n",
    "# GDAL setup for accessing cloud data\n",
    "gdal.SetConfigOption('GDAL_HTTP_COOKIEFILE','~/cookies.txt')\n",
    "gdal.SetConfigOption('GDAL_HTTP_COOKIEJAR', '~/cookies.txt')\n",
    "gdal.SetConfigOption('GDAL_DISABLE_READDIR_ON_OPEN','EMPTY_DIR')\n",
    "gdal.SetConfigOption('CPL_VSIL_CURL_ALLOWED_EXTENSIONS','TIF, TIFF, XML, xml')\n",
    "\n",
    "# Ensure that the .netrc file has credentials set appropriately\n",
    "auth = earthaccess.login(strategy=\"netrc\")"
   ]
  },
  {
   "cell_type": "code",
   "execution_count": 29,
   "metadata": {},
   "outputs": [],
   "source": [
    "# We use the bounds and CRS of an input stereo image (corresponding to the initial DSM) to query NASA Earthdata for HLS data\n",
    "stereo_data_path = Path('../data/mt_baker/WV01_20150911_1020010042D39D00_1020010043455300/original_rasters')\n",
    "stereo_img_path = stereo_data_path / '20150911_2050_1020010042D39D00_1020010043455300_1.0m-DEM_trans_dx+2.40m_dy+1.51m_dz-0.36m__ASP_wt_avg_extrapolation_search_rad25_num_pass_3.tif'\n",
    "\n",
    "assert stereo_img_path.exists(), \"Specified file does not exist!\" # check that the file is accessible"
   ]
  },
  {
   "cell_type": "code",
   "execution_count": 3,
   "metadata": {},
   "outputs": [],
   "source": [
    "# Set up search parameters (bounds, temporal search window)\n",
    "with rasterio.open(stereo_img_path) as ds:\n",
    "    crs = ds.profile['crs']\n",
    "    bounds = ds.bounds\n",
    "\n",
    "crs = CRS.from_epsg(32610)\n",
    "assert crs is not None, \"CRS cannot be None. Manually set using EPSG code\"\n",
    "\n",
    "bounds_4326 = transform_bounds(crs, CRS.from_epsg(4326), *bounds)\n",
    "\n",
    "# specify search window corresponding to when stereo images were acquired\n",
    "start_date = datetime(year=2015, month=9, day=4)\n",
    "end_date = datetime(year=2015, month=9, day=18)\n",
    "\n",
    "time_window = (start_date.strftime(\"%Y-%m-%dT00:00:00\"), end_date.strftime(\"%Y-%m-%dT23:59:59\"))"
   ]
  },
  {
   "cell_type": "code",
   "execution_count": 4,
   "metadata": {},
   "outputs": [],
   "source": [
    "# Query NASA Earthdata\n",
    "results = earthaccess.search_data(\n",
    "    short_name=['HLSL30','HLSS30'],\n",
    "    bounding_box=bounds_4326,\n",
    "    temporal=time_window,\n",
    "    count=100\n",
    ")"
   ]
  },
  {
   "cell_type": "code",
   "execution_count": 16,
   "metadata": {},
   "outputs": [],
   "source": [
    "# Setup folder structure for downloads. HLS files are stored in the ../data/common_files folder\n",
    "download_tmp_path = Path(\"../data/common_files/tmp\")\n",
    "download_tmp_path.mkdir(parents=True, exist_ok=True)\n",
    "final_download_path = Path(\"../data/common_files\")"
   ]
  },
  {
   "cell_type": "code",
   "execution_count": 13,
   "metadata": {},
   "outputs": [
    {
     "data": {
      "application/vnd.jupyter.widget-view+json": {
       "model_id": "76fc26a25b8d4caeafd236a0effc8b73",
       "version_major": 2,
       "version_minor": 0
      },
      "text/plain": [
       "QUEUEING TASKS | :   0%|          | 0/30 [00:00<?, ?it/s]"
      ]
     },
     "metadata": {},
     "output_type": "display_data"
    },
    {
     "data": {
      "application/vnd.jupyter.widget-view+json": {
       "model_id": "496fe7773b6940999979439874897a18",
       "version_major": 2,
       "version_minor": 0
      },
      "text/plain": [
       "PROCESSING TASKS | :   0%|          | 0/30 [00:00<?, ?it/s]"
      ]
     },
     "metadata": {},
     "output_type": "display_data"
    },
    {
     "data": {
      "application/vnd.jupyter.widget-view+json": {
       "model_id": "084a7336627d494d860d1a9c2fabe001",
       "version_major": 2,
       "version_minor": 0
      },
      "text/plain": [
       "COLLECTING RESULTS | :   0%|          | 0/30 [00:00<?, ?it/s]"
      ]
     },
     "metadata": {},
     "output_type": "display_data"
    }
   ],
   "source": [
    "# Download the data\n",
    "files = earthaccess.download(results, download_tmp_path)"
   ]
  },
  {
   "cell_type": "code",
   "execution_count": 24,
   "metadata": {},
   "outputs": [],
   "source": [
    "# merge tiles if more than one result is returned\n",
    "\n",
    "hls_red_band_files = list(download_tmp_path.glob(\"*B04*.tif\"))\n",
    "hls_nir_band_files = list(download_tmp_path.glob(\"*B05*.tif\"))\n",
    "\n",
    "if len(results) > 0:\n",
    "    red_merged, transform = merge(hls_red_band_files)\n",
    "    nir_merged, transform = merge(hls_nir_band_files)\n",
    "\n",
    "    with rasterio.open(hls_red_band_files[0]) as ds:\n",
    "        profile = ds.profile\n",
    "        profile['height'] = red_merged.shape[-2]\n",
    "        profile['width'] = red_merged.shape[-1]\n",
    "    \n",
    "    with rasterio.open(final_download_path / 'hls_red.tif', 'w', **profile) as ds:\n",
    "        ds.write(red_merged)\n",
    "\n",
    "    with rasterio.open(hls_nir_band_files[0]) as ds:\n",
    "        profile = ds.profile\n",
    "        profile['height'] = red_merged.shape[-2]\n",
    "        profile['width'] = red_merged.shape[-1]\n",
    "    \n",
    "    with rasterio.open(final_download_path / 'hls_nir.tif', 'w', **profile) as ds:\n",
    "        ds.write(nir_merged)\n",
    "\n",
    "else:\n",
    "    hls_red_band_files[0].replace(hls_red_band_files[0].parent.parent / hls_red_band_files[0].name)\n",
    "    hls_nir_band_files[0].replace(hls_nir_band_files[0].parent.parent / hls_nir_band_files[0].name)"
   ]
  },
  {
   "cell_type": "code",
   "execution_count": 28,
   "metadata": {},
   "outputs": [],
   "source": [
    "# Delete temporary files and paths\n",
    "shutil.rmtree(Path(\"../data/common_files/tmp\"))"
   ]
  }
 ],
 "metadata": {
  "kernelspec": {
   "display_name": "deep_dem",
   "language": "python",
   "name": "python3"
  },
  "language_info": {
   "codemirror_mode": {
    "name": "ipython",
    "version": 3
   },
   "file_extension": ".py",
   "mimetype": "text/x-python",
   "name": "python",
   "nbconvert_exporter": "python",
   "pygments_lexer": "ipython3",
   "version": "3.12.7"
  }
 },
 "nbformat": 4,
 "nbformat_minor": 2
}
