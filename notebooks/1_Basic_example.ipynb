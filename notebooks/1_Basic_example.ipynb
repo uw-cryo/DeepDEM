{
 "cells": [
  {
   "cell_type": "markdown",
   "metadata": {},
   "source": [
    "Working demo of the DeepDEM repository. The notebook expects the following: \n",
    "\n",
    "- Previously trained model weights\n",
    "- Access to a GPU\n",
    "\n",
    "Users will need the following GDAL libraries to be installed on their machine. Follow the instructions at this [link](https://mothergeo-py.readthedocs.io/en/latest/development/how-to/gdal-ubuntu-pkg.html).\n",
    "\n",
    "The notebook demonstrates the following\n",
    "- How to train a new model\n",
    "- How to perform inference using a previously trained model\n",
    "\n",
    "\n",
    "The model presented here is trained on data from {site name} and inferences is done on {site}"
   ]
  },
  {
   "cell_type": "code",
   "execution_count": 5,
   "metadata": {},
   "outputs": [],
   "source": [
    "import torch\n",
    "from pathlib import Path\n",
    "import os\n",
    "\n",
    "assert torch.cuda.is_available()"
   ]
  },
  {
   "cell_type": "code",
   "execution_count": 4,
   "metadata": {},
   "outputs": [
    {
     "data": {
      "text/plain": [
       "True"
      ]
     },
     "execution_count": 4,
     "metadata": {},
     "output_type": "execute_result"
    }
   ],
   "source": [
    "model_weights = Path('../model_weights/epoch=12366-step=3091750.ckpt')\n",
    "model_weights.exists()"
   ]
  },
  {
   "cell_type": "code",
   "execution_count": 8,
   "metadata": {},
   "outputs": [
    {
     "name": "stderr",
     "output_type": "stream",
     "text": [
      "Traceback (most recent call last):\n",
      "  File \"/mnt/1.0_TB_VOLUME/karthikv/DeepDEM/notebooks/inference.py\", line 52, in <module>\n",
      "    ckpt = sys.argv[1]\n",
      "           ~~~~~~~~^^^\n",
      "IndexError: list index out of range\n"
     ]
    },
    {
     "data": {
      "text/plain": [
       "256"
      ]
     },
     "execution_count": 8,
     "metadata": {},
     "output_type": "execute_result"
    }
   ],
   "source": [
    "os.system(\"python inference.py\")"
   ]
  }
 ],
 "metadata": {
  "kernelspec": {
   "display_name": "der",
   "language": "python",
   "name": "python3"
  },
  "language_info": {
   "codemirror_mode": {
    "name": "ipython",
    "version": 3
   },
   "file_extension": ".py",
   "mimetype": "text/x-python",
   "name": "python",
   "nbconvert_exporter": "python",
   "pygments_lexer": "ipython3",
   "version": "3.11.7"
  }
 },
 "nbformat": 4,
 "nbformat_minor": 2
}
