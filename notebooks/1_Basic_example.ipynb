{
 "cells": [
  {
   "cell_type": "markdown",
   "metadata": {},
   "source": [
    "Working demo of the DeepDEM repository. The notebook expects the following: \n",
    "\n",
    "- Previously trained model weights, oownloaded from [this link](https://drive.google.com/file/d/1AAvgHryGppS2NaKPAMyG73D1OKyvUhiU/view?usp=drive_link)\n",
    "- Access to a GPU \n",
    "\n",
    "Users will need the following GDAL libraries to be installed on their machine. Follow the instructions at this [link](https://mothergeo-py.readthedocs.io/en/latest/development/how-to/gdal-ubuntu-pkg.html).\n",
    "\n",
    "The notebook demonstrates how to perform DTM refinement using a deep neural network, following the work of Stucker et al. ([ResDepth](https://github.com/prs-eth/ResDepth))\n",
    "\n",
    "The model used here was previously trained on data from {site name}. In this example, we will perform inferences for {site}"
   ]
  },
  {
   "cell_type": "code",
   "execution_count": null,
   "metadata": {},
   "outputs": [],
   "source": [
    "import torch\n",
    "from pathlib import Path\n",
    "import os\n",
    "\n",
    "assert torch.cuda.is_available()"
   ]
  },
  {
   "cell_type": "code",
   "execution_count": null,
   "metadata": {},
   "outputs": [],
   "source": [
    "model_weights = Path('../model_weights/epoch=12366-step=3091750.ckpt')\n",
    "model_weights.exists()"
   ]
  },
  {
   "cell_type": "code",
   "execution_count": null,
   "metadata": {},
   "outputs": [],
   "source": [
    "os.system(\"python inference.py\")"
   ]
  }
 ],
 "metadata": {
  "kernelspec": {
   "display_name": "der",
   "language": "python",
   "name": "python3"
  },
  "language_info": {
   "codemirror_mode": {
    "name": "ipython",
    "version": 3
   },
   "file_extension": ".py",
   "mimetype": "text/x-python",
   "name": "python",
   "nbconvert_exporter": "python",
   "pygments_lexer": "ipython3",
   "version": "3.11.7"
  }
 },
 "nbformat": 4,
 "nbformat_minor": 2
}
