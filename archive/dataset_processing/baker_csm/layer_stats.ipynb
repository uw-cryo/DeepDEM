{
 "cells": [
  {
   "cell_type": "markdown",
   "id": "672bc791-46fa-48b4-a8cd-e678032b24b5",
   "metadata": {},
   "source": [
    "# Evaluate a training dataset"
   ]
  },
  {
   "cell_type": "markdown",
   "id": "01503f17-8a32-4b1c-9f56-2d9340142b7a",
   "metadata": {},
   "source": [
    "## Contents of this notebook:\n",
    "- "
   ]
  },
  {
   "cell_type": "markdown",
   "id": "cf7b537c-dd6a-4012-a04f-f9a65e906913",
   "metadata": {},
   "source": [
    "## Imports and dataset parameters"
   ]
  },
  {
   "cell_type": "code",
   "execution_count": 37,
   "id": "8306f509-96c7-4d9f-b660-d36dadb45f73",
   "metadata": {},
   "outputs": [],
   "source": [
    "import numpy as np\n",
    "import rioxarray"
   ]
  },
  {
   "cell_type": "code",
   "execution_count": 4,
   "id": "5aed4e0a-142b-4ff9-a5fd-52eb227f56dc",
   "metadata": {},
   "outputs": [],
   "source": [
    "dataset_dir = \"/mnt/1.0_TB_VOLUME/sethv/resdepth_all/deep-elevation-refinement/dataset_processing/baker_csm/baker_csm_stack\""
   ]
  },
  {
   "cell_type": "code",
   "execution_count": 11,
   "id": "189c9b88-1bb5-4d1d-993d-d050a7fb9e7e",
   "metadata": {},
   "outputs": [],
   "source": [
    "%cp /mnt/1.0_TB_VOLUME/sethv/resdepth_all/deep-elevation-refinement/ResDepth/torchgeo_experiments/mosaic/mosaic_full128_USGS_LPC_WA_MtBaker_2015_*_LAS_2017_32610_first_filt_v1.3_1.0m-DEM_holes_filled.tif $dataset_dir"
   ]
  },
  {
   "cell_type": "code",
   "execution_count": 12,
   "id": "2691cb0e-5751-4224-abce-c47deb7313a2",
   "metadata": {},
   "outputs": [
    {
     "name": "stdout",
     "output_type": "stream",
     "text": [
      " final_ortho_left_1.0m_holes_filled.tif\n",
      " final_ortho_left_1.0m.tif\n",
      " final_ortho_right_1.0m_holes_filled.tif\n",
      " final_ortho_right_1.0m.tif\n",
      "'mosaic_full128_USGS_LPC_WA_MtBaker_2015_*_LAS_2017_32610_first_filt_v1.3_1.0m-DEM_holes_filled.tif'\n",
      " try_pc_align_to_lidar_15m_maxdisp_rotationallowed-1.0m-DEM_holes_filled.tif\n",
      " try_pc_align_to_lidar_15m_maxdisp_rotationallowed-1.0m-DEM.tif\n",
      " try_pc_align_to_lidar_15m_maxdisp_rotationallowed-1.0m-IntersectionErr_holes_filled.tif\n",
      " try_pc_align_to_lidar_15m_maxdisp_rotationallowed-1.0m-IntersectionErr.tif\n"
     ]
    }
   ],
   "source": [
    "%ls $dataset_dir"
   ]
  },
  {
   "cell_type": "code",
   "execution_count": 13,
   "id": "e0c462a6-534a-45ca-bd37-9e970908d34f",
   "metadata": {},
   "outputs": [
    {
     "name": "stdout",
     "output_type": "stream",
     "text": [
      "/mnt/1.0_TB_VOLUME/sethv/resdepth_all/deep-elevation-refinement/dataset_processing/baker_csm/baker_csm_stack\n"
     ]
    }
   ],
   "source": [
    "%cd $dataset_dir"
   ]
  },
  {
   "cell_type": "code",
   "execution_count": 45,
   "id": "2ae35c23-6fa8-4c50-b3b8-466772e4c791",
   "metadata": {},
   "outputs": [],
   "source": [
    "input_dem_fn = \"try_pc_align_to_lidar_15m_maxdisp_rotationallowed-1.0m-DEM.tif\""
   ]
  },
  {
   "cell_type": "code",
   "execution_count": 46,
   "id": "e166d040-694b-4c29-9618-46b9624b1db8",
   "metadata": {},
   "outputs": [],
   "source": [
    "ortho1_fn = \"final_ortho_left_1.0m.tif\"\n",
    "ortho2_fn = \"final_ortho_right_1.0m.tif\""
   ]
  },
  {
   "cell_type": "code",
   "execution_count": 47,
   "id": "08a1f9b6-0f1f-447a-bb1c-c94da26dc726",
   "metadata": {},
   "outputs": [],
   "source": [
    "trierror_fn = \"try_pc_align_to_lidar_15m_maxdisp_rotationallowed-1.0m-IntersectionErr.tif\""
   ]
  },
  {
   "cell_type": "code",
   "execution_count": 48,
   "id": "1b407552-584e-4b7a-8aa0-5e40e641b043",
   "metadata": {},
   "outputs": [],
   "source": [
    "lidar_dem_fn = \"mosaic_full128_USGS_LPC_WA_MtBaker_2015_*_LAS_2017_32610_first_filt_v1.3_1.0m-DEM_holes_filled.tif\""
   ]
  },
  {
   "cell_type": "code",
   "execution_count": 49,
   "id": "0eff48fd-f698-40a9-ae51-284df20078d3",
   "metadata": {},
   "outputs": [],
   "source": [
    "landcover_fn = \"/mnt/1.0_TB_VOLUME/sethv/resdepth_all/deep-elevation-refinement/ResDepth/torchgeo_experiments/merge_pc_inference_files/ESA_WorldCover_10m_2021_v200_N48W123_Map.tif\""
   ]
  },
  {
   "cell_type": "markdown",
   "id": "609efeb2-7a05-44cb-96f9-567df135e800",
   "metadata": {},
   "source": [
    "## For each layer, calculate mean & std to use for normalization"
   ]
  },
  {
   "cell_type": "code",
   "execution_count": 50,
   "id": "607be4ac-82a9-4749-b8f6-1e8dea009c44",
   "metadata": {},
   "outputs": [],
   "source": [
    "def compute_stats(layer):\n",
    "    mean = layer.mean().item()\n",
    "    std = layer.std().item()\n",
    "    count_valid_pixels = np.count_nonzero(~np.isnan(layer))\n",
    "    num_pixels = layer.size\n",
    "    percent_valid = 100 * count_valid_pixels / num_pixels\n",
    "    return dict(\n",
    "        mean=mean,\n",
    "        std=std,\n",
    "        percent_valid=percent_valid\n",
    "    )"
   ]
  },
  {
   "cell_type": "code",
   "execution_count": 51,
   "id": "08f208b9-4c0f-4a70-9ee4-80714b8b3e08",
   "metadata": {},
   "outputs": [
    {
     "name": "stdout",
     "output_type": "stream",
     "text": [
      "Calculating stats for try_pc_align_to_lidar_15m_maxdisp_rotationallowed-1.0m-DEM.tif\n",
      "Layer mean = 1780.005126953125, std = 440.2155456542969, percent valid = 82.91%\n",
      "Calculating stats for final_ortho_left_1.0m.tif\n",
      "Layer mean = 463.2972106933594, std = 429.40875244140625, percent valid = 74.50%\n",
      "Calculating stats for final_ortho_right_1.0m.tif\n",
      "Layer mean = 412.00994873046875, std = 433.59356689453125, percent valid = 74.50%\n",
      "Calculating stats for try_pc_align_to_lidar_15m_maxdisp_rotationallowed-1.0m-IntersectionErr.tif\n",
      "Layer mean = 0.15542659163475037, std = 0.16889117658138275, percent valid = 82.91%\n",
      "Calculating stats for mosaic_full128_USGS_LPC_WA_MtBaker_2015_*_LAS_2017_32610_first_filt_v1.3_1.0m-DEM_holes_filled.tif\n",
      "Layer mean = 1723.7064208984375, std = 459.1587219238281, percent valid = 100.00%\n"
     ]
    }
   ],
   "source": [
    "for layer_fn in [input_dem_fn, ortho1_fn, ortho2_fn, trierror_fn, lidar_dem_fn]:\n",
    "    print(f\"Calculating stats for {layer_fn}\")\n",
    "    layer = rioxarray.open_rasterio(layer_fn, masked=True)\n",
    "    stats = compute_stats(layer)\n",
    "    mean = stats[\"mean\"]\n",
    "    std = stats[\"std\"]\n",
    "    percent_valid = stats[\"percent_valid\"]\n",
    "    print(f\"Layer mean = {mean}, std = {std}, percent valid = {percent_valid:.2f}%\")"
   ]
  },
  {
   "cell_type": "markdown",
   "id": "8608a100-d5e7-432f-b2cd-79a4049e7235",
   "metadata": {},
   "source": [
    "### Recalculate with extent limited to the regions used in training\n",
    "- Provide a different set of rasters that only include "
   ]
  },
  {
   "cell_type": "code",
   "execution_count": null,
   "id": "51bec266-4e53-4707-a4be-e568bcfe94a9",
   "metadata": {},
   "outputs": [],
   "source": [
    "refined_dem = \""
   ]
  },
  {
   "cell_type": "raw",
   "id": "c52b7e49-e96f-4a8b-a4cd-0e4e4d1dbb6f",
   "metadata": {},
   "source": [
    "rioxarray.open_rasterio("
   ]
  },
  {
   "cell_type": "code",
   "execution_count": null,
   "id": "a2a9be6d-fd10-43cd-b7a3-d353c0c2abe0",
   "metadata": {},
   "outputs": [],
   "source": []
  },
  {
   "cell_type": "markdown",
   "id": "26fb1d8e-cef8-4767-aa3e-6d7bc214133a",
   "metadata": {},
   "source": [
    "## Evaluate an inference output against the input DEM. What changed?"
   ]
  },
  {
   "cell_type": "code",
   "execution_count": 23,
   "id": "c16a182f-eb58-489a-bdcb-52fc4813c24c",
   "metadata": {},
   "outputs": [],
   "source": [
    "dem = rioxarray.open_rasterio(input_dem, masked=True)"
   ]
  },
  {
   "cell_type": "code",
   "execution_count": null,
   "id": "26956186-34d7-48df-8b88-c984b6b6cbef",
   "metadata": {},
   "outputs": [],
   "source": []
  }
 ],
 "metadata": {
  "kernelspec": {
   "display_name": "Python 3 (ipykernel)",
   "language": "python",
   "name": "python3"
  },
  "language_info": {
   "codemirror_mode": {
    "name": "ipython",
    "version": 3
   },
   "file_extension": ".py",
   "mimetype": "text/x-python",
   "name": "python",
   "nbconvert_exporter": "python",
   "pygments_lexer": "ipython3",
   "version": "3.10.9"
  }
 },
 "nbformat": 4,
 "nbformat_minor": 5
}
