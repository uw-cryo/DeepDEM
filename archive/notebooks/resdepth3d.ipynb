{
 "cells": [
  {
   "cell_type": "markdown",
   "id": "b8055e40-48c3-4be2-8b24-880e9c164d53",
   "metadata": {},
   "source": [
    "# PyGMT attempt to visualize a DEM as 3D plot\n",
    "* Should be more zoomed in to be useful\n",
    "* Keeps crashing Jupyter notebook kernel???"
   ]
  },
  {
   "cell_type": "code",
   "execution_count": null,
   "id": "bd23eac3-4fea-487b-a465-d6dc39fc489f",
   "metadata": {
    "tags": []
   },
   "outputs": [
    {
     "name": "stdout",
     "output_type": "stream",
     "text": [
      "(1, 1000, 1000)\n",
      "(1, 1000, 1000)\n"
     ]
    }
   ],
   "source": [
    "import os\n",
    "import pygmt\n",
    "import rioxarray\n",
    "import matplotlib.pyplot as plt\n",
    "\n",
    "tile_id = \"10UEU8597\"\n",
    "tile_dir = f\"/mnt/1.0_TB_VOLUME/sethv/shashank_data/TRAIN_tile_stack_baker_128_global_coreg/pc_laz_prep_full_outputs_USGS_LPC_WA_MtBaker_2015_{tile_id}_LAS_2017/\"\n",
    "example_initial_dem_fn = os.path.join(tile_dir, \"lower_easton3\", \"WV01_20150911_1020010042D39D00_1020010043455300_aligned_crop_1.0m-DEM_holes_filled.tif\")\n",
    "example_initial_dem = rioxarray.open_rasterio(example_initial_dem_fn)\n",
    "example_lidar_dem_fn = os.path.join(tile_dir, \"lower_easton3\", f\"USGS_LPC_WA_MtBaker_2015_{tile_id}_LAS_2017_32610_first_filt_v1.3_1.0m-DEM_holes_filled.tif\")\n",
    "example_lidar_dem = rioxarray.open_rasterio(example_lidar_dem_fn)\n",
    "\n",
    "difference = example_initial_dem - example_lidar_dem\n",
    "\n",
    "print(example_initial_dem.shape)\n",
    "print(difference.shape)\n",
    "\n",
    "# plt.\n",
    "\n",
    "# fig = pygmt.Figure()\n",
    "# # fig.grdview(grid=example_initial_dem.squeeze())\n",
    "# fig.grdview(\n",
    "#     grid=example_initial_dem_fn,\n",
    "#     perspective=[130,30],\n",
    "#     frame=[\"xa\",\"ya\",\"WSnE\"],\n",
    "#     zsize=\"5c\",\n",
    "#     cmap=\"inferno\",\n",
    "#     surftype=\"s\"\n",
    "#     #cmap=\"geo\" doesn't make sense, we'd like to have the land cover class\n",
    "# )\n",
    "# fig.show()\n",
    "# fig.grdview(\n",
    "#     grid=example_lidar_dem_fn,\n",
    "#     perspective=[130,30],\n",
    "#     frame=[\"xa\",\"ya\",\"WSnE\"],\n",
    "#     zsize=\"5c\",\n",
    "#     cmap=\"inferno\",\n",
    "#     surftype=\"s\"\n",
    "#     #cmap=\"geo\" doesn't make sense, we'd like to have the land cover class\n",
    "# )\n",
    "# fig.show()\n",
    "fig = pygmt.Figure()\n",
    "fig.grdview(\n",
    "    grid=example_initial_dem.squeeze(),\n",
    "    # drapegrid=difference.squeeze(),\n",
    "    # perspective=[130,30],\n",
    "    # frame=[\"xa\",\"ya\",\"WSnE\"],\n",
    "    # zsize=\"5c\",\n",
    "    cmap=\"polar\",\n",
    "    # surftype=\"s\"\n",
    "    #cmap=\"geo\" doesn't make sense, we'd like to have the land cover class\n",
    ")\n",
    "fig.show()"
   ]
  },
  {
   "cell_type": "code",
   "execution_count": null,
   "id": "6aca238c-709d-4fc2-ae32-0ddaf5b64105",
   "metadata": {},
   "outputs": [],
   "source": [
    "pygmt\n",
    "# Create a Digital Surface Elevation Model with\n",
    "# a spatial resolution of 1m.\n",
    "grid = pygmt.surface(\n",
    "    x=df_trimmed.x,\n",
    "    y=df_trimmed.y,\n",
    "    z=df_trimmed.z,\n",
    "    spacing=\"1+e\",\n",
    "    region=region,  # xmin, xmax, ymin, ymax\n",
    "    T=0.35,  # tension factor\n",
    ")\n"
   ]
  }
 ],
 "metadata": {
  "kernelspec": {
   "display_name": "Python 3 (ipykernel)",
   "language": "python",
   "name": "python3"
  },
  "language_info": {
   "codemirror_mode": {
    "name": "ipython",
    "version": 3
   },
   "file_extension": ".py",
   "mimetype": "text/x-python",
   "name": "python",
   "nbconvert_exporter": "python",
   "pygments_lexer": "ipython3",
   "version": "3.10.9"
  }
 },
 "nbformat": 4,
 "nbformat_minor": 5
}
