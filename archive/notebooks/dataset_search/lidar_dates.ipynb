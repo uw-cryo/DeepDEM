{
 "cells": [
  {
   "cell_type": "markdown",
   "id": "5f867bdd-2afe-48de-be86-85940dc0970a",
   "metadata": {},
   "source": [
    "# Plot lidar timestamps for USGS lidar datasets\n",
    "* Crude first pass at PDAL workflow to look for points near stereo collection dates."
   ]
  },
  {
   "cell_type": "markdown",
   "id": "43568c32-415c-4e8b-86db-1bf9a56c16ff",
   "metadata": {},
   "source": [
    "## Downloads and imports"
   ]
  },
  {
   "cell_type": "code",
   "execution_count": 5,
   "id": "c711b263-930b-402c-b4fb-9ac40354814f",
   "metadata": {},
   "outputs": [],
   "source": [
    "import json\n",
    "import astropy.time\n",
    "import geopandas as gpd\n",
    "import matplotlib.pyplot as plt\n",
    "import pandas as pd"
   ]
  },
  {
   "cell_type": "markdown",
   "id": "154fff6a-1e5d-4700-8a5f-fb8f598d7d4e",
   "metadata": {},
   "source": [
    "## PDAL pipeline for Washington state lidar datasets only (check CRS for others)"
   ]
  },
  {
   "cell_type": "code",
   "execution_count": 2,
   "id": "8bda6061-1e43-4dc4-81fc-259705b4f8c0",
   "metadata": {},
   "outputs": [],
   "source": [
    "# https://s3-us-west-2.amazonaws.com/usgs-lidar-public/USGS_LPC_WA_MtBaker_2015_LAS_2017/ept.json"
   ]
  },
  {
   "cell_type": "code",
   "execution_count": 13,
   "id": "692c33ed-9815-4737-bbc8-ae74fa821a99",
   "metadata": {},
   "outputs": [
    {
     "name": "stdout",
     "output_type": "stream",
     "text": [
      "85903 testdates.csv\n"
     ]
    }
   ],
   "source": [
    "# !rm \"$decimated_fn\"\n",
    "dates_csv_fn = \"testdates.csv\"\n",
    "crs = \"EPSG:32610\" # target\n",
    "pipeline_fn = \"pdal_pipeline_dates_baker.json\"\n",
    "# pipeline_fn = \"pdal_pipeline_dates_mesaco.json\"\n",
    "# ept_fn = \"https://s3-us-west-2.amazonaws.com/usgs-lidar-public/USGS_LPC_WY_Carbon_2015_LAS_2018/ept.json\" # 2015-10-25 - 2016-07-27\n",
    "# ept_fn = \"https://s3-us-west-2.amazonaws.com/usgs-lidar-public/WY_YellowstoneNP_2_2020/ept.json\"\n",
    "ept_fn = \"https://s3-us-west-2.amazonaws.com/usgs-lidar-public/USGS_LPC_WA_MtBaker_2015_LAS_2017/ept.json\"\n",
    "# ept_fn = \"http://usgs-lidar-public.s3.amazonaws.com/USGS_LPC_CO_MesaCo_QL2_2015_LAS_2017/ept.json\"\n",
    "# ept_fn = \"https://s3-us-west-2.amazonaws.com/usgs-lidar-public/USGS_LPC_WA_GlacierPeak_2014_LAS_2016/ept.json\"\n",
    "pipeline_dict = {\"pipeline\":\n",
    " [\n",
    "     {\n",
    "         \"type\": \"readers.ept\",\n",
    "         \"filename\": ept_fn,\n",
    "         \"resolution\": 1000, # appears to be the coarsest resolution that \n",
    "#          \"bounds\":\"([-12052000,-12051000],[4703000.100927155,4704000.623964248])\"                 \n",
    "#          \"bounds\":\"([-12052985.230605898,-11988698.905804213],[4702177.100927155,4736451.623964248])\"\n",
    "     },\n",
    "    {\n",
    "        \"type\": \"filters.reprojection\",\n",
    "        \"out_srs\": crs,\n",
    "    },\n",
    "    {\n",
    "        \"type\": \"writers.text\",\n",
    "        \"format\": \"csv\",\n",
    "        \"order\": \"X,Y,Z,GpsTime\",\n",
    "        \"keep_unspecified\": \"false\",\n",
    "        \"filename\": dates_csv_fn\n",
    "    }\n",
    " ]\n",
    "}\n",
    "with open(pipeline_fn, \"w\") as of:\n",
    "    json.dump(pipeline_dict, of)\n",
    "\n",
    "\n",
    "!pdal pipeline \"$pipeline_fn\"\n",
    "!wc -l \"$dates_csv_fn\""
   ]
  },
  {
   "cell_type": "code",
   "execution_count": 14,
   "id": "dd985327-937f-4960-922b-2a38ff71e6b1",
   "metadata": {},
   "outputs": [],
   "source": [
    "def gpstime_to_utc(gpstime):\n",
    "    \"\"\"Convert GpsTime from LAZ files to UTC timestamps using AstroPy\"\"\"\n",
    "    return astropy.time.Time(10**9 + float(gpstime), format=\"gps\").datetime"
   ]
  },
  {
   "cell_type": "code",
   "execution_count": 15,
   "id": "e5d55d11-0a0b-4dc5-9727-6477d021e7d2",
   "metadata": {},
   "outputs": [
    {
     "name": "stderr",
     "output_type": "stream",
     "text": [
      "/mnt/1.0_TB_VOLUME/sethv/miniconda3/envs/der/lib/python3.10/site-packages/geopandas/array.py:275: ShapelyDeprecationWarning: The array interface is deprecated and will no longer work in Shapely 2.0. Convert the '.coords' to a numpy array instead.\n",
      "  return GeometryArray(vectorized.points_from_xy(x, y, z), crs=crs)\n"
     ]
    }
   ],
   "source": [
    "gdf = gpd.read_file(dates_csv_fn, crs=crs)#, dtype={\"X\":float,\"Y\":float,\"Z\":float,\"GpsTime\":float})#, geometry=gpd.points_from_xy(df.X, df.Y))\n",
    "gdf = gdf.apply(pd.to_numeric) # floats are getting read in as strings\n",
    "\n",
    "gdf[\"UTCTime\"] = gdf[\"GpsTime\"].apply(gpstime_to_utc)\n",
    "gdf.geometry = gpd.points_from_xy(gdf.X, gdf.Y)\n",
    "gdf[\"day_of_year\"] = gdf[\"UTCTime\"].dt.dayofyear\n",
    "gdf[\"datestamp\"] = gdf[\"UTCTime\"].dt.strftime(\"%Y-%m-%d\")\n",
    "gdf[\"time_since_first\"] = gdf[\"UTCTime\"] - gdf[\"UTCTime\"].min() # for plotting\n",
    "gdf[\"days_since_first\"] = gdf[\"time_since_first\"].dt.days\n",
    "# gdf.head()"
   ]
  },
  {
   "cell_type": "code",
   "execution_count": 16,
   "id": "5a149f90-09ac-4f41-90e9-a25341a91ca5",
   "metadata": {},
   "outputs": [
    {
     "data": {
      "text/plain": [
       "datestamp\n",
       "2015-08-26     1959\n",
       "2015-08-27     4438\n",
       "2015-09-05     4956\n",
       "2015-09-09      444\n",
       "2015-09-10    15735\n",
       "2015-09-11    13199\n",
       "2015-09-12    17364\n",
       "2015-09-13      624\n",
       "2015-09-14     1198\n",
       "2015-09-16     6927\n",
       "2015-09-22      817\n",
       "2015-09-23    10576\n",
       "2015-09-24     3813\n",
       "2015-09-27     3852\n",
       "Name: datestamp, dtype: int64"
      ]
     },
     "execution_count": 16,
     "metadata": {},
     "output_type": "execute_result"
    }
   ],
   "source": [
    "gdf.groupby(\"datestamp\")[\"datestamp\"].count()"
   ]
  },
  {
   "cell_type": "markdown",
   "id": "0ef49029-6b70-4924-bf61-ae61003ec684",
   "metadata": {},
   "source": [
    "## Discoveries from this investigation\n",
    "* Mesa County whole ept spans 2015-11-02 to 2016-07-17 even with reduced bounds, majority of points 2016-07-13 and 2017-07-14\n",
    "    * \n",
    "* Adams\n",
    "    * \n",
    "* Glacier Peak 2014-2015 could still be useful if we look closer at the areas near the actual peak, which almost fall in a tighter date range\n",
    "    ```\n",
    "    2014-08-25     366\n",
    "    ...\n",
    "    2014-11-19    1307\n",
    "    2015-06-06    1171\n",
    "    ...\n",
    "    2015-06-24      92\n",
    "    ```\n",
    "    update: No\n",
    "    * Day 249 east half\n",
    "    * Day 254 west half\n",
    "    * Day 257 some more points???\n",
    "    * MOST points within 4000m of summit are 2014-09-06 to 2014-09-14\n",
    "    * But the WV DEM is 2014-08-03. Sad!\n",
    "* Wyoming\n",
    "    * Wind River Range\n",
    "    * \n",
    "* Yellowstone 2020 has some potential? https://s3-us-west-2.amazonaws.com/usgs-lidar-public/WY_YellowstoneNP_2_2020/ept.json"
   ]
  },
  {
   "cell_type": "code",
   "execution_count": 17,
   "id": "ae725781-7fed-43db-b94e-39d0d2e92d8a",
   "metadata": {},
   "outputs": [
    {
     "data": {
      "text/plain": [
       "8591"
      ]
     },
     "execution_count": 17,
     "metadata": {},
     "output_type": "execute_result"
    }
   ],
   "source": [
    "gdf[\"keep\"] = [x % 10 for x in range(len(gdf))]\n",
    "gdf_small = gdf[gdf[\"keep\"] == 0]\n",
    "len(gdf_small)"
   ]
  },
  {
   "cell_type": "code",
   "execution_count": 21,
   "id": "a9bfb94c-c16a-46c3-ae41-0582667485dd",
   "metadata": {},
   "outputs": [
    {
     "data": {
      "text/plain": [
       "Text(0.5, 1.0, 'Z= elevation for subsampled points')"
      ]
     },
     "execution_count": 21,
     "metadata": {},
     "output_type": "execute_result"
    },
    {
     "data": {
      "image/png": "[encoded data removed]",
      "text/plain": [
       "<Figure size 432x288 with 2 Axes>"
      ]
     },
     "metadata": {
      "needs_background": "light"
     },
     "output_type": "display_data"
    }
   ],
   "source": [
    "gdf_small.plot(column=\"Z\", cmap=\"gray\", vmin=2000, vmax=4000, legend=True)\n",
    "plt.title(\"Z= elevation for subsampled points\")"
   ]
  },
  {
   "cell_type": "code",
   "execution_count": 23,
   "id": "bab7fb6c-7c12-430a-88a3-5b3702cd9813",
   "metadata": {},
   "outputs": [
    {
     "data": {
      "text/plain": [
       "Text(0.5, 1.0, 'Day of Year for points - Baker?')"
      ]
     },
     "execution_count": 23,
     "metadata": {},
     "output_type": "execute_result"
    },
    {
     "data": {
      "image/png": "[encoded data removed]",
      "text/plain": [
       "<Figure size 432x288 with 2 Axes>"
      ]
     },
     "metadata": {
      "needs_background": "light"
     },
     "output_type": "display_data"
    }
   ],
   "source": [
    "gdf_small.plot(column=\"day_of_year\", legend=True)\n",
    "plt.title(\"Day of Year for points - Baker?\")"
   ]
  },
  {
   "cell_type": "code",
   "execution_count": 24,
   "id": "8dac6b59-9622-4feb-a248-488ce92fe3ae",
   "metadata": {},
   "outputs": [
    {
     "data": {
      "text/plain": [
       "X                                       587595.171\n",
       "Y                                      5404260.312\n",
       "Z                                          4219.29\n",
       "GpsTime                              125875613.305\n",
       "geometry            POINT (587595.171 5404260.312)\n",
       "UTCTime                 2015-09-09 23:13:52.305000\n",
       "day_of_year                                    252\n",
       "datestamp                               2015-09-09\n",
       "time_since_first           14 days 05:36:11.056000\n",
       "days_since_first                                14\n",
       "keep                                             7\n",
       "Name: 11457, dtype: object"
      ]
     },
     "execution_count": 24,
     "metadata": {},
     "output_type": "execute_result"
    }
   ],
   "source": [
    "gdf.iloc[gdf[\"Z\"].argmax()]"
   ]
  },
  {
   "cell_type": "code",
   "execution_count": 25,
   "id": "9c88a0dc-d8f5-4a46-bd22-aee70e2d1035",
   "metadata": {},
   "outputs": [],
   "source": [
    "from shapely.geometry import Point"
   ]
  },
  {
   "cell_type": "code",
   "execution_count": 26,
   "id": "d1170429-a319-4075-b321-c2ffbebc4c32",
   "metadata": {},
   "outputs": [],
   "source": [
    "peak_point = gdf.iloc[gdf[\"Z\"].argmax()]\n",
    "peak_point_xy = Point(peak_point[\"X\"], peak_point[\"Y\"])"
   ]
  },
  {
   "cell_type": "code",
   "execution_count": 27,
   "id": "f591793f-903c-4b2e-ac4e-00e65a5d1ced",
   "metadata": {},
   "outputs": [
    {
     "data": {
      "text/plain": [
       "0    470.499931\n",
       "1    410.270423\n",
       "2    637.327158\n",
       "3    260.842399\n",
       "4    500.705019\n",
       "dtype: float64"
      ]
     },
     "execution_count": 27,
     "metadata": {},
     "output_type": "execute_result"
    }
   ],
   "source": [
    "gdf.distance(peak_point_xy).head()"
   ]
  },
  {
   "cell_type": "code",
   "execution_count": 28,
   "id": "a81cae91-8255-4e8a-9764-f303b7c14251",
   "metadata": {},
   "outputs": [],
   "source": [
    "gdf_near_peak = gdf[gdf.distance(peak_point_xy) < 4000]"
   ]
  },
  {
   "cell_type": "code",
   "execution_count": 29,
   "id": "d6795789-a9d9-4f33-8461-e78ff438fe45",
   "metadata": {},
   "outputs": [
    {
     "data": {
      "text/plain": [
       "7396"
      ]
     },
     "execution_count": 29,
     "metadata": {},
     "output_type": "execute_result"
    }
   ],
   "source": [
    "len(gdf_near_peak)"
   ]
  },
  {
   "cell_type": "code",
   "execution_count": 30,
   "id": "ca7030b0-fc3b-4757-94a5-befca0fc2fc6",
   "metadata": {},
   "outputs": [
    {
     "data": {
      "text/plain": [
       "Text(0.5, 1.0, 'Day of year for points centered around Glacier Peak')"
      ]
     },
     "execution_count": 30,
     "metadata": {},
     "output_type": "execute_result"
    },
    {
     "data": {
      "image/png": "[encoded data removed]",
      "text/plain": [
       "<Figure size 432x288 with 2 Axes>"
      ]
     },
     "metadata": {
      "needs_background": "light"
     },
     "output_type": "display_data"
    }
   ],
   "source": [
    "gdf_near_peak.plot(column=\"day_of_year\",legend=True, vmin=245, vmax=260)\n",
    "plt.title(\"Day of year for points centered around Glacier Peak\")"
   ]
  },
  {
   "cell_type": "code",
   "execution_count": 98,
   "id": "65adadd7-5645-4677-b740-c106f8ab989c",
   "metadata": {},
   "outputs": [
    {
     "data": {
      "text/plain": [
       "(639276.0, 641766.5)"
      ]
     },
     "execution_count": 98,
     "metadata": {},
     "output_type": "execute_result"
    }
   ],
   "source": [
    "gdf_near_peak[\"X\"].min(), gdf_near_peak[\"X\"].max()"
   ]
  },
  {
   "cell_type": "code",
   "execution_count": 99,
   "id": "d838f2e0-f992-4700-ac17-63086cb81c0d",
   "metadata": {},
   "outputs": [
    {
     "data": {
      "text/plain": [
       "(5331948.173, 5334442.98)"
      ]
     },
     "execution_count": 99,
     "metadata": {},
     "output_type": "execute_result"
    }
   ],
   "source": [
    "gdf_near_peak[\"Y\"].min(), gdf_near_peak[\"Y\"].max()"
   ]
  },
  {
   "cell_type": "code",
   "execution_count": 107,
   "id": "e7a9354d-5ca2-41bf-af0e-2fd1dbb01efc",
   "metadata": {},
   "outputs": [
    {
     "data": {
      "text/html": [
       "<div>\n",
       "<style scoped>\n",
       "    .dataframe tbody tr th:only-of-type {\n",
       "        vertical-align: middle;\n",
       "    }\n",
       "\n",
       "    .dataframe tbody tr th {\n",
       "        vertical-align: top;\n",
       "    }\n",
       "\n",
       "    .dataframe thead th {\n",
       "        text-align: right;\n",
       "    }\n",
       "</style>\n",
       "<table border=\"1\" class=\"dataframe\">\n",
       "  <thead>\n",
       "    <tr style=\"text-align: right;\">\n",
       "      <th></th>\n",
       "      <th>X</th>\n",
       "      <th>Y</th>\n",
       "      <th>Z</th>\n",
       "      <th>GpsTime</th>\n",
       "      <th>geometry</th>\n",
       "      <th>UTCTime</th>\n",
       "      <th>day_of_year</th>\n",
       "      <th>time_since_first</th>\n",
       "      <th>days_since_first</th>\n",
       "    </tr>\n",
       "    <tr>\n",
       "      <th>datestamp</th>\n",
       "      <th></th>\n",
       "      <th></th>\n",
       "      <th></th>\n",
       "      <th></th>\n",
       "      <th></th>\n",
       "      <th></th>\n",
       "      <th></th>\n",
       "      <th></th>\n",
       "      <th></th>\n",
       "    </tr>\n",
       "  </thead>\n",
       "  <tbody>\n",
       "    <tr>\n",
       "      <th>2014-08-26</th>\n",
       "      <td>3128</td>\n",
       "      <td>3128</td>\n",
       "      <td>3128</td>\n",
       "      <td>3128</td>\n",
       "      <td>3128</td>\n",
       "      <td>3128</td>\n",
       "      <td>3128</td>\n",
       "      <td>3128</td>\n",
       "      <td>3128</td>\n",
       "    </tr>\n",
       "    <tr>\n",
       "      <th>2014-08-27</th>\n",
       "      <td>3140</td>\n",
       "      <td>3140</td>\n",
       "      <td>3140</td>\n",
       "      <td>3140</td>\n",
       "      <td>3140</td>\n",
       "      <td>3140</td>\n",
       "      <td>3140</td>\n",
       "      <td>3140</td>\n",
       "      <td>3140</td>\n",
       "    </tr>\n",
       "    <tr>\n",
       "      <th>2014-09-06</th>\n",
       "      <td>31388</td>\n",
       "      <td>31388</td>\n",
       "      <td>31388</td>\n",
       "      <td>31388</td>\n",
       "      <td>31388</td>\n",
       "      <td>31388</td>\n",
       "      <td>31388</td>\n",
       "      <td>31388</td>\n",
       "      <td>31388</td>\n",
       "    </tr>\n",
       "    <tr>\n",
       "      <th>2014-09-07</th>\n",
       "      <td>13400</td>\n",
       "      <td>13400</td>\n",
       "      <td>13400</td>\n",
       "      <td>13400</td>\n",
       "      <td>13400</td>\n",
       "      <td>13400</td>\n",
       "      <td>13400</td>\n",
       "      <td>13400</td>\n",
       "      <td>13400</td>\n",
       "    </tr>\n",
       "    <tr>\n",
       "      <th>2014-09-11</th>\n",
       "      <td>19376</td>\n",
       "      <td>19376</td>\n",
       "      <td>19376</td>\n",
       "      <td>19376</td>\n",
       "      <td>19376</td>\n",
       "      <td>19376</td>\n",
       "      <td>19376</td>\n",
       "      <td>19376</td>\n",
       "      <td>19376</td>\n",
       "    </tr>\n",
       "    <tr>\n",
       "      <th>2014-09-14</th>\n",
       "      <td>6784</td>\n",
       "      <td>6784</td>\n",
       "      <td>6784</td>\n",
       "      <td>6784</td>\n",
       "      <td>6784</td>\n",
       "      <td>6784</td>\n",
       "      <td>6784</td>\n",
       "      <td>6784</td>\n",
       "      <td>6784</td>\n",
       "    </tr>\n",
       "    <tr>\n",
       "      <th>2014-09-22</th>\n",
       "      <td>842</td>\n",
       "      <td>842</td>\n",
       "      <td>842</td>\n",
       "      <td>842</td>\n",
       "      <td>842</td>\n",
       "      <td>842</td>\n",
       "      <td>842</td>\n",
       "      <td>842</td>\n",
       "      <td>842</td>\n",
       "    </tr>\n",
       "    <tr>\n",
       "      <th>2014-10-02</th>\n",
       "      <td>997</td>\n",
       "      <td>997</td>\n",
       "      <td>997</td>\n",
       "      <td>997</td>\n",
       "      <td>997</td>\n",
       "      <td>997</td>\n",
       "      <td>997</td>\n",
       "      <td>997</td>\n",
       "      <td>997</td>\n",
       "    </tr>\n",
       "    <tr>\n",
       "      <th>2014-10-03</th>\n",
       "      <td>35</td>\n",
       "      <td>35</td>\n",
       "      <td>35</td>\n",
       "      <td>35</td>\n",
       "      <td>35</td>\n",
       "      <td>35</td>\n",
       "      <td>35</td>\n",
       "      <td>35</td>\n",
       "      <td>35</td>\n",
       "    </tr>\n",
       "    <tr>\n",
       "      <th>2014-10-09</th>\n",
       "      <td>1128</td>\n",
       "      <td>1128</td>\n",
       "      <td>1128</td>\n",
       "      <td>1128</td>\n",
       "      <td>1128</td>\n",
       "      <td>1128</td>\n",
       "      <td>1128</td>\n",
       "      <td>1128</td>\n",
       "      <td>1128</td>\n",
       "    </tr>\n",
       "    <tr>\n",
       "      <th>2015-06-21</th>\n",
       "      <td>135</td>\n",
       "      <td>135</td>\n",
       "      <td>135</td>\n",
       "      <td>135</td>\n",
       "      <td>135</td>\n",
       "      <td>135</td>\n",
       "      <td>135</td>\n",
       "      <td>135</td>\n",
       "      <td>135</td>\n",
       "    </tr>\n",
       "    <tr>\n",
       "      <th>2015-06-22</th>\n",
       "      <td>28</td>\n",
       "      <td>28</td>\n",
       "      <td>28</td>\n",
       "      <td>28</td>\n",
       "      <td>28</td>\n",
       "      <td>28</td>\n",
       "      <td>28</td>\n",
       "      <td>28</td>\n",
       "      <td>28</td>\n",
       "    </tr>\n",
       "  </tbody>\n",
       "</table>\n",
       "</div>"
      ],
      "text/plain": [
       "                X      Y      Z  GpsTime  geometry  UTCTime  day_of_year  \\\n",
       "datestamp                                                                  \n",
       "2014-08-26   3128   3128   3128     3128      3128     3128         3128   \n",
       "2014-08-27   3140   3140   3140     3140      3140     3140         3140   \n",
       "2014-09-06  31388  31388  31388    31388     31388    31388        31388   \n",
       "2014-09-07  13400  13400  13400    13400     13400    13400        13400   \n",
       "2014-09-11  19376  19376  19376    19376     19376    19376        19376   \n",
       "2014-09-14   6784   6784   6784     6784      6784     6784         6784   \n",
       "2014-09-22    842    842    842      842       842      842          842   \n",
       "2014-10-02    997    997    997      997       997      997          997   \n",
       "2014-10-03     35     35     35       35        35       35           35   \n",
       "2014-10-09   1128   1128   1128     1128      1128     1128         1128   \n",
       "2015-06-21    135    135    135      135       135      135          135   \n",
       "2015-06-22     28     28     28       28        28       28           28   \n",
       "\n",
       "            time_since_first  days_since_first  \n",
       "datestamp                                       \n",
       "2014-08-26              3128              3128  \n",
       "2014-08-27              3140              3140  \n",
       "2014-09-06             31388             31388  \n",
       "2014-09-07             13400             13400  \n",
       "2014-09-11             19376             19376  \n",
       "2014-09-14              6784              6784  \n",
       "2014-09-22               842               842  \n",
       "2014-10-02               997               997  \n",
       "2014-10-03                35                35  \n",
       "2014-10-09              1128              1128  \n",
       "2015-06-21               135               135  \n",
       "2015-06-22                28                28  "
      ]
     },
     "execution_count": 107,
     "metadata": {},
     "output_type": "execute_result"
    }
   ],
   "source": [
    "gdf_near_peak.groupby(\"datestamp\").count()"
   ]
  },
  {
   "cell_type": "code",
   "execution_count": 14,
   "id": "09fa3366-6c80-4f13-909f-49cbb755f162",
   "metadata": {},
   "outputs": [],
   "source": [
    "# Somehow this takes really long??? Why, too many points to overlay?\n",
    "# fig, ax = plt.subplots(ncols=2, figsize=(10,10))\n",
    "# gdf_small.plot(column=\"Z\", ax=ax[0], cmap=\"gray\", legend=True)\n",
    "# gdf_small.plot(ax=ax[1], column=\"day_of_year\", legend=True)\n",
    "\n",
    "# plt.title(f\"{ept_fn} points \\n day of the year\")\n",
    "# # plt.tight_layout()"
   ]
  }
 ],
 "metadata": {
  "kernelspec": {
   "display_name": "Python 3 (ipykernel)",
   "language": "python",
   "name": "python3"
  },
  "language_info": {
   "codemirror_mode": {
    "name": "ipython",
    "version": 3
   },
   "file_extension": ".py",
   "mimetype": "text/x-python",
   "name": "python",
   "nbconvert_exporter": "python",
   "pygments_lexer": "ipython3",
   "version": "3.10.9"
  }
 },
 "nbformat": 4,
 "nbformat_minor": 5
}
