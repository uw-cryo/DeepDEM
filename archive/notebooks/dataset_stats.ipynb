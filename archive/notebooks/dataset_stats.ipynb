{
 "cells": [
  {
   "cell_type": "markdown",
   "id": "febe0ff3-3102-4e06-bff4-ec3d9ab65af4",
   "metadata": {},
   "source": [
    "# Observing problems with NN training\n",
    "* Suspicion: due to the tail of relatively large elevation errors worst 1% > 8.9 meters (trees) the NN is getting punished mostly for these (unfixable?) errors instead of focusing on the smaller errors it's supposed to learn to correct"
   ]
  },
  {
   "cell_type": "markdown",
   "id": "72d5cf89-9eba-43d5-8217-adcdbf8cf54c",
   "metadata": {},
   "source": [
    "## Find the min & max of the whole dataset"
   ]
  },
  {
   "cell_type": "code",
   "execution_count": 2,
   "id": "d335f1e7-d0ea-48d5-b716-b0847bb320ed",
   "metadata": {},
   "outputs": [],
   "source": [
    "import rioxarray\n",
    "import glob\n",
    "import torch\n",
    "import pathlib\n",
    "import matplotlib.pyplot as plt\n",
    "import os\n",
    "import numpy as np\n",
    "import shapely\n",
    "import pathlib\n",
    "import geopandas as gpd"
   ]
  },
  {
   "cell_type": "code",
   "execution_count": 3,
   "id": "a06a1936-14d7-4a81-a6dd-2830aae9dbf9",
   "metadata": {},
   "outputs": [
    {
     "data": {
      "text/plain": [
       "['mosaic_TRAIN_WV01_20150911_1020010042D39D00_1020010043455300_aligned_crop_1.0m-DEM.tif',\n",
       " 'mosaic_TRAIN_1020010043455300.r100_ortho_1.0m_ba.tif',\n",
       " 'mosaic_TRAIN_1020010042D39D00.r100_ortho_1.0m_ba.tif',\n",
       " 'mosaic_TRAIN_WV01_20150911_1020010042D39D00_1020010043455300_aligned_crop_1.0m-IntersectionErr.tif',\n",
       " 'mosaic_TRAIN_USGS_LPC_WA_MtBaker_2015_*_LAS_2017_32610_first_filt_v1.3_1.0m-DEM_holes_filled.tif']"
      ]
     },
     "execution_count": 3,
     "metadata": {},
     "output_type": "execute_result"
    }
   ],
   "source": [
    "mosaics = list(glob.glob(\"mosaic*.tif\"))\n",
    "mosaics"
   ]
  },
  {
   "cell_type": "code",
   "execution_count": 6,
   "id": "5751edec-d8da-4879-acbe-452e5678ea41",
   "metadata": {},
   "outputs": [
    {
     "name": "stdout",
     "output_type": "stream",
     "text": [
      "mosaic_TRAIN_WV01_20150911_1020010042D39D00_1020010043455300_aligned_crop_1.0m-DEM.tif: min=0.00, max=3266.77\n",
      "\tmean=1470.81, std=750.69\n",
      "mosaic_TRAIN_1020010043455300.r100_ortho_1.0m_ba.tif: min=0.00, max=2007.00\n",
      "\tmean=307.36, std=388.75\n",
      "mosaic_TRAIN_1020010042D39D00.r100_ortho_1.0m_ba.tif: min=0.00, max=2045.00\n",
      "\tmean=357.07, std=395.84\n",
      "mosaic_TRAIN_WV01_20150911_1020010042D39D00_1020010043455300_aligned_crop_1.0m-IntersectionErr.tif: min=0.00, max=6.98\n",
      "\tmean=0.37, std=0.57\n",
      "mosaic_TRAIN_USGS_LPC_WA_MtBaker_2015_*_LAS_2017_32610_first_filt_v1.3_1.0m-DEM_holes_filled.tif: min=0.00, max=3266.78\n",
      "\tmean=1512.84, std=718.11\n"
     ]
    }
   ],
   "source": [
    "for m in mosaics:\n",
    "    x = rioxarray.open_rasterio(m, masked=True)\n",
    "    print(f\"{m}: min={float(x.min()):.2f}, max={float(x.max()):.2f}\")\n",
    "    print(f\"\\tmean={float(x.mean()):.2f}, std={float(x.std()):.2f}\")"
   ]
  },
  {
   "cell_type": "code",
   "execution_count": 54,
   "id": "541e1e63-3fd3-4d60-bbb6-5d7acef93672",
   "metadata": {},
   "outputs": [],
   "source": [
    "x = torch.rand([20,5,256,256])\n",
    "normalized_inputs = torch.zeros_like(x)\n",
    "\n",
    "min_max_per_band = [\n",
    "    [0,3266.77],\n",
    "    [0,2045],\n",
    "    [0,2007],\n",
    "    [0,6.98],\n",
    "    [0,1]\n",
    "]\n",
    "min_max_per_band = np.array(min_max_per_band)\n",
    "for band in range(len(min_max_per_band)):\n",
    "    normalized_inputs[:,band] = (x[:,band] - min_max_per_band[band,0]) / min_max_per_band[band,1]"
   ]
  },
  {
   "cell_type": "code",
   "execution_count": 53,
   "id": "ce0d40b8-d39b-4329-a560-0bbea0accb09",
   "metadata": {},
   "outputs": [
    {
     "data": {
      "text/plain": [
       "tensor(1.0000)"
      ]
     },
     "execution_count": 53,
     "metadata": {},
     "output_type": "execute_result"
    }
   ],
   "source": [
    "normalized_inputs.max()"
   ]
  },
  {
   "cell_type": "markdown",
   "id": "680f5c65-3d03-44d9-a71b-387b5cb0f881",
   "metadata": {},
   "source": [
    "# find which tiles do NOT have trees in them to make a smaller training+val set"
   ]
  },
  {
   "cell_type": "code",
   "execution_count": 7,
   "id": "a1d30db1-2817-4919-9ba8-292c9662f983",
   "metadata": {},
   "outputs": [],
   "source": [
    "val_dir = \"/mnt/1.0_TB_VOLUME/sethv/shashank_data/VALIDATION_tile_stack_baker_128_global_coreg/\"\n",
    "train_dir = \"/mnt/1.0_TB_VOLUME/sethv/shashank_data/TRAIN_tile_stack_baker_128_global_coreg/\""
   ]
  },
  {
   "cell_type": "code",
   "execution_count": 59,
   "id": "845f103c-f0df-410f-abf3-b32bbcb1ff1c",
   "metadata": {},
   "outputs": [],
   "source": [
    "val_path = pathlib.Path(val_dir)\n",
    "train_path = pathlib.Path(train_dir)"
   ]
  },
  {
   "cell_type": "code",
   "execution_count": null,
   "id": "a8ce3693-aac6-4256-875f-ba0607108061",
   "metadata": {},
   "outputs": [],
   "source": [
    "keep_train = []\n",
    "keep_val = []\n"
   ]
  },
  {
   "cell_type": "code",
   "execution_count": 64,
   "id": "51fe2ad6-4d33-4d0c-8a0a-4aac7456dd7b",
   "metadata": {
    "collapsed": true,
    "jupyter": {
     "outputs_hidden": true
    },
    "tags": []
   },
   "outputs": [
    {
     "name": "stdout",
     "output_type": "stream",
     "text": [
      "Discarding 10UEV8909\n",
      "Discarding 10UEV8603\n",
      "Discarding 10UEU8697\n",
      "Discarding 10UEV8307\n",
      "Discarding 10UEU8796\n",
      "Discarding 10UEV8710\n",
      "Discarding 10UEU9095\n",
      "Discarding 10UEV8609\n",
      "Discarding 10UEU8497\n",
      "Discarding 10UEV8407\n",
      "Discarding 10UEU8895\n",
      "Discarding 10UEV8908\n",
      "Discarding 10UEV8300\n",
      "Discarding 10UEU8896\n",
      "Discarding 10UEU8696\n",
      "Discarding 10UEU9096\n",
      "Discarding 10UEV8305\n",
      "Discarding 10UEU8898\n",
      "Discarding 10UEU8897\n",
      "Discarding 10UEV8302\n",
      "Discarding 10UEU9098\n",
      "Discarding 10UEV8306\n",
      "Discarding 10UEV9009\n",
      "Discarding 10UEV8403\n",
      "Discarding 10UEU8395\n",
      "Discarding 10UEV8402\n",
      "Discarding 10UEV8309\n",
      "Discarding 10UEV8910\n",
      "Discarding 10UEU8995\n",
      "Discarding 10UEU8996\n",
      "Discarding 10UEU8595\n",
      "Discarding 10UEU8997\n",
      "Discarding 10UEU9099\n",
      "Discarding 10UEV8809\n",
      "Discarding 10UEU8396\n",
      "Discarding 10UEU8397\n",
      "Discarding 10UEV8709\n",
      "Discarding 10UEV8509\n",
      "Discarding 10UEU9097\n",
      "Discarding 10UEU8596\n",
      "Discarding 10UEV8808\n",
      "Discarding 10UEU8797\n",
      "Discarding 10UEU8398\n",
      "Discarding 10UEV8400\n",
      "Discarding 10UEV8301\n",
      "Discarding 10UEV9000\n",
      "Discarding 10UEV8610\n",
      "Discarding 10UEU8795\n",
      "Discarding 10UEV8410\n",
      "Discarding 10UEV8810\n",
      "Discarding 10UEU8999\n",
      "Discarding 10UEV8308\n"
     ]
    }
   ],
   "source": [
    "\n",
    "keep = keep_train\n",
    "p = train_path\n",
    "for stack_dir in list(p.glob(\"*/lower_easton3/files_to_zip\")):#[:15]:\n",
    "    initial_dem_fn = stack_dir / \"WV01_20150911_1020010042D39D00_1020010043455300_aligned_crop_1.0m-DEM_holes_filled.tif\"\n",
    "    lidar_dem_fn = list(stack_dir.glob(\"USGS_LPC_WA_MtBaker_2015_*_LAS_2017_32610_first_filt_v1.3_1.0m-DEM_holes_filled.tif\"))[0]\n",
    "    initial_dem = rioxarray.open_rasterio(initial_dem_fn, masked=True)\n",
    "    lidar_dem = rioxarray.open_rasterio(lidar_dem_fn, masked=True)\n",
    "    diff = initial_dem - lidar_dem\n",
    "    # print(diff.min(), diff.max(), diff.mean(), diff.median())\n",
    "    diff_1d = diff.data.reshape(-1)\n",
    "    # plt.figure()\n",
    "    # plt.hist(diff_1d, bins=100)\n",
    "    pct5 = np.percentile(diff_1d, 5)\n",
    "    pct95 = np.percentile(diff_1d, 95)\n",
    "    # print(pct5, pct95)\n",
    "    tile_id = os.path.basename(lidar_dem_fn).split(\"_\")[5]\n",
    "    # print(tile_id)\n",
    "    if pct95-pct5 > 10:\n",
    "        print(f\"Discarding {tile_id}\")\n",
    "    else:\n",
    "        keep.append(tile_id)\n",
    "    "
   ]
  },
  {
   "cell_type": "code",
   "execution_count": 62,
   "id": "08d8ab0b-fa8c-462a-bbc9-cfbff183b917",
   "metadata": {
    "collapsed": true,
    "jupyter": {
     "outputs_hidden": true
    },
    "tags": []
   },
   "outputs": [
    {
     "data": {
      "text/plain": [
       "['10UEV8807',\n",
       " '10UEV8501',\n",
       " '10UEV8707',\n",
       " '10UEU8599',\n",
       " '10UEV8601',\n",
       " '10UEV8903',\n",
       " '10UEV8801',\n",
       " '10UEV8304',\n",
       " '10UEV9006']"
      ]
     },
     "execution_count": 62,
     "metadata": {},
     "output_type": "execute_result"
    }
   ],
   "source": [
    "keep_val"
   ]
  },
  {
   "cell_type": "code",
   "execution_count": 65,
   "id": "6539169c-d647-4bcc-bc75-736ae3808624",
   "metadata": {
    "collapsed": true,
    "jupyter": {
     "outputs_hidden": true
    },
    "tags": []
   },
   "outputs": [
    {
     "data": {
      "text/plain": [
       "['10UEU8699',\n",
       " '10UEV8803',\n",
       " '10UEV8507',\n",
       " '10UEV9003',\n",
       " '10UEU8798',\n",
       " '10UEU8499',\n",
       " '10UEV8606',\n",
       " '10UEV8806',\n",
       " '10UEV9001',\n",
       " '10UEV8703',\n",
       " '10UEV9007',\n",
       " '10UEU8698',\n",
       " '10UEV8902',\n",
       " '10UEU8597',\n",
       " '10UEV8701',\n",
       " '10UEV8500',\n",
       " '10UEV8608',\n",
       " '10UEV8600',\n",
       " '10UEV8405',\n",
       " '10UEU8799',\n",
       " '10UEV8906',\n",
       " '10UEV8802',\n",
       " '10UEU8598',\n",
       " '10UEV8404',\n",
       " '10UEV8900',\n",
       " '10UEV8303',\n",
       " '10UEV8408',\n",
       " '10UEU8498',\n",
       " '10UEV8901',\n",
       " '10UEV9004',\n",
       " '10UEV8503',\n",
       " '10UEV8805',\n",
       " '10UEU8899',\n",
       " '10UEV8605',\n",
       " '10UEV8700',\n",
       " '10UEV8607',\n",
       " '10UEV8406',\n",
       " '10UEV8904',\n",
       " '10UEV8800',\n",
       " '10UEV8310',\n",
       " '10UEV8401',\n",
       " '10UEV8602',\n",
       " '10UEV8907',\n",
       " '10UEV8504',\n",
       " '10UEV9002',\n",
       " '10UEV8702',\n",
       " '10UEV8604',\n",
       " '10UEV8706',\n",
       " '10UEV8708',\n",
       " '10UEV8508',\n",
       " '10UEV8506',\n",
       " '10UEV8705',\n",
       " '10UEV8409',\n",
       " '10UEV8502',\n",
       " '10UEV8905',\n",
       " '10UEV8704',\n",
       " '10UEV8804',\n",
       " '10UEV9008',\n",
       " '10UEV9005',\n",
       " '10UEV8505']"
      ]
     },
     "execution_count": 65,
     "metadata": {},
     "output_type": "execute_result"
    }
   ],
   "source": [
    "keep_train"
   ]
  },
  {
   "cell_type": "code",
   "execution_count": 1,
   "id": "247cbdab-b515-4775-b32b-7807cddf103c",
   "metadata": {},
   "outputs": [
    {
     "ename": "NameError",
     "evalue": "name 'pathlib' is not defined",
     "output_type": "error",
     "traceback": [
      "\u001b[0;31m---------------------------------------------------------------------------\u001b[0m",
      "\u001b[0;31mNameError\u001b[0m                                 Traceback (most recent call last)",
      "Cell \u001b[0;32mIn[1], line 1\u001b[0m\n\u001b[0;32m----> 1\u001b[0m project_root \u001b[38;5;241m=\u001b[39m \u001b[43mpathlib\u001b[49m\u001b[38;5;241m.\u001b[39mPath(\u001b[38;5;124m\"\u001b[39m\u001b[38;5;124m/mnt/1.0_TB_VOLUME/sethv\u001b[39m\u001b[38;5;124m\"\u001b[39m)\n\u001b[1;32m      2\u001b[0m usgs_dir \u001b[38;5;241m=\u001b[39m os\u001b[38;5;241m.\u001b[39mpath\u001b[38;5;241m.\u001b[39mjoin(project_root, \u001b[38;5;124m\"\u001b[39m\u001b[38;5;124mresdepth_all/deep-elevation-refinement/notebooks/dataset_search/\u001b[39m\u001b[38;5;124m\"\u001b[39m)\n\u001b[1;32m      3\u001b[0m biggest_bbox \u001b[38;5;241m=\u001b[39m shapely\u001b[38;5;241m.\u001b[39mgeometry\u001b[38;5;241m.\u001b[39mbox(\u001b[38;5;241m583000\u001b[39m, \u001b[38;5;241m5411000\u001b[39m, \u001b[38;5;241m591000\u001b[39m, \u001b[38;5;241m5395000\u001b[39m)\n",
      "\u001b[0;31mNameError\u001b[0m: name 'pathlib' is not defined"
     ]
    }
   ],
   "source": [
    "project_root = pathlib.Path(\"/mnt/1.0_TB_VOLUME/sethv\")\n",
    "usgs_dir = os.path.join(project_root, \"resdepth_all/deep-elevation-refinement/notebooks/dataset_search/\")\n",
    "biggest_bbox = shapely.geometry.box(583000, 5411000, 591000, 5395000)\n",
    "\n",
    "gdf = gpd.read_file(os.path.join(usgs_dir, \"Mt_Baker_LiDAR_Tile_Index.shp\"))\n",
    "fig, ax = plt.subplots(figsize=(6,6))\n",
    "gdf.plot(ax=ax, alpha=0.2)\n",
    "gdf[gdf[\"Tile\"].isin(keep_train)].plot(ax=ax, color=\"red\")\n",
    "gdf[gdf[\"Tile\"].isin(keep_val)].plot(ax=ax, color=\"blue\")\n",
    "plt.title(f\"keep {len(keep_train)} train and {len(keep_val)} val tiles with small errors\")"
   ]
  },
  {
   "cell_type": "code",
   "execution_count": 91,
   "id": "30f62603-69ed-417f-a3a9-0d0da2416800",
   "metadata": {},
   "outputs": [],
   "source": [
    "\n",
    "val_dataset_small_errors_only = \"/mnt/1.0_TB_VOLUME/sethv/shashank_data/VAL_tile_stack_baker_small_errors_only\"\n",
    "train_dataset_small_errors_only = \"/mnt/1.0_TB_VOLUME/sethv/shashank_data/TRAIN_tile_stack_baker_small_errors_only\"\n",
    "!mkdir -p $train_dataset_small_errors_only\n",
    "!mkdir -p $val_dataset_small_errors_only"
   ]
  },
  {
   "cell_type": "code",
   "execution_count": 67,
   "id": "8b330be2-5c6d-4283-8c2f-47879d4e79c2",
   "metadata": {},
   "outputs": [
    {
     "data": {
      "text/plain": [
       "['10UEV8807',\n",
       " '10UEV8501',\n",
       " '10UEV8707',\n",
       " '10UEU8599',\n",
       " '10UEV8601',\n",
       " '10UEV8903',\n",
       " '10UEV8801',\n",
       " '10UEV8304',\n",
       " '10UEV9006']"
      ]
     },
     "execution_count": 67,
     "metadata": {},
     "output_type": "execute_result"
    }
   ],
   "source": [
    "keep_val"
   ]
  },
  {
   "cell_type": "code",
   "execution_count": 96,
   "id": "ef9724ea-c1e4-42a6-aa75-6ca1be719b92",
   "metadata": {
    "collapsed": true,
    "jupyter": {
     "outputs_hidden": true
    },
    "tags": []
   },
   "outputs": [
    {
     "name": "stdout",
     "output_type": "stream",
     "text": [
      "10UEU8699\n",
      "min=0.00, max=43.10, mean=0.80, median=0.48\n",
      "5th & 95th percentile 0.05 and 2.71\n",
      "10UEV8803\n",
      "min=0.00, max=919.03, mean=1.34, median=0.59\n",
      "5th & 95th percentile 0.06 and 5.48\n",
      "10UEV8507\n",
      "min=0.00, max=129.98, mean=0.85, median=0.40\n",
      "5th & 95th percentile 0.03 and 3.40\n",
      "10UEV9003\n",
      "min=0.00, max=1221.84, mean=2.37, median=0.74\n",
      "5th & 95th percentile 0.06 and 7.26\n",
      "10UEU8798\n",
      "min=0.00, max=38.51, mean=1.08, median=0.34\n",
      "5th & 95th percentile 0.03 and 4.42\n",
      "10UEU8499\n",
      "min=0.00, max=30.83, mean=1.06, median=0.34\n",
      "5th & 95th percentile 0.03 and 4.91\n",
      "10UEV8606\n",
      "min=0.00, max=196.48, mean=0.71, median=0.44\n",
      "5th & 95th percentile 0.06 and 2.25\n",
      "10UEV8806\n",
      "min=0.00, max=185.44, mean=1.00, median=0.44\n",
      "5th & 95th percentile 0.04 and 4.03\n",
      "10UEV9001\n",
      "min=0.00, max=47.55, mean=0.72, median=0.35\n",
      "5th & 95th percentile 0.03 and 2.16\n",
      "10UEV8703\n",
      "min=0.00, max=39.36, mean=1.39, median=0.51\n",
      "5th & 95th percentile 0.04 and 6.48\n",
      "10UEV9007\n",
      "min=0.00, max=55.40, mean=0.51, median=0.20\n",
      "5th & 95th percentile 0.02 and 1.93\n",
      "10UEU8698\n",
      "min=0.00, max=117.66, mean=0.61, median=0.32\n",
      "5th & 95th percentile 0.03 and 1.53\n",
      "10UEV8902\n",
      "min=0.00, max=43.21, mean=1.02, median=0.73\n",
      "5th & 95th percentile 0.12 and 2.95\n",
      "10UEU8597\n",
      "min=0.00, max=38.07, mean=0.82, median=0.30\n",
      "5th & 95th percentile 0.03 and 1.98\n",
      "10UEV8701\n",
      "min=0.00, max=32.88, mean=1.08, median=0.50\n",
      "5th & 95th percentile 0.05 and 4.52\n",
      "10UEV8500\n",
      "min=0.00, max=48.08, mean=1.45, median=0.59\n",
      "5th & 95th percentile 0.06 and 6.29\n",
      "10UEV8608\n",
      "min=0.00, max=456.41, mean=1.42, median=0.48\n",
      "5th & 95th percentile 0.04 and 2.98\n",
      "10UEV8600\n",
      "min=0.00, max=26.74, mean=0.73, median=0.44\n",
      "5th & 95th percentile 0.09 and 2.03\n",
      "10UEV8405\n",
      "min=0.00, max=29.77, mean=1.06, median=0.50\n",
      "5th & 95th percentile 0.04 and 4.14\n",
      "10UEU8799\n",
      "min=0.00, max=31.86, mean=0.85, median=0.62\n",
      "5th & 95th percentile 0.07 and 2.46\n",
      "10UEV8906\n",
      "min=0.00, max=66.09, mean=0.85, median=0.22\n",
      "5th & 95th percentile 0.02 and 3.58\n",
      "10UEV8802\n",
      "min=0.00, max=43.80, mean=1.22, median=0.57\n",
      "5th & 95th percentile 0.06 and 5.24\n",
      "10UEU8598\n",
      "min=0.00, max=25.23, mean=0.61, median=0.38\n",
      "5th & 95th percentile 0.04 and 1.71\n",
      "10UEV8404\n",
      "min=0.00, max=23.88, mean=1.08, median=0.61\n",
      "5th & 95th percentile 0.08 and 3.92\n",
      "10UEV8900\n",
      "min=0.00, max=32.46, mean=0.74, median=0.33\n",
      "5th & 95th percentile 0.03 and 1.83\n",
      "10UEV8303\n",
      "min=0.00, max=71.47, mean=1.29, median=0.49\n",
      "5th & 95th percentile 0.07 and 4.80\n",
      "10UEV8408\n",
      "min=0.00, max=30.79, mean=1.59, median=0.72\n",
      "5th & 95th percentile 0.06 and 6.54\n",
      "10UEU8498\n",
      "min=0.00, max=215.13, mean=1.51, median=0.46\n",
      "5th & 95th percentile 0.04 and 8.58\n",
      "10UEV8901\n",
      "min=0.00, max=26.09, mean=0.74, median=0.53\n",
      "5th & 95th percentile 0.04 and 2.03\n",
      "10UEV9004\n",
      "min=0.00, max=55.05, mean=1.63, median=0.55\n",
      "5th & 95th percentile 0.05 and 7.56\n",
      "10UEV8503\n",
      "min=0.00, max=44.20, mean=1.73, median=0.74\n",
      "5th & 95th percentile 0.07 and 7.62\n",
      "10UEV8805\n",
      "min=0.00, max=21.04, mean=0.87, median=0.55\n",
      "5th & 95th percentile 0.06 and 2.90\n",
      "10UEU8899\n",
      "min=0.00, max=98.67, mean=1.40, median=0.42\n",
      "5th & 95th percentile 0.04 and 6.11\n",
      "10UEV8605\n",
      "min=0.00, max=37.29, mean=0.86, median=0.48\n",
      "5th & 95th percentile 0.06 and 3.04\n",
      "10UEV8700\n",
      "min=0.00, max=87.13, mean=1.18, median=0.68\n",
      "5th & 95th percentile 0.13 and 4.21\n",
      "10UEV8607\n",
      "min=0.00, max=107.98, mean=0.65, median=0.45\n",
      "5th & 95th percentile 0.04 and 2.02\n",
      "10UEV8406\n",
      "min=0.00, max=34.52, mean=1.65, median=0.71\n",
      "5th & 95th percentile 0.05 and 6.80\n",
      "10UEV8904\n",
      "min=0.00, max=956.52, mean=1.83, median=0.71\n",
      "5th & 95th percentile 0.09 and 5.01\n",
      "10UEV8800\n",
      "min=0.00, max=131.79, mean=0.83, median=0.67\n",
      "5th & 95th percentile 0.06 and 2.21\n",
      "10UEV8310\n",
      "min=0.00, max=35.64, mean=1.57, median=0.57\n",
      "5th & 95th percentile 0.05 and 6.72\n",
      "10UEV8401\n",
      "min=0.00, max=91.03, mean=1.75, median=0.60\n",
      "5th & 95th percentile 0.06 and 6.99\n",
      "10UEV8602\n",
      "min=0.00, max=62.49, mean=1.46, median=0.67\n",
      "5th & 95th percentile 0.05 and 6.11\n",
      "10UEV8907\n",
      "min=0.00, max=67.40, mean=1.07, median=0.38\n",
      "5th & 95th percentile 0.03 and 4.18\n",
      "10UEV8504\n",
      "min=0.00, max=216.65, mean=1.24, median=0.75\n",
      "5th & 95th percentile 0.12 and 4.25\n",
      "10UEV9002\n",
      "min=0.00, max=109.30, mean=1.79, median=0.43\n",
      "5th & 95th percentile 0.04 and 6.26\n",
      "10UEV8702\n",
      "min=0.00, max=34.62, mean=1.13, median=0.46\n",
      "5th & 95th percentile 0.04 and 4.94\n",
      "10UEV8604\n",
      "min=0.00, max=38.20, mean=1.76, median=0.74\n",
      "5th & 95th percentile 0.07 and 7.82\n",
      "10UEV8706\n",
      "min=0.00, max=35.66, mean=0.81, median=0.44\n",
      "5th & 95th percentile 0.04 and 3.14\n",
      "10UEV8708\n",
      "min=0.00, max=707.65, mean=4.03, median=0.54\n",
      "5th & 95th percentile 0.05 and 5.80\n",
      "10UEV8508\n",
      "min=0.00, max=29.82, mean=0.67, median=0.39\n",
      "5th & 95th percentile 0.03 and 2.04\n",
      "10UEV8506\n",
      "min=0.00, max=97.20, mean=1.86, median=0.62\n",
      "5th & 95th percentile 0.05 and 7.47\n",
      "10UEV8705\n",
      "min=0.00, max=27.59, mean=1.21, median=0.67\n",
      "5th & 95th percentile 0.08 and 4.73\n",
      "10UEV8409\n",
      "min=0.00, max=98.63, mean=0.92, median=0.39\n",
      "5th & 95th percentile 0.03 and 3.52\n",
      "10UEV8502\n",
      "min=0.00, max=87.51, mean=1.91, median=0.63\n",
      "5th & 95th percentile 0.05 and 8.48\n",
      "10UEV8905\n",
      "min=0.00, max=149.29, mean=1.24, median=0.51\n",
      "5th & 95th percentile 0.05 and 5.08\n",
      "10UEV8704\n",
      "min=0.00, max=423.82, mean=1.80, median=0.62\n",
      "5th & 95th percentile 0.05 and 8.30\n",
      "10UEV8804\n",
      "min=0.00, max=30.72, mean=1.64, median=0.79\n",
      "5th & 95th percentile 0.09 and 6.67\n",
      "10UEV9008\n",
      "min=0.00, max=15.37, mean=0.46, median=0.30\n",
      "5th & 95th percentile 0.03 and 1.33\n",
      "10UEV9005\n",
      "min=0.00, max=81.92, mean=1.71, median=0.46\n",
      "5th & 95th percentile 0.04 and 5.95\n",
      "10UEV8505\n",
      "min=0.00, max=29.29, mean=0.98, median=0.51\n",
      "5th & 95th percentile 0.05 and 3.74\n",
      "medAE = 0.52, MAE (mean) = 1.24\n"
     ]
    }
   ],
   "source": [
    "for stack_dir in list(train_path.glob(\"*/lower_easton3/files_to_zip\")):#[:15]:\n",
    "    initial_dem_fn = stack_dir / \"WV01_20150911_1020010042D39D00_1020010043455300_aligned_crop_1.0m-DEM_holes_filled.tif\"\n",
    "    lidar_dem_fn = list(stack_dir.glob(\"USGS_LPC_WA_MtBaker_2015_*_LAS_2017_32610_first_filt_v1.3_1.0m-DEM_holes_filled.tif\"))[0]\n",
    "    tile_id = os.path.basename(lidar_dem_fn).split(\"_\")[5]\n",
    "    if tile_id not in keep_train:\n",
    "        continue\n",
    "\n",
    "    initial_dem = rioxarray.open_rasterio(initial_dem_fn, masked=True)\n",
    "    lidar_dem = rioxarray.open_rasterio(lidar_dem_fn, masked=True)\n",
    "    diff = abs(initial_dem - lidar_dem)\n",
    "    print(tile_id)\n",
    "    print(f\"min={diff.min():.2f}, max={diff.max():.2f}, mean={diff.mean():.2f}, median={diff.median():.2f}\")\n",
    "    diff_1d = diff.data.reshape(-1)\n",
    "    # plt.figure()\n",
    "    # plt.hist(diff_1d, bins=100)\n",
    "    pct5 = np.percentile(diff_1d, 5)\n",
    "    pct95 = np.percentile(diff_1d, 95)\n",
    "    print(f\"5th & 95th percentile {pct5:.2f} and {pct95:.2f}\")"
   ]
  },
  {
   "cell_type": "code",
   "execution_count": 94,
   "id": "95b55366-2c16-46bd-ad63-d15bbacee0a0",
   "metadata": {
    "tags": []
   },
   "outputs": [],
   "source": [
    "for stack_dir in list(train_path.glob(\"*/lower_easton3/files_to_zip\")):\n",
    "    tile_id = stack_dir.parts[-3].split(\"_\")[-3] # gross\n",
    "    # print(tile_id)\n",
    "    if tile_id not in keep_train:\n",
    "        continue\n",
    "    # print(stack_dir.parent.parent)\n",
    "    tile_dir = stack_dir.parent.parent\n",
    "    !cp -r $tile_dir $train_dataset_small_errors_only\n",
    "    # print(tile_id)"
   ]
  },
  {
   "cell_type": "code",
   "execution_count": 95,
   "id": "fe94cb52-c5ac-4f6f-944b-cb537539822c",
   "metadata": {},
   "outputs": [],
   "source": [
    "for stack_dir in list(val_path.glob(\"*/lower_easton3/files_to_zip\")):\n",
    "    tile_id = stack_dir.parts[-3].split(\"_\")[-3] # gross\n",
    "    if tile_id not in keep_val:\n",
    "        continue\n",
    "    tile_dir = stack_dir.parent.parent\n",
    "    !cp -r $tile_dir $val_dataset_small_errors_only"
   ]
  },
  {
   "cell_type": "code",
   "execution_count": null,
   "id": "a7de82a4-608d-4dcc-88a1-ee9dd2c7ca95",
   "metadata": {},
   "outputs": [],
   "source": []
  },
  {
   "cell_type": "markdown",
   "id": "8f21e999-20b9-4ffc-8486-6dcad7134b1d",
   "metadata": {},
   "source": [
    "# Compute stats for reduced training set"
   ]
  },
  {
   "cell_type": "code",
   "execution_count": 6,
   "id": "56550dc2-c321-4c11-b266-5fc88915c704",
   "metadata": {},
   "outputs": [
    {
     "name": "stdout",
     "output_type": "stream",
     "text": [
      "0...10...20...30...40...50...60...70...80...90...100 - done.\n",
      "0...10...20...30...40...50...60...70...80...90...100 - done.\n",
      "0...10...20...30...40...50...60...70...80...90...100 - done.\n",
      "0...10...20...30...40...50...60...70...80...90...100 - done.\n",
      "0...10...20...30...40...50...60...70...80...90...100 - done.\n"
     ]
    }
   ],
   "source": [
    "ddir = \"/mnt/1.0_TB_VOLUME/sethv/shashank_data/TRAIN_tile_stack_baker_small_errors_only/\"\n",
    "\n",
    "pattern_left=\"files_to_zip/1020010042D39D00.r100_ortho_1.0m_ba.tif\"\n",
    "mosaic_ortho_left = \"small_errors_only_mosaic_TRAIN_1020010042D39D00.r100_ortho_1.0m_ba.tif\"\n",
    "!gdal_merge.py -o $mosaic_ortho_left `find $ddir -path \"*$pattern_left\"`\n",
    "\n",
    "pattern_right=\"files_to_zip/1020010043455300.r100_ortho_1.0m_ba.tif\"\n",
    "mosaic_ortho_right = \"small_errors_only_mosaic_TRAIN_1020010043455300.r100_ortho_1.0m_ba.tif\"\n",
    "!gdal_merge.py -o $mosaic_ortho_right `find $ddir -path \"*$pattern_right\"`\n",
    "\n",
    "pattern_trierror=\"files_to_zip/WV01_20150911_1020010042D39D00_1020010043455300_aligned_crop_1.0m-IntersectionErr.tif\"\n",
    "mosaic_trierror = \"small_errors_only_mosaic_TRAIN_WV01_20150911_1020010042D39D00_1020010043455300_aligned_crop_1.0m-IntersectionErr.tif\"\n",
    "!gdal_merge.py -o $mosaic_trierror `find $ddir -path \"*$pattern_trierror\"`\n",
    "\n",
    "pattern_initial_dem=\"WV01_20150911_1020010042D39D00_1020010043455300_aligned_crop_1.0m-DEM_holes_filled.tif\"\n",
    "mosaic_initial_dem = f\"small_errors_only_mosaic_TRAIN_{pattern_initial_dem}\"\n",
    "!gdal_merge.py -o $mosaic_initial_dem `find $ddir -path \"*files_to_zip/$pattern_initial_dem\"`\n",
    "\n",
    "pattern_target=\"USGS_LPC_WA_MtBaker_2015_*_LAS_2017_32610_first_filt_v1.3_1.0m-DEM_holes_filled.tif\"\n",
    "mosaic_target = f\"small_errors_only_mosaic_TRAIN_{pattern_target}\"\n",
    "!gdal_merge.py -o $mosaic_target `find $ddir -path \"*files_to_zip/$pattern_target\"`"
   ]
  },
  {
   "cell_type": "code",
   "execution_count": 7,
   "id": "7a7dc154-4c46-4853-ad6c-c2b4e2f185a8",
   "metadata": {},
   "outputs": [
    {
     "name": "stdout",
     "output_type": "stream",
     "text": [
      "small_errors_only_mosaic_TRAIN_1020010042D39D00.r100_ortho_1.0m_ba.tif: mean=293.65, std=425.82\n",
      "small_errors_only_mosaic_TRAIN_1020010043455300.r100_ortho_1.0m_ba.tif: mean=262.90, std=409.16\n",
      "small_errors_only_mosaic_TRAIN_WV01_20150911_1020010042D39D00_1020010043455300_aligned_crop_1.0m-IntersectionErr.tif: mean=0.12, std=0.15\n",
      "small_errors_only_mosaic_TRAIN_WV01_20150911_1020010042D39D00_1020010043455300_aligned_crop_1.0m-DEM_holes_filled.tif: mean=1052.86, std=1017.68\n",
      "small_errors_only_mosaic_TRAIN_USGS_LPC_WA_MtBaker_2015_*_LAS_2017_32610_first_filt_v1.3_1.0m-DEM_holes_filled.tif: mean=1052.88, std=1017.68\n"
     ]
    }
   ],
   "source": [
    "for fn in [mosaic_ortho_left, mosaic_ortho_right, mosaic_trierror, mosaic_initial_dem, mosaic_target]:\n",
    "    m = rioxarray.open_rasterio(fn, masked=True)\n",
    "    print(f\"{fn}: mean={m.mean():.2f}, std={m.std():.2f}\")"
   ]
  },
  {
   "cell_type": "code",
   "execution_count": 8,
   "id": "2589ab92-c948-4ef7-81c6-5bb851620393",
   "metadata": {},
   "outputs": [],
   "source": [
    "diff = rioxarray.open_rasterio(mosaic_initial_dem, masked=True) - rioxarray.open_rasterio(mosaic_target, masked=True)\n"
   ]
  },
  {
   "cell_type": "code",
   "execution_count": 11,
   "id": "3ff6197c-694c-42f5-b2ba-2411528582a1",
   "metadata": {},
   "outputs": [
    {
     "data": {
      "text/plain": [
       "(<xarray.DataArray ()>\n",
       " array(0., dtype=float32)\n",
       " Coordinates:\n",
       "     spatial_ref  int64 0,\n",
       " <xarray.DataArray ()>\n",
       " array(1221.8447, dtype=float32)\n",
       " Coordinates:\n",
       "     spatial_ref  int64 0,\n",
       " <xarray.DataArray ()>\n",
       " array(0.6621257, dtype=float32)\n",
       " Coordinates:\n",
       "     spatial_ref  int64 0,\n",
       " <xarray.DataArray ()>\n",
       " array(0.05957031, dtype=float32)\n",
       " Coordinates:\n",
       "     spatial_ref  int64 0,\n",
       " <xarray.DataArray ()>\n",
       " array(19.610832, dtype=float32)\n",
       " Coordinates:\n",
       "     spatial_ref  int64 0)"
      ]
     },
     "execution_count": 11,
     "metadata": {},
     "output_type": "execute_result"
    }
   ],
   "source": [
    "ae = abs(diff)\n",
    "ae.min(), ae.max(), ae.mean(), ae.median(), (ae**2).mean()"
   ]
  },
  {
   "cell_type": "code",
   "execution_count": 123,
   "id": "99781c02-a715-41a3-9b56-eb86b80eff25",
   "metadata": {},
   "outputs": [
    {
     "name": "stdout",
     "output_type": "stream",
     "text": [
      "Value at 1th percentile 0.0\n",
      "Value at 5th percentile 0.0\n",
      "Value at 10th percentile 0.0\n",
      "Value at 25th percentile 0.0\n",
      "Value at 50th percentile 0.0595703125\n",
      "Value at 75th percentile 0.5478515625\n",
      "Value at 90th percentile 1.302734375\n",
      "Value at 95th percentile 2.6005859375\n",
      "Value at 99th percentile 8.9248046875\n",
      "Value at 99.9th percentile 24.3125\n",
      "Value at 99.99th percentile 171.1562507811468\n"
     ]
    }
   ],
   "source": [
    "for p in [1,5,10,25,50,75,90,95,99,99.9, 99.99]:\n",
    "    print(f\"Value at {p}th percentile {np.percentile(ae,p)}\")"
   ]
  },
  {
   "cell_type": "code",
   "execution_count": 116,
   "id": "4d61b84d-596c-4b2f-8204-df22429959a9",
   "metadata": {},
   "outputs": [
    {
     "data": {
      "text/plain": [
       "(array([5.5353389e+07, 3.2999050e+06, 3.2476030e+06, 3.1693920e+06,\n",
       "        3.0737870e+06, 3.0190880e+06, 2.8437660e+06, 2.7170650e+06,\n",
       "        2.5692100e+06, 2.4091140e+06, 2.2714570e+06, 2.0478310e+06,\n",
       "        1.8760840e+06, 1.7062960e+06, 1.5465060e+06, 1.4210330e+06,\n",
       "        1.2445360e+06, 1.1116650e+06, 9.9023800e+05, 8.8184700e+05,\n",
       "        7.9975200e+05, 6.9987100e+05, 6.2616600e+05, 5.6544600e+05,\n",
       "        5.1263400e+05, 4.7449400e+05, 4.2651200e+05, 3.9015500e+05,\n",
       "        3.5807600e+05, 3.3212800e+05, 3.1369600e+05, 2.8489100e+05,\n",
       "        2.6671900e+05, 2.4777500e+05, 2.3246200e+05, 2.2287400e+05,\n",
       "        2.0681800e+05, 1.9528800e+05, 1.8481600e+05, 1.7546200e+05,\n",
       "        1.6958500e+05, 1.5851800e+05, 1.5179000e+05, 1.4453300e+05,\n",
       "        1.3829900e+05, 1.3550700e+05, 1.2778900e+05, 1.2342400e+05,\n",
       "        1.1787400e+05, 1.1418800e+05, 1.1183300e+05, 1.0571400e+05,\n",
       "        1.0268000e+05, 9.9331000e+04, 9.5618000e+04, 9.4797000e+04,\n",
       "        8.9410000e+04, 8.7550000e+04, 8.4230000e+04, 8.1517000e+04,\n",
       "        8.0930000e+04, 7.6661000e+04, 7.4461000e+04, 7.2498000e+04,\n",
       "        7.0478000e+04, 6.9956000e+04, 6.6319000e+04, 6.4861000e+04,\n",
       "        6.3183000e+04, 6.2024000e+04, 6.1256000e+04, 5.8645000e+04,\n",
       "        5.6508000e+04, 5.5369000e+04, 5.4295000e+04, 5.3843000e+04,\n",
       "        5.1587000e+04, 5.0505000e+04, 4.8814000e+04, 4.7941000e+04,\n",
       "        4.7545000e+04, 4.5855000e+04, 4.4049000e+04, 4.3356000e+04,\n",
       "        4.2327000e+04, 4.2126000e+04, 4.0852000e+04, 3.9409000e+04,\n",
       "        3.8829000e+04, 3.8121000e+04, 3.7644000e+04, 3.6072000e+04,\n",
       "        3.5802000e+04, 3.4575000e+04, 3.3879000e+04, 3.3929000e+04,\n",
       "        3.2413000e+04, 3.2050000e+04, 3.1161000e+04, 3.1314000e+04]),\n",
       " array([0.        , 0.05      , 0.1       , 0.15000001, 0.2       ,\n",
       "        0.25      , 0.30000001, 0.34999999, 0.40000001, 0.44999999,\n",
       "        0.5       , 0.55000001, 0.60000002, 0.64999998, 0.69999999,\n",
       "        0.75      , 0.80000001, 0.85000002, 0.89999998, 0.94999999,\n",
       "        1.        , 1.04999995, 1.10000002, 1.14999998, 1.20000005,\n",
       "        1.25      , 1.29999995, 1.35000002, 1.39999998, 1.45000005,\n",
       "        1.5       , 1.54999995, 1.60000002, 1.64999998, 1.70000005,\n",
       "        1.75      , 1.79999995, 1.85000002, 1.89999998, 1.95000005,\n",
       "        2.        , 2.04999995, 2.0999999 , 2.1500001 , 2.20000005,\n",
       "        2.25      , 2.29999995, 2.3499999 , 2.4000001 , 2.45000005,\n",
       "        2.5       , 2.54999995, 2.5999999 , 2.6500001 , 2.70000005,\n",
       "        2.75      , 2.79999995, 2.8499999 , 2.9000001 , 2.95000005,\n",
       "        3.        , 3.04999995, 3.0999999 , 3.1500001 , 3.20000005,\n",
       "        3.25      , 3.29999995, 3.3499999 , 3.4000001 , 3.45000005,\n",
       "        3.5       , 3.54999995, 3.5999999 , 3.6500001 , 3.70000005,\n",
       "        3.75      , 3.79999995, 3.8499999 , 3.9000001 , 3.95000005,\n",
       "        4.        , 4.05000019, 4.0999999 , 4.1500001 , 4.19999981,\n",
       "        4.25      , 4.30000019, 4.3499999 , 4.4000001 , 4.44999981,\n",
       "        4.5       , 4.55000019, 4.5999999 , 4.6500001 , 4.69999981,\n",
       "        4.75      , 4.80000019, 4.8499999 , 4.9000001 , 4.94999981,\n",
       "        5.        ]),\n",
       " <BarContainer object of 100 artists>)"
      ]
     },
     "execution_count": 116,
     "metadata": {},
     "output_type": "execute_result"
    },
    {
     "data": {
      "image/png": "[encoded data removed]",
      "text/plain": [
       "<Figure size 640x480 with 1 Axes>"
      ]
     },
     "metadata": {},
     "output_type": "display_data"
    }
   ],
   "source": [
    "ae.plot.hist(bins=100, range=(0,5))"
   ]
  },
  {
   "cell_type": "code",
   "execution_count": null,
   "id": "a286e0d7-7814-4dfc-a5aa-ad40698d53cc",
   "metadata": {},
   "outputs": [],
   "source": []
  }
 ],
 "metadata": {
  "kernelspec": {
   "display_name": "Python 3 (ipykernel)",
   "language": "python",
   "name": "python3"
  },
  "language_info": {
   "codemirror_mode": {
    "name": "ipython",
    "version": 3
   },
   "file_extension": ".py",
   "mimetype": "text/x-python",
   "name": "python",
   "nbconvert_exporter": "python",
   "pygments_lexer": "ipython3",
   "version": "3.10.9"
  }
 },
 "nbformat": 4,
 "nbformat_minor": 5
}
