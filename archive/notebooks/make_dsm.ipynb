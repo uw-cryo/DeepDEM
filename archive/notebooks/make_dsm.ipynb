{
 "cells": [
  {
   "cell_type": "markdown",
   "id": "07055eee-1dab-46ac-a04d-721f2e9be4d3",
   "metadata": {},
   "source": [
    "# Create DSM with fewer holes from South Cascade 2019 (merged) lidar dataset\n",
    "* See section \"May 25 23 redo to reduce number of holes in SCG DSM\""
   ]
  },
  {
   "cell_type": "code",
   "execution_count": 3,
   "id": "6e308261-488a-4610-8202-789689cdf9a1",
   "metadata": {},
   "outputs": [],
   "source": [
    "laz_example_fn = \"/mnt/1.0_TB_VOLUME/sethv/resdepth_all/data/20190506_SOUTH_CASCADE_DATASET/tiles/649000_5351000.laz\"\n",
    "\n",
    "laz_merged_fn = \"/mnt/1.0_TB_VOLUME/sethv/resdepth_all/data/20190506_SOUTH_CASCADE_DATASET/merged_tiles.laz\"\n",
    "\n"
   ]
  },
  {
   "cell_type": "markdown",
   "id": "3e5b4a67-855c-4aa0-a11d-c22263131046",
   "metadata": {},
   "source": [
    "## deduplication"
   ]
  },
  {
   "cell_type": "code",
   "execution_count": 42,
   "id": "33f824c8-b0b8-462b-bb7e-55b24f0a51ba",
   "metadata": {},
   "outputs": [],
   "source": [
    "ulx, uly, lrx, lry = 638900, 5362900, 652400, 5349700\n",
    "\n",
    "# ulx, uly, lrx, lry = 638900, 5362900, 639100, 5362700\n",
    "\n",
    "pdal_bounds = f\"([{ulx}, {lrx}], [{lry}, {uly}])\""
   ]
  },
  {
   "cell_type": "code",
   "execution_count": 36,
   "id": "507f9c2e-cf1f-4690-a57a-135f8cd0f751",
   "metadata": {},
   "outputs": [],
   "source": [
    "laz_merged_deduplicated_fn = \"merged_tiles_deduplicated.laz\"\n",
    "!pdal translate -i \"$laz_merged_fn\" -o \"$laz_merged_deduplicated_fn\" -f filters.sample --filters.sample.radius=0.001"
   ]
  },
  {
   "cell_type": "code",
   "execution_count": 44,
   "id": "f624d2a0-f514-465e-b672-b17c19ccddbb",
   "metadata": {},
   "outputs": [
    {
     "name": "stdout",
     "output_type": "stream",
     "text": [
      "PDAL: writers.gdal: Grid width out of range.\n",
      "\n"
     ]
    }
   ],
   "source": [
    "dsm_merged_deduplicated_fn = \"scg_merged_deduplicated_all.tif\" #count_smalltest.tif\"\n",
    "\n",
    "# just \"count\" instead of \"all\"\n",
    "!pdal translate -i \"$laz_merged_deduplicated_fn\" -o \"$dsm_merged_deduplicated_fn\" \\\n",
    "-f filters.reprojection --filters.reprojection.out_srs=\"$proj\" \\\n",
    "-f filters.returns --filters.returns.groups=\"first,only\" \\\n",
    "-f filters.outlier \\\n",
    "-f filters.range --filters.range.limits=\"Classification![7:7]\" --writers.gdal.resolution=\"$res\" \\\n",
    "-f filters.crop --filters.crop.bounds=\"$pdal_bounds\" \\\n",
    "--writers.gdal.output_type=\"count\" --writers.gdal.data_type=\"float32\" \\\n",
    "--writers.gdal.gdalopts=\"COMPRESS=LZW,TILED=YES,BIGTIFF=IF_SAFER\" \n"
   ]
  },
  {
   "cell_type": "markdown",
   "id": "221350e8-12bc-4fec-9ef3-20c32f622314",
   "metadata": {},
   "source": [
    "## TODO try again with fixed round number bounds (matching point2dem) to get the pixels right?"
   ]
  },
  {
   "cell_type": "code",
   "execution_count": 2,
   "id": "310ec17b-d240-4f96-91f2-c2fec2a189be",
   "metadata": {
    "collapsed": true,
    "jupyter": {
     "outputs_hidden": true
    },
    "tags": []
   },
   "outputs": [
    {
     "name": "stdout",
     "output_type": "stream",
     "text": [
      "{\n",
      "  \"file_size\": 6306159,\n",
      "  \"filename\": \"/mnt/1.0_TB_VOLUME/sethv/resdepth_all/data/20190506_SOUTH_CASCADE_DATASET/tiles/649000_5351000.laz\",\n",
      "  \"now\": \"2023-01-31T20:57:43-0800\",\n",
      "  \"pdal_version\": \"2.4.3 (git-version: cd43bf)\",\n",
      "  \"reader\": \"readers.las\",\n",
      "  \"stats\":\n",
      "  {\n",
      "    \"bbox\":\n",
      "    {\n",
      "      \"EPSG:4326\":\n",
      "      {\n",
      "        \"bbox\":\n",
      "        {\n",
      "          \"maxx\": -120.9768877,\n",
      "          \"maxy\": 48.30387076,\n",
      "          \"maxz\": 2279.75,\n",
      "          \"minx\": -120.9914085,\n",
      "          \"miny\": 48.29418206,\n",
      "          \"minz\": 1455.84\n",
      "        },\n",
      "        \"boundary\": { \"type\": \"Polygon\", \"coordinates\": [ [ [ -120.991408533724581, 48.294430113676718, 1455.84 ], [ -120.991038005015341, 48.303870763963438, 1455.84 ], [ -120.976887680414578, 48.303622625644877, 2279.75 ], [ -120.977260814653263, 48.294182057114838, 2279.75 ], [ -120.991408533724581, 48.294430113676718, 1455.84 ] ] ] }\n",
      "      },\n",
      "      \"native\":\n",
      "      {\n",
      "        \"bbox\":\n",
      "        {\n",
      "          \"maxx\": 650024.99,\n",
      "          \"maxy\": 5352024.99,\n",
      "          \"maxz\": 2279.75,\n",
      "          \"minx\": 648975,\n",
      "          \"miny\": 5350975,\n",
      "          \"minz\": 1455.84\n",
      "        },\n",
      "        \"boundary\": { \"type\": \"Polygon\", \"coordinates\": [ [ [ 648975.0, 5350975.0, 1455.84 ], [ 648975.0, 5352024.990000000223517, 1455.84 ], [ 650024.99, 5352024.990000000223517, 2279.75 ], [ 650024.99, 5350975.0, 2279.75 ], [ 648975.0, 5350975.0, 1455.84 ] ] ] }\n",
      "      }\n",
      "    },\n",
      "    \"statistic\":\n",
      "    [\n",
      "      {\n",
      "        \"average\": 649461.6689,\n",
      "        \"count\": 1858551,\n",
      "        \"maximum\": 650024.99,\n",
      "        \"minimum\": 648975,\n",
      "        \"name\": \"X\",\n",
      "        \"position\": 0,\n",
      "        \"stddev\": 309.8113915,\n",
      "        \"variance\": 95983.09827\n",
      "      },\n",
      "      {\n",
      "        \"average\": 5351526.021,\n",
      "        \"count\": 1858551,\n",
      "        \"maximum\": 5352024.99,\n",
      "        \"minimum\": 5350975,\n",
      "        \"name\": \"Y\",\n",
      "        \"position\": 1,\n",
      "        \"stddev\": 302.605684,\n",
      "        \"variance\": 91570.19998\n",
      "      },\n",
      "      {\n",
      "        \"average\": 1939.746808,\n",
      "        \"count\": 1858551,\n",
      "        \"maximum\": 2279.75,\n",
      "        \"minimum\": 1455.84,\n",
      "        \"name\": \"Z\",\n",
      "        \"position\": 2,\n",
      "        \"stddev\": 164.8715358,\n",
      "        \"variance\": 27182.62332\n",
      "      },\n",
      "      {\n",
      "        \"average\": 34900.01112,\n",
      "        \"count\": 1858551,\n",
      "        \"maximum\": 45437,\n",
      "        \"minimum\": 21277,\n",
      "        \"name\": \"Intensity\",\n",
      "        \"position\": 3,\n",
      "        \"stddev\": 3570.518236,\n",
      "        \"variance\": 12748600.47\n",
      "      },\n",
      "      {\n",
      "        \"average\": 1.025393438,\n",
      "        \"count\": 1858551,\n",
      "        \"maximum\": 5,\n",
      "        \"minimum\": 1,\n",
      "        \"name\": \"ReturnNumber\",\n",
      "        \"position\": 4,\n",
      "        \"stddev\": 0.1724455283,\n",
      "        \"variance\": 0.02973746022\n",
      "      },\n",
      "      {\n",
      "        \"average\": 1.050796023,\n",
      "        \"count\": 1858551,\n",
      "        \"maximum\": 5,\n",
      "        \"minimum\": 1,\n",
      "        \"name\": \"NumberOfReturns\",\n",
      "        \"position\": 5,\n",
      "        \"stddev\": 0.2513652157,\n",
      "        \"variance\": 0.06318447167\n",
      "      },\n",
      "      {\n",
      "        \"average\": 0,\n",
      "        \"count\": 1858551,\n",
      "        \"maximum\": 0,\n",
      "        \"minimum\": 0,\n",
      "        \"name\": \"ScanDirectionFlag\",\n",
      "        \"position\": 6,\n",
      "        \"stddev\": 0,\n",
      "        \"variance\": 0\n",
      "      },\n",
      "      {\n",
      "        \"average\": 0,\n",
      "        \"count\": 1858551,\n",
      "        \"maximum\": 0,\n",
      "        \"minimum\": 0,\n",
      "        \"name\": \"EdgeOfFlightLine\",\n",
      "        \"position\": 7,\n",
      "        \"stddev\": 0,\n",
      "        \"variance\": 0\n",
      "      },\n",
      "      {\n",
      "        \"average\": 2.872169771,\n",
      "        \"count\": 1858551,\n",
      "        \"maximum\": 4,\n",
      "        \"minimum\": 2,\n",
      "        \"name\": \"Classification\",\n",
      "        \"position\": 8,\n",
      "        \"stddev\": 0.9917963308,\n",
      "        \"variance\": 0.9836599618\n",
      "      },\n",
      "      {\n",
      "        \"average\": -1.594314603,\n",
      "        \"count\": 1858551,\n",
      "        \"maximum\": 17,\n",
      "        \"minimum\": -30,\n",
      "        \"name\": \"ScanAngleRank\",\n",
      "        \"position\": 9,\n",
      "        \"stddev\": 9.869748032,\n",
      "        \"variance\": 97.41192622\n",
      "      },\n",
      "      {\n",
      "        \"average\": 0,\n",
      "        \"count\": 1858551,\n",
      "        \"maximum\": 0,\n",
      "        \"minimum\": 0,\n",
      "        \"name\": \"UserData\",\n",
      "        \"position\": 10,\n",
      "        \"stddev\": 0,\n",
      "        \"variance\": 0\n",
      "      },\n",
      "      {\n",
      "        \"average\": 0,\n",
      "        \"count\": 1858551,\n",
      "        \"maximum\": 0,\n",
      "        \"minimum\": 0,\n",
      "        \"name\": \"PointSourceId\",\n",
      "        \"position\": 11,\n",
      "        \"stddev\": 0,\n",
      "        \"variance\": 0\n",
      "      },\n",
      "      {\n",
      "        \"average\": 241186054.4,\n",
      "        \"count\": 1858551,\n",
      "        \"maximum\": 241186249.7,\n",
      "        \"minimum\": 241184807.3,\n",
      "        \"name\": \"GpsTime\",\n",
      "        \"position\": 12,\n",
      "        \"stddev\": 384.2518178,\n",
      "        \"variance\": 147649.4595\n",
      "      }\n",
      "    ]\n",
      "  }\n",
      "}\n"
     ]
    }
   ],
   "source": [
    "!pdal info $laz_example_fn"
   ]
  },
  {
   "cell_type": "code",
   "execution_count": 34,
   "id": "3454344f-5a22-456f-b233-20935404c63e",
   "metadata": {},
   "outputs": [
    {
     "data": {
      "text/plain": [
       "'/mnt/1.0_TB_VOLUME/sethv/resdepth_all/data/20190506_SOUTH_CASCADE_DATASET/tiles/649000_5351000.laz'"
      ]
     },
     "execution_count": 34,
     "metadata": {},
     "output_type": "execute_result"
    }
   ],
   "source": [
    "laz_example_fn"
   ]
  },
  {
   "cell_type": "code",
   "execution_count": 9,
   "id": "8fc93ffb-c99d-4311-8e1a-3cb97a9b5364",
   "metadata": {},
   "outputs": [],
   "source": [
    "laz_example_fn = \"/mnt/1.0_TB_VOLUME/sethv/resdepth_all/data/20190506_SOUTH_CASCADE_DATASET/tiles/649000_5351000.laz\"\n",
    "dsm_example_fn = \"scg_test_tile_dsm.tif\"\n",
    "\n",
    "res = 1.0\n",
    "proj = \"EPSG:32610\"\n",
    "\n",
    "# PDAL to create DSM at 1 meter posting in the selected CRS\n",
    "# outlier filter may or may not be needed\n",
    "# TODO check whether point cloud is classified re: noise points\n",
    "# TODO not specifying bounds means pixel centers are not round numbers\n",
    "# 6 bands of output (min max mean idw count stdev)\n",
    "!pdal translate -i \"$laz_example_fn\" -o \"$dsm_example_fn\" \\\n",
    "-f filters.reprojection --filters.reprojection.out_srs=\"$proj\" \\\n",
    "-f filters.returns --filters.returns.groups=\"first,only\" \\\n",
    "-f filters.outlier \\\n",
    "-f filters.range --filters.range.limits=\"Classification![7:7]\" --writers.gdal.resolution=\"$res\" \\\n",
    "--writers.gdal.output_type=\"all\" --writers.gdal.data_type=\"float32\" \\\n",
    "--writers.gdal.gdalopts=\"COMPRESS=LZW,TILED=YES,BIGTIFF=IF_SAFER\" \n",
    "\n"
   ]
  },
  {
   "cell_type": "code",
   "execution_count": 10,
   "id": "b9952ded-45b2-43b1-b70f-c56b166f30ae",
   "metadata": {},
   "outputs": [],
   "source": [
    "dsm_merged_fn = \"scg_merged_dsm.tif\"\n",
    "\n",
    "!pdal translate -i \"$laz_merged_fn\" -o \"$dsm_merged_fn\" \\\n",
    "-f filters.reprojection --filters.reprojection.out_srs=\"$proj\" \\\n",
    "-f filters.returns --filters.returns.groups=\"first,only\" \\\n",
    "-f filters.outlier \\\n",
    "-f filters.range --filters.range.limits=\"Classification![7:7]\" --writers.gdal.resolution=\"$res\" \\\n",
    "--writers.gdal.output_type=\"all\" --writers.gdal.data_type=\"float32\" \\\n",
    "--writers.gdal.gdalopts=\"COMPRESS=LZW,TILED=YES,BIGTIFF=IF_SAFER\" \n"
   ]
  },
  {
   "cell_type": "code",
   "execution_count": null,
   "id": "67a8146e-237d-45bb-b5d5-6f5b400d5a6f",
   "metadata": {},
   "outputs": [],
   "source": [
    "dsm_merged_point2dem_fn = \"scg_merged_dsm_point2dem.tif\""
   ]
  },
  {
   "cell_type": "code",
   "execution_count": 21,
   "id": "1bdebd58-49ed-4bac-bd2e-3616eedbb7cc",
   "metadata": {},
   "outputs": [
    {
     "name": "stdout",
     "output_type": "stream",
     "text": [
      "\t--> Setting number of processing threads to: 4\n",
      "Writing log info to: scg_merged_dsm_point2dem.tif-log-point2dem-01-31-2143-25591.txt\n",
      "Writing temporary file: scg_merged_dsm_point2dem.tif-tmp-merged_tiles.tif\n",
      "        --> [********************************************************] Complete!\n",
      "The point cloud files must have an equal number of channels which must be 4 or 6 to be able to remove outliers.\n",
      "Statistics: [********************************************************] Complete!\n",
      "QuadTree: [**********************************************************] Complete!\n",
      "\t-- Starting DEM rasterization --\n",
      "\t--> DEM spacing: 1 pt/px\n",
      "\t             or: 1 px/pt\n",
      "Creating output file that is Vector2(13468,13027) px.\n",
      "Writing: scg_merged_dsm_point2dem.tif-DEM.tif\n",
      "DEM: [***************************************************************] Complete!\n",
      "Percentage of valid pixels: 59.0621%\n"
     ]
    }
   ],
   "source": [
    "# !point2dem --tr \"$res\" --t_srs \"$proj\" $laz_merged_fn -o \"$dsm_merged_point2dem_fn\"\n",
    "\n",
    "# Just uses all the points from the lidar without any filtering by classification or outlier removal\n",
    "!point2dem --tr 1.0 --t_srs EPSG:32610 merged_tiles.laz -o scg_merged_dsm_point2dem.tif"
   ]
  },
  {
   "cell_type": "code",
   "execution_count": 22,
   "id": "6afc8167-292a-47ab-9c56-8b45543a87fe",
   "metadata": {},
   "outputs": [
    {
     "name": "stdout",
     "output_type": "stream",
     "text": [
      "Driver: GTiff/GeoTIFF\n",
      "Files: scg_merged_dsm_point2dem.tif-DEM.tif\n",
      "Size is 13468, 13027\n",
      "Coordinate System is:\n",
      "PROJCRS[\"WGS 84 / UTM zone 10N\",\n",
      "    BASEGEOGCRS[\"WGS 84\",\n",
      "        DATUM[\"World Geodetic System 1984\",\n",
      "            ELLIPSOID[\"WGS 84\",6378137,298.257223563,\n",
      "                LENGTHUNIT[\"metre\",1]]],\n",
      "        PRIMEM[\"Greenwich\",0,\n",
      "            ANGLEUNIT[\"degree\",0.0174532925199433]],\n",
      "        ID[\"EPSG\",4326]],\n",
      "    CONVERSION[\"UTM zone 10N\",\n",
      "        METHOD[\"Transverse Mercator\",\n",
      "            ID[\"EPSG\",9807]],\n",
      "        PARAMETER[\"Latitude of natural origin\",0,\n",
      "            ANGLEUNIT[\"degree\",0.0174532925199433],\n",
      "            ID[\"EPSG\",8801]],\n",
      "        PARAMETER[\"Longitude of natural origin\",-123,\n",
      "            ANGLEUNIT[\"degree\",0.0174532925199433],\n",
      "            ID[\"EPSG\",8802]],\n",
      "        PARAMETER[\"Scale factor at natural origin\",0.9996,\n",
      "            SCALEUNIT[\"unity\",1],\n",
      "            ID[\"EPSG\",8805]],\n",
      "        PARAMETER[\"False easting\",500000,\n",
      "            LENGTHUNIT[\"metre\",1],\n",
      "            ID[\"EPSG\",8806]],\n",
      "        PARAMETER[\"False northing\",0,\n",
      "            LENGTHUNIT[\"metre\",1],\n",
      "            ID[\"EPSG\",8807]]],\n",
      "    CS[Cartesian,2],\n",
      "        AXIS[\"(E)\",east,\n",
      "            ORDER[1],\n",
      "            LENGTHUNIT[\"metre\",1]],\n",
      "        AXIS[\"(N)\",north,\n",
      "            ORDER[2],\n",
      "            LENGTHUNIT[\"metre\",1]],\n",
      "    USAGE[\n",
      "        SCOPE[\"Engineering survey, topographic mapping.\"],\n",
      "        AREA[\"Between 126°W and 120°W, northern hemisphere between equator and 84°N, onshore and offshore. Canada - British Columbia (BC); Northwest Territories (NWT); Nunavut; Yukon. United States (USA) - Alaska (AK).\"],\n",
      "        BBOX[0,-126,84,-120]],\n",
      "    ID[\"EPSG\",32610]]\n",
      "Data axis to CRS axis mapping: 1,2\n",
      "Origin = (638906.500000000000000,5362812.500000000000000)\n",
      "Pixel Size = (1.000000000000000,-1.000000000000000)\n",
      "Metadata:\n",
      "  AREA_OR_POINT=Area\n",
      "Image Structure Metadata:\n",
      "  COMPRESSION=LZW\n",
      "  INTERLEAVE=BAND\n",
      "  PREDICTOR=3\n",
      "Corner Coordinates:\n",
      "Upper Left  (  638906.500, 5362812.500) (121d 7'23.38\"W, 48d24'11.36\"N)\n",
      "Lower Left  (  638906.500, 5349785.500) (121d 7'38.85\"W, 48d17' 9.67\"N)\n",
      "Upper Right (  652374.500, 5362812.500) (120d56'28.70\"W, 48d24' 0.16\"N)\n",
      "Lower Right (  652374.500, 5349785.500) (120d56'45.67\"W, 48d16'58.51\"N)\n",
      "Center      (  645640.500, 5356299.000) (121d 2' 4.15\"W, 48d20'35.05\"N)\n",
      "Band 1 Block=256x256 Type=Float32, ColorInterp=Gray\n",
      "  NoData Value=-3.4028235e+38\n"
     ]
    }
   ],
   "source": [
    "!gdalinfo scg_merged_dsm_point2dem.tif-DEM.tif"
   ]
  },
  {
   "cell_type": "code",
   "execution_count": 23,
   "id": "529d4432-d486-4e8a-a29d-707569e66f4b",
   "metadata": {},
   "outputs": [
    {
     "name": "stdout",
     "output_type": "stream",
     "text": [
      "Driver: GTiff/GeoTIFF\n",
      "Files: scg_merged_dsm.tif\n",
      "Size is 13099, 12996\n",
      "Coordinate System is:\n",
      "PROJCRS[\"WGS 84 / UTM zone 10N\",\n",
      "    BASEGEOGCRS[\"WGS 84\",\n",
      "        DATUM[\"World Geodetic System 1984\",\n",
      "            ELLIPSOID[\"WGS 84\",6378137,298.257223563,\n",
      "                LENGTHUNIT[\"metre\",1]]],\n",
      "        PRIMEM[\"Greenwich\",0,\n",
      "            ANGLEUNIT[\"degree\",0.0174532925199433]],\n",
      "        ID[\"EPSG\",4326]],\n",
      "    CONVERSION[\"UTM zone 10N\",\n",
      "        METHOD[\"Transverse Mercator\",\n",
      "            ID[\"EPSG\",9807]],\n",
      "        PARAMETER[\"Latitude of natural origin\",0,\n",
      "            ANGLEUNIT[\"degree\",0.0174532925199433],\n",
      "            ID[\"EPSG\",8801]],\n",
      "        PARAMETER[\"Longitude of natural origin\",-123,\n",
      "            ANGLEUNIT[\"degree\",0.0174532925199433],\n",
      "            ID[\"EPSG\",8802]],\n",
      "        PARAMETER[\"Scale factor at natural origin\",0.9996,\n",
      "            SCALEUNIT[\"unity\",1],\n",
      "            ID[\"EPSG\",8805]],\n",
      "        PARAMETER[\"False easting\",500000,\n",
      "            LENGTHUNIT[\"metre\",1],\n",
      "            ID[\"EPSG\",8806]],\n",
      "        PARAMETER[\"False northing\",0,\n",
      "            LENGTHUNIT[\"metre\",1],\n",
      "            ID[\"EPSG\",8807]]],\n",
      "    CS[Cartesian,2],\n",
      "        AXIS[\"(E)\",east,\n",
      "            ORDER[1],\n",
      "            LENGTHUNIT[\"metre\",1]],\n",
      "        AXIS[\"(N)\",north,\n",
      "            ORDER[2],\n",
      "            LENGTHUNIT[\"metre\",1]],\n",
      "    USAGE[\n",
      "        SCOPE[\"Engineering survey, topographic mapping.\"],\n",
      "        AREA[\"Between 126°W and 120°W, northern hemisphere between equator and 84°N, onshore and offshore. Canada - British Columbia (BC); Northwest Territories (NWT); Nunavut; Yukon. United States (USA) - Alaska (AK).\"],\n",
      "        BBOX[0,-126,84,-120]],\n",
      "    ID[\"EPSG\",32610]]\n",
      "Data axis to CRS axis mapping: 1,2\n",
      "Origin = (638927.627265257528052,5362804.572567071765661)\n",
      "Pixel Size = (1.000000000000000,-1.000000000000000)\n",
      "Metadata:\n",
      "  AREA_OR_POINT=Area\n",
      "Image Structure Metadata:\n",
      "  COMPRESSION=LZW\n",
      "  INTERLEAVE=BAND\n",
      "Corner Coordinates:\n",
      "Upper Left  (  638927.627, 5362804.573) (121d 7'22.36\"W, 48d24'11.09\"N)\n",
      "Lower Left  (  638927.627, 5349808.573) (121d 7'37.80\"W, 48d17'10.40\"N)\n",
      "Upper Right (  652026.627, 5362804.573) (120d56'45.62\"W, 48d24' 0.20\"N)\n",
      "Lower Right (  652026.627, 5349808.573) (120d57' 2.51\"W, 48d16'59.56\"N)\n",
      "Center      (  645477.127, 5356306.573) (121d 2'12.07\"W, 48d20'35.43\"N)\n",
      "Band 1 Block=256x256 Type=Float32, ColorInterp=Gray\n",
      "  Description = min\n",
      "  NoData Value=-9999\n",
      "Band 2 Block=256x256 Type=Float32, ColorInterp=Undefined\n",
      "  Description = max\n",
      "  NoData Value=-9999\n",
      "Band 3 Block=256x256 Type=Float32, ColorInterp=Undefined\n",
      "  Description = mean\n",
      "  NoData Value=-9999\n",
      "Band 4 Block=256x256 Type=Float32, ColorInterp=Undefined\n",
      "  Description = idw\n",
      "  NoData Value=-9999\n",
      "Band 5 Block=256x256 Type=Float32, ColorInterp=Undefined\n",
      "  Description = count\n",
      "  NoData Value=-9999\n",
      "Band 6 Block=256x256 Type=Float32, ColorInterp=Undefined\n",
      "  Description = stdev\n",
      "  NoData Value=-9999\n"
     ]
    }
   ],
   "source": [
    "!gdalinfo scg_merged_dsm.tif"
   ]
  },
  {
   "cell_type": "code",
   "execution_count": null,
   "id": "3fe02e20-9e74-40a0-a4c9-abe120abe85e",
   "metadata": {},
   "outputs": [],
   "source": [
    "dem_align.py"
   ]
  },
  {
   "cell_type": "code",
   "execution_count": null,
   "id": "48dfd503-6328-410d-9659-aca82ca36ce4",
   "metadata": {},
   "outputs": [],
   "source": [
    "## crop to area around  643285.923,5355177.729\n",
    "- would be v interesting but unlikely that orthoimage shows any useful texture here to see crown\n",
    "- max. 1 meter crown based on 1 meter ish between pixels, \n",
    "- roughly 10 pts / m^2 means 0.5 meter grid should have points in each cell\n",
    "- how to find the laz file that ocntains this area better to just pdal crop"
   ]
  },
  {
   "cell_type": "code",
   "execution_count": 33,
   "id": "87822504-8d72-49a8-aaff-2bc0fa99cde8",
   "metadata": {},
   "outputs": [],
   "source": [
    "\n",
    "!pdal translate -i \"$laz_merged_fn\" -o cropped_to_avalanches.laz \\\n",
    "-f filters.crop --filters.crop.distance 2000 --filters.crop.point \"POINT(643940 5354860 1600)\""
   ]
  },
  {
   "cell_type": "markdown",
   "id": "ed3ef68a-2028-48a0-bdc9-7f227ca6fd27",
   "metadata": {},
   "source": [
    "## May 25 23 redo to reduce number of holes in SCG DSM\n"
   ]
  },
  {
   "cell_type": "code",
   "execution_count": null,
   "id": "89522e9e-7866-4d1b-835d-a8d18393c9cd",
   "metadata": {},
   "outputs": [],
   "source": [
    "!pdal translate -i \"$laz_merged_deduplicated_fn\" -o \"$dsm_merged_deduplicated_fn\" \\\n",
    "-f filters.reprojection --filters.reprojection.out_srs=\"$proj\" \\\n",
    "-f filters.returns --filters.returns.groups=\"first,only\" \\\n",
    "-f filters.outlier \\\n",
    "-f filters.range --filters.range.limits=\"Classification![7:7]\" --writers.gdal.resolution=\"$res\" \\\n",
    "-f filters.crop --filters.crop.bounds=\"$pdal_bounds\" \\\n",
    "--writers.gdal.output_type=\"count\" --writers.gdal.data_type=\"float32\" \\\n",
    "--writers.gdal.gdalopts=\"COMPRESS=LZW,TILED=YES,BIGTIFF=IF_SAFER\" "
   ]
  },
  {
   "cell_type": "code",
   "execution_count": 1,
   "id": "4214f9ca-4024-4c8a-8a78-4e897d3de644",
   "metadata": {},
   "outputs": [],
   "source": [
    "laz_merged_deduplicated_fn = \"merged_tiles_deduplicated.laz\"\n",
    "laz_without_outliers_and_noise_fn = \"scg_merged_deduplicated_filtered.laz\"\n",
    "\n",
    "# Filter out noise and outliers to get the desired points for point2dem to make DSM\n",
    "# we don't use pdal to make DSMs because we want to give identical bounds\n",
    "# to make stereo DSM and lidar DSM match with pixel centers, etc.\n",
    "!pdal translate -i \"$laz_merged_deduplicated_fn\" -o \"$laz_without_outliers_and_noise_fn\" \\\n",
    "-f filters.returns --filters.returns.groups=\"first,only\" \\\n",
    "-f filters.outlier \\\n",
    "-f filters.range --filters.range.limits=\"Classification![7:7]\""
   ]
  },
  {
   "cell_type": "code",
   "execution_count": 2,
   "id": "8815f7a8-2e64-4bb4-86a4-61e032cc1d96",
   "metadata": {},
   "outputs": [
    {
     "name": "stdout",
     "output_type": "stream",
     "text": [
      "\t--> Setting number of processing threads to: 4\n",
      "Cropping to (Origin: (639750, 5.35075e+06) width: 9000 height: 9000) pt. \n",
      "Writing log info to: filtered_scg_merged_lidar_dsm_1.0m-log-point2dem-05-25-1526-13475.txt\n",
      "Writing temporary file: filtered_scg_merged_lidar_dsm_1.0m-tmp-scg_merged_deduplicated_filtered.tif\n",
      "        --> [********************************************************] Complete!\n",
      "The point cloud files must have an equal number of channels which must be 4 or 6 to be able to remove outliers.\n",
      "Statistics: [********************************************************] Complete!\n",
      "QuadTree: [**********************************************************] Complete!\n",
      "\t-- Starting DEM rasterization --\n",
      "\t--> DEM spacing: 1 pt/px\n",
      "\t             or: 1 px/pt\n",
      "Creating output file that is Vector2(9001,9001) px.\n",
      "Writing: filtered_scg_merged_lidar_dsm_1.0m-DEM.tif\n",
      "DEM: [**..................................................................] 4%Warning: Cache size (1056 MB) is larger than the requested maximum cache size (1024 MB). Consider increasing --cache-size-mb for this program.\n",
      "DEM: [*************.......................................................] 20%Warning: Cache size (1632 MB) is larger than the requested maximum cache size (1024 MB). Consider increasing --cache-size-mb for this program.\n",
      "DEM: [*******************.................................................] 29%Warning: Cache size (2496 MB) is larger than the requested maximum cache size (1024 MB). Consider increasing --cache-size-mb for this program.\n",
      "DEM: [*******************************************.........................] 64%Warning: Cache size (3840 MB) is larger than the requested maximum cache size (1024 MB). Consider increasing --cache-size-mb for this program.\n",
      "DEM: [***************************************************************] Complete!\n",
      "Percentage of valid pixels: 91.3606%\n"
     ]
    }
   ],
   "source": [
    "ulx=639750\n",
    "uly=5359750\n",
    "lrx=648750\n",
    "lry=5350750\n",
    "\n",
    "projwin_mediumsize=f\"{ulx} {uly} {lrx} {lry}\"\n",
    "\n",
    "output_res = 1.0\n",
    "proj = \"EPSG:32610\"\n",
    "lidar_dem_prefix = f\"filtered_scg_merged_lidar_dsm_{output_res}m\"\n",
    "\n",
    "!point2dem --tr $output_res --t_srs \"$proj\" \\\n",
    "    --t_projwin $projwin_mediumsize \\\n",
    "    --search-radius-factor 2 \\\n",
    "    $laz_without_outliers_and_noise_fn -o $lidar_dem_prefix"
   ]
  }
 ],
 "metadata": {
  "kernelspec": {
   "display_name": "Python 3 (ipykernel)",
   "language": "python",
   "name": "python3"
  },
  "language_info": {
   "codemirror_mode": {
    "name": "ipython",
    "version": 3
   },
   "file_extension": ".py",
   "mimetype": "text/x-python",
   "name": "python",
   "nbconvert_exporter": "python",
   "pygments_lexer": "ipython3",
   "version": "3.10.9"
  }
 },
 "nbformat": 4,
 "nbformat_minor": 5
}
