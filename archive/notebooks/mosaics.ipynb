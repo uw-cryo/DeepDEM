{
 "cells": [
  {
   "cell_type": "markdown",
   "id": "72110fac-e4cb-4142-aacd-b955b70ad8a2",
   "metadata": {},
   "source": [
    "# Mosaic the individual 1km^2 tiles into a single stack of large rasters for inference and analysis\n",
    "* Main thing to watch: correctly interpolating gaps at tile edges without wiping out useful nodata mask\n",
    "* This will be unnecessary when orthoimages correctly projected onto ASP DEM (making a full stack without referring to tiles)"
   ]
  },
  {
   "cell_type": "code",
   "execution_count": 12,
   "id": "a592c506-e5db-4147-83cb-d3a2a03a14ed",
   "metadata": {},
   "outputs": [],
   "source": [
    "import rioxarray\n",
    "import rasterio.fill"
   ]
  },
  {
   "cell_type": "code",
   "execution_count": 3,
   "id": "5fd7de6e-234a-4df6-95f3-9600704c37d2",
   "metadata": {},
   "outputs": [
    {
     "data": {
      "text/plain": [
       "'/mnt/1.0_TB_VOLUME/sethv/resdepth_all/deep-elevation-refinement/ResDepth/torchgeo_experiments'"
      ]
     },
     "execution_count": 3,
     "metadata": {},
     "output_type": "execute_result"
    }
   ],
   "source": [
    "%pwd"
   ]
  },
  {
   "cell_type": "code",
   "execution_count": 4,
   "id": "28b9c1dc-686b-45e3-b0fd-cf6362d9ebb2",
   "metadata": {},
   "outputs": [],
   "source": [
    "!mkdir -p mosaic"
   ]
  },
  {
   "cell_type": "code",
   "execution_count": 5,
   "id": "4f94e8d2-8594-405d-9c33-d0ee6d5d00d9",
   "metadata": {},
   "outputs": [
    {
     "name": "stdout",
     "output_type": "stream",
     "text": [
      "/mnt/1.0_TB_VOLUME/sethv/resdepth_all/deep-elevation-refinement/ResDepth/torchgeo_experiments/mosaic\n"
     ]
    }
   ],
   "source": [
    "%cd mosaic"
   ]
  },
  {
   "cell_type": "code",
   "execution_count": 6,
   "id": "dc786637-2f5f-4af6-b5b1-810a747d3099",
   "metadata": {},
   "outputs": [],
   "source": [
    "NODATA_VALUE_FOR_EDGES = -88888888\n"
   ]
  },
  {
   "cell_type": "code",
   "execution_count": 39,
   "id": "1e3f4b82-11d2-4cf1-a0b7-5a37c1b497c6",
   "metadata": {
    "tags": []
   },
   "outputs": [
    {
     "name": "stdout",
     "output_type": "stream",
     "text": [
      "128\n",
      "0...10...20...30...40...50...60...70...80...90...100 - done.\n",
      "Input file size is 7999, 15999\n",
      "Warning 1: Computed -srcwin 0 -1 8000 16000 falls partially outside raster extent. Going on however.\n",
      "0...10...20...30...40...50...60...70...80...90...100 - done.\n",
      "128\n",
      "0...10...20...30...40...50...60...70...80...90...100 - done.\n",
      "Input file size is 7999, 15999\n",
      "Warning 1: Computed -srcwin 0 -1 8000 16000 falls partially outside raster extent. Going on however.\n",
      "0...10...20...30...40...50...60...70...80...90...100 - done.\n",
      "128\n",
      "0...10...20...30...40...50...60...70...80...90...100 - done.\n",
      "128\n",
      "0...10...20...30...40...50...60...70...80...90...100 - done.\n",
      "128\n",
      "0...10...20...30...40...50...60...70...80...90...100 - done.\n",
      "128\n",
      "0...10...20...30...40...50...60...70...80...90...100 - done.\n"
     ]
    }
   ],
   "source": [
    "ddir=\"/mnt/1.0_TB_VOLUME/sethv/shashank_data/TRAIN_tile_stack_baker_128_global_coreg /mnt/1.0_TB_VOLUME/sethv/shashank_data/VALIDATION_tile_stack_baker_128_global_coreg/\"\n",
    "patterns = {\n",
    "    \"nadir_ortho\": \"1020010042D39D00.r100_ortho_1.0m_ba.tif\",\n",
    "    \"offnadir_ortho\": \"1020010043455300.r100_ortho_1.0m_ba.tif\",\n",
    "    \"initial_dem_root\": \"WV01_20150911_1020010042D39D00_1020010043455300_aligned_crop_1.0m-DEM_holes_filled.tif\",\n",
    "    \"initial_dem_unfilled_root\": \"WV01_20150911_1020010042D39D00_1020010043455300_aligned_crop_1.0m-DEM.tif\",\n",
    "    \"target_root\": \"USGS_LPC_WA_MtBaker_2015_*_LAS_2017_32610_first_filt_v1.3_1.0m-DEM_holes_filled.tif\",\n",
    "    \"triangulation_error_root\": \"WV01_20150911_1020010042D39D00_1020010043455300_aligned_crop_1.0m-IntersectionErr.tif\"\n",
    "}\n",
    "\n",
    "for name, pattern in patterns.items():\n",
    "    !find $ddir -path \"*files_to_zip/$pattern\" | wc -l #> nadir_orthos_128.txt\n",
    "    # want to find the seams and interpolate those, temporary fix until lidar + stereo stack is aligned properly\n",
    "    # -ul_lr 582000 5411000 591000 5395000 -tap did not work for getting orthoimage missing pixel fixed\n",
    "    out_fn = f\"mosaic_full128_{pattern}\"\n",
    "    !gdal_merge.py -o \"$out_fn\" -init -88888888  `find $ddir -path \"*files_to_zip/$pattern\"`\n",
    "    if \"ortho\" in name: # fix the missing pixel (Baker specific one-off bug)\n",
    "        fixed_fn = f\"fixed_{out_fn}\"\n",
    "        !gdal_translate -projwin 583000 5411000 591000 5395000 \"$out_fn\" \"$fixed_fn\"\n",
    "        !mv $fixed_fn $out_fn\n",
    "    \n",
    "# gdal_merge.py -o mosaic_full128_$pattern_nadir_ortho `\n",
    "# !find $ddir -path \"*files_to_zip/$pattern_nadir_ortho\" > nadir_orthos_128.txt"
   ]
  },
  {
   "cell_type": "code",
   "execution_count": null,
   "id": "4a1bd453-c664-43a5-b796-032c5020611a",
   "metadata": {},
   "outputs": [],
   "source": [
    "!gdal_translate "
   ]
  },
  {
   "cell_type": "code",
   "execution_count": 16,
   "id": "f81861fd-66dc-4f9d-80ee-ca07f452069c",
   "metadata": {},
   "outputs": [
    {
     "name": "stdout",
     "output_type": "stream",
     "text": [
      "/mnt/1.0_TB_VOLUME/sethv/resdepth_all/deep-elevation-refinement/ResDepth/torchgeo_experiments/mosaic\n"
     ]
    }
   ],
   "source": [
    "!pwd"
   ]
  },
  {
   "cell_type": "code",
   "execution_count": 38,
   "id": "e1d67c5f-f35f-4165-8b6c-148d0e9ab526",
   "metadata": {},
   "outputs": [
    {
     "name": "stdout",
     "output_type": "stream",
     "text": [
      "Driver: GTiff/GeoTIFF\n",
      "Files: fixed_mosaic_full128_1020010042D39D00.r100_ortho_1.0m_ba.tif\n",
      "Size is 9000, 16000\n",
      "Coordinate System is:\n",
      "PROJCRS[\"WGS 84 / UTM zone 10N\",\n",
      "    BASEGEOGCRS[\"WGS 84\",\n",
      "        DATUM[\"World Geodetic System 1984\",\n",
      "            ELLIPSOID[\"WGS 84\",6378137,298.257223563,\n",
      "                LENGTHUNIT[\"metre\",1]]],\n",
      "        PRIMEM[\"Greenwich\",0,\n",
      "            ANGLEUNIT[\"degree\",0.0174532925199433]],\n",
      "        ID[\"EPSG\",4326]],\n",
      "    CONVERSION[\"UTM zone 10N\",\n",
      "        METHOD[\"Transverse Mercator\",\n",
      "            ID[\"EPSG\",9807]],\n",
      "        PARAMETER[\"Latitude of natural origin\",0,\n",
      "            ANGLEUNIT[\"degree\",0.0174532925199433],\n",
      "            ID[\"EPSG\",8801]],\n",
      "        PARAMETER[\"Longitude of natural origin\",-123,\n",
      "            ANGLEUNIT[\"degree\",0.0174532925199433],\n",
      "            ID[\"EPSG\",8802]],\n",
      "        PARAMETER[\"Scale factor at natural origin\",0.9996,\n",
      "            SCALEUNIT[\"unity\",1],\n",
      "            ID[\"EPSG\",8805]],\n",
      "        PARAMETER[\"False easting\",500000,\n",
      "            LENGTHUNIT[\"metre\",1],\n",
      "            ID[\"EPSG\",8806]],\n",
      "        PARAMETER[\"False northing\",0,\n",
      "            LENGTHUNIT[\"metre\",1],\n",
      "            ID[\"EPSG\",8807]]],\n",
      "    CS[Cartesian,2],\n",
      "        AXIS[\"(E)\",east,\n",
      "            ORDER[1],\n",
      "            LENGTHUNIT[\"metre\",1]],\n",
      "        AXIS[\"(N)\",north,\n",
      "            ORDER[2],\n",
      "            LENGTHUNIT[\"metre\",1]],\n",
      "    USAGE[\n",
      "        SCOPE[\"Engineering survey, topographic mapping.\"],\n",
      "        AREA[\"Between 126°W and 120°W, northern hemisphere between equator and 84°N, onshore and offshore. Canada - British Columbia (BC); Northwest Territories (NWT); Nunavut; Yukon. United States (USA) - Alaska (AK).\"],\n",
      "        BBOX[0,-126,84,-120]],\n",
      "    ID[\"EPSG\",32610]]\n",
      "Data axis to CRS axis mapping: 1,2\n",
      "Origin = (581999.500000000000000,5411000.500000000000000)\n",
      "Pixel Size = (1.000000000000000,-1.000000000000000)\n",
      "Metadata:\n",
      "  AREA_OR_POINT=Area\n",
      "Image Structure Metadata:\n",
      "  INTERLEAVE=BAND\n",
      "Corner Coordinates:\n",
      "Upper Left  (  581999.500, 5411000.500) (121d52'56.38\"W, 48d50'47.60\"N)\n",
      "Lower Left  (  581999.500, 5395000.500) (121d53' 7.87\"W, 48d42' 9.53\"N)\n",
      "Upper Right (  590999.500, 5411000.500) (121d45'34.86\"W, 48d50'43.08\"N)\n",
      "Lower Right (  590999.500, 5395000.500) (121d45'47.61\"W, 48d42' 5.04\"N)\n",
      "Center      (  586499.500, 5403000.500) (121d49'21.69\"W, 48d46'26.37\"N)\n",
      "Band 1 Block=9000x1 Type=UInt16, ColorInterp=Gray\n"
     ]
    }
   ],
   "source": [
    "!gdalinfo fixed_mosaic_full128_1020010042D39D00.r100_ortho_1.0m_ba.tif"
   ]
  },
  {
   "cell_type": "code",
   "execution_count": 42,
   "id": "ca6d182e-f278-4abf-9ff3-083e78bb2911",
   "metadata": {},
   "outputs": [
    {
     "name": "stdout",
     "output_type": "stream",
     "text": [
      "Driver: GTiff/GeoTIFF\n",
      "Files: files_to_zip/1020010042D39D00.r100_ortho_1.0m_ba.tif\n",
      "Size is 8000, 16000\n",
      "Coordinate System is:\n",
      "PROJCRS[\"WGS 84 / UTM zone 10N\",\n",
      "    BASEGEOGCRS[\"WGS 84\",\n",
      "        DATUM[\"World Geodetic System 1984\",\n",
      "            ELLIPSOID[\"WGS 84\",6378137,298.257223563,\n",
      "                LENGTHUNIT[\"metre\",1]]],\n",
      "        PRIMEM[\"Greenwich\",0,\n",
      "            ANGLEUNIT[\"degree\",0.0174532925199433]],\n",
      "        ID[\"EPSG\",4326]],\n",
      "    CONVERSION[\"UTM zone 10N\",\n",
      "        METHOD[\"Transverse Mercator\",\n",
      "            ID[\"EPSG\",9807]],\n",
      "        PARAMETER[\"Latitude of natural origin\",0,\n",
      "            ANGLEUNIT[\"degree\",0.0174532925199433],\n",
      "            ID[\"EPSG\",8801]],\n",
      "        PARAMETER[\"Longitude of natural origin\",-123,\n",
      "            ANGLEUNIT[\"degree\",0.0174532925199433],\n",
      "            ID[\"EPSG\",8802]],\n",
      "        PARAMETER[\"Scale factor at natural origin\",0.9996,\n",
      "            SCALEUNIT[\"unity\",1],\n",
      "            ID[\"EPSG\",8805]],\n",
      "        PARAMETER[\"False easting\",500000,\n",
      "            LENGTHUNIT[\"metre\",1],\n",
      "            ID[\"EPSG\",8806]],\n",
      "        PARAMETER[\"False northing\",0,\n",
      "            LENGTHUNIT[\"metre\",1],\n",
      "            ID[\"EPSG\",8807]]],\n",
      "    CS[Cartesian,2],\n",
      "        AXIS[\"(E)\",east,\n",
      "            ORDER[1],\n",
      "            LENGTHUNIT[\"metre\",1]],\n",
      "        AXIS[\"(N)\",north,\n",
      "            ORDER[2],\n",
      "            LENGTHUNIT[\"metre\",1]],\n",
      "    USAGE[\n",
      "        SCOPE[\"Engineering survey, topographic mapping.\"],\n",
      "        AREA[\"Between 126°W and 120°W, northern hemisphere between equator and 84°N, onshore and offshore. Canada - British Columbia (BC); Northwest Territories (NWT); Nunavut; Yukon. United States (USA) - Alaska (AK).\"],\n",
      "        BBOX[0,-126,84,-120]],\n",
      "    ID[\"EPSG\",32610]]\n",
      "Data axis to CRS axis mapping: 1,2\n",
      "Origin = (582999.500000000000000,5411000.500000000000000)\n",
      "Pixel Size = (1.000000000000000,-1.000000000000000)\n",
      "Metadata:\n",
      "  AREA_OR_POINT=Area\n",
      "Image Structure Metadata:\n",
      "  INTERLEAVE=BAND\n",
      "Corner Coordinates:\n",
      "Upper Left  (  582999.500, 5411000.500) (121d52' 7.32\"W, 48d50'47.12\"N)\n",
      "Lower Left  (  582999.500, 5395000.500) (121d52'18.95\"W, 48d42' 9.05\"N)\n",
      "Upper Right (  590999.500, 5411000.500) (121d45'34.86\"W, 48d50'43.08\"N)\n",
      "Lower Right (  590999.500, 5395000.500) (121d45'47.61\"W, 48d42' 5.04\"N)\n",
      "Center      (  586999.500, 5403000.500) (121d48'57.19\"W, 48d46'26.12\"N)\n",
      "Band 1 Block=8000x1 Type=UInt16, ColorInterp=Gray\n"
     ]
    }
   ],
   "source": [
    "!gdalinfo files_to_zip/1020010042D39D00.r100_ortho_1.0m_ba.tif"
   ]
  },
  {
   "cell_type": "code",
   "execution_count": 8,
   "id": "f32ca0cb-c34c-4388-b3a8-33f11def6286",
   "metadata": {},
   "outputs": [],
   "source": [
    "!mkdir -p files_to_zip"
   ]
  },
  {
   "cell_type": "code",
   "execution_count": 44,
   "id": "394f6b57-4629-4965-bbfc-fc98a6f38bd6",
   "metadata": {},
   "outputs": [
    {
     "name": "stdout",
     "output_type": "stream",
     "text": [
      "Interpolating nadir_ortho\n",
      "Filling edges with rasterio fillnodata\n",
      "Writing to file\n",
      "Done with mosaic_full128_1020010042D39D00.r100_ortho_1.0m_ba.tif\n",
      "Interpolating offnadir_ortho\n",
      "Filling edges with rasterio fillnodata\n",
      "Writing to file\n",
      "Done with mosaic_full128_1020010043455300.r100_ortho_1.0m_ba.tif\n",
      "Interpolating initial_dem_root\n",
      "Filling edges with rasterio fillnodata\n",
      "Writing to file\n",
      "Done with mosaic_full128_WV01_20150911_1020010042D39D00_1020010043455300_aligned_crop_1.0m-DEM_holes_filled.tif\n",
      "Interpolating initial_dem_unfilled_root\n",
      "Filling edges with rasterio fillnodata\n",
      "Writing to file\n",
      "Done with mosaic_full128_WV01_20150911_1020010042D39D00_1020010043455300_aligned_crop_1.0m-DEM.tif\n",
      "Interpolating target_root\n",
      "Filling edges with rasterio fillnodata\n",
      "Writing to file\n",
      "Done with mosaic_full128_USGS_LPC_WA_MtBaker_2015_*_LAS_2017_32610_first_filt_v1.3_1.0m-DEM_holes_filled.tif\n",
      "Interpolating triangulation_error_root\n",
      "Filling edges with rasterio fillnodata\n",
      "Writing to file\n",
      "Done with mosaic_full128_WV01_20150911_1020010042D39D00_1020010043455300_aligned_crop_1.0m-IntersectionErr.tif\n"
     ]
    }
   ],
   "source": [
    "for name, fn in patterns.items():\n",
    "    print(f\"Interpolating {name}\")\n",
    "    fp = f\"mosaic_full128_{fn}\"\n",
    "    \n",
    "#     with rasterio.open(fn) as arr:\n",
    "#         out = rasterio.fill.fillnodata(arr, arr != NODATA_VALUE_FOR_EDGES)\n",
    "#     with rasterio.open(fp, \"w\") as out_fn:\n",
    "#         out_fn.write(out)\n",
    "\n",
    "    rxr_ds = rioxarray.open_rasterio(fp) # without masked=True, only want to modify missing edges between tiles\n",
    "    # rxr_ds.rio.set_nodata(NODATA_VALUE_FOR_EDGES) # intersection error holes are 0s so these holes *won't* be interpolated\n",
    "    # print(\"Interpolating with rioxarray\")\n",
    "    # rxr_ds.rio.interpolate_na(\"nearest\")\n",
    "    print(\"Filling edges with rasterio fillnodata\")\n",
    "    rxr_ds.data = rasterio.fill.fillnodata(rxr_ds, (rxr_ds != 0) & (rxr_ds != NODATA_VALUE_FOR_EDGES))#, smoothing_iterations=1)\n",
    "    print(\"Writing to file\")\n",
    "    rxr_ds.rio.to_raster(\"files_to_zip/\"+fn)\n",
    "    print(f\"Done with {fp}\")\n",
    "    # break"
   ]
  },
  {
   "cell_type": "code",
   "execution_count": null,
   "id": "9bd5ad24-5807-442c-97c1-9fca5de01ae2",
   "metadata": {},
   "outputs": [],
   "source": []
  }
 ],
 "metadata": {
  "kernelspec": {
   "display_name": "Python 3 (ipykernel)",
   "language": "python",
   "name": "python3"
  },
  "language_info": {
   "codemirror_mode": {
    "name": "ipython",
    "version": 3
   },
   "file_extension": ".py",
   "mimetype": "text/x-python",
   "name": "python",
   "nbconvert_exporter": "python",
   "pygments_lexer": "ipython3",
   "version": "3.10.9"
  }
 },
 "nbformat": 4,
 "nbformat_minor": 5
}
